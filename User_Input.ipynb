{
  "nbformat": 4,
  "nbformat_minor": 0,
  "metadata": {
    "colab": {
      "provenance": [],
      "authorship_tag": "ABX9TyPNc8Kf+O+13+qnyGU7n3PN",
      "include_colab_link": true
    },
    "kernelspec": {
      "name": "python3",
      "display_name": "Python 3"
    },
    "language_info": {
      "name": "python"
    }
  },
  "cells": [
    {
      "cell_type": "markdown",
      "metadata": {
        "id": "view-in-github",
        "colab_type": "text"
      },
      "source": [
        "<a href=\"https://colab.research.google.com/github/Davron030901/Daily_python/blob/main/User_Input.ipynb\" target=\"_parent\"><img src=\"https://colab.research.google.com/assets/colab-badge.svg\" alt=\"Open In Colab\"/></a>"
      ]
    },
    {
      "cell_type": "markdown",
      "source": [
        "***User Input***\n",
        "\n",
        "Python allows for user input.\n",
        "\n",
        "That means we are able to ask the user for input.\n",
        "\n",
        "The method is a bit different in Python 3.6 than Python 2.7.\n",
        "\n",
        "*Python 3.6* uses the *input()* method.\n",
        "\n",
        "*Python 2.7* uses the *raw_input()* method.\n",
        "\n",
        "The following example asks for the username, and when you entered the username, it gets printed on the screen:\n",
        "\n"
      ],
      "metadata": {
        "id": "xiKgADiEOhx3"
      }
    },
    {
      "cell_type": "markdown",
      "source": [
        "Python 3.6"
      ],
      "metadata": {
        "id": "xCbDTigwOrii"
      }
    },
    {
      "cell_type": "code",
      "execution_count": null,
      "metadata": {
        "colab": {
          "base_uri": "https://localhost:8080/"
        },
        "id": "WLNtJePKOaap",
        "outputId": "be784072-c260-446b-c210-a95a136a20c1"
      },
      "outputs": [
        {
          "output_type": "stream",
          "name": "stdout",
          "text": [
            "Enter username:sarf\n",
            "Username is: sarf\n"
          ]
        }
      ],
      "source": [
        "username = input(\"Enter username:\")\n",
        "print(\"Username is: \" + username)"
      ]
    },
    {
      "cell_type": "markdown",
      "source": [
        "Python 2.7"
      ],
      "metadata": {
        "id": "mCiPQlX8Owne"
      }
    },
    {
      "cell_type": "code",
      "source": [
        "username =raw_input(\"Enter username:\")\n",
        "print(\"Username is: \" + username)"
      ],
      "metadata": {
        "colab": {
          "base_uri": "https://localhost:8080/",
          "height": 106
        },
        "id": "mhbMjYAnOqvn",
        "outputId": "65a8ff64-c65d-4bb0-efcb-a1c77e4d5234"
      },
      "execution_count": null,
      "outputs": [
        {
          "output_type": "error",
          "ename": "SyntaxError",
          "evalue": "invalid syntax (<ipython-input-3-7e0e3ebdf54b>, line 1)",
          "traceback": [
            "\u001b[0;36m  File \u001b[0;32m\"<ipython-input-3-7e0e3ebdf54b>\"\u001b[0;36m, line \u001b[0;32m1\u001b[0m\n\u001b[0;31m    username = \"\"\"raw_\"\"\"input(\"Enter username:\")\u001b[0m\n\u001b[0m                         ^\u001b[0m\n\u001b[0;31mSyntaxError\u001b[0m\u001b[0;31m:\u001b[0m invalid syntax\n"
          ]
        }
      ]
    },
    {
      "cell_type": "code",
      "source": [],
      "metadata": {
        "id": "_oRgeEJxQ2KB"
      },
      "execution_count": null,
      "outputs": []
    }
  ]
}