{
  "nbformat": 4,
  "nbformat_minor": 0,
  "metadata": {
    "colab": {
      "provenance": [],
      "authorship_tag": "ABX9TyNboZrvbioE+2dhu4ORNpSi",
      "include_colab_link": true
    },
    "kernelspec": {
      "name": "python3",
      "display_name": "Python 3"
    },
    "language_info": {
      "name": "python"
    }
  },
  "cells": [
    {
      "cell_type": "markdown",
      "metadata": {
        "id": "view-in-github",
        "colab_type": "text"
      },
      "source": [
        "<a href=\"https://colab.research.google.com/github/Davron030901/Daily_python/blob/main/Time.ipynb\" target=\"_parent\"><img src=\"https://colab.research.google.com/assets/colab-badge.svg\" alt=\"Open In Colab\"/></a>"
      ]
    },
    {
      "cell_type": "code",
      "source": [
        "import dtime"
      ],
      "metadata": {
        "id": "sKRCwHzHzkhT"
      },
      "execution_count": null,
      "outputs": []
    },
    {
      "cell_type": "code",
      "source": [
        "class User:\n",
        "   def __init__(self, name, parol):\n",
        "      self.name = name\n",
        "      self.parol = parol\n",
        "      self.isauthontificated = False\n",
        "\n",
        "   def login(self, username, password):\n",
        "      if self.name == username and self.parol == password:\n",
        "         self.isauthontificated = True\n",
        "         print(\"Tizimga muvaffaqiyatli kirdingiz!\")\n",
        "      else:\n",
        "         print(\"Username yoki parol xato\")\n",
        "\n",
        "   def logout(self):\n",
        "      self.isauthontificated = False\n",
        "      print(f\"{self.name} foydalanuvchi tizmidan muvvaffaqqiyatli chiqarildi\" )\n",
        "\n",
        "class Admin(User):\n",
        "   def __init__(self, name, parol):\n",
        "      super().__init__(name, parol)\n",
        "      self.products = []\n",
        "\n",
        "   def add_product(self, prod_name, prod_price):\n",
        "      product = {\"name\": prod_name, \"price\": prod_price}\n",
        "      self.products.append(product)\n",
        "      print(f\"{product['name']} mahsuloti qo'shildi\")\n",
        "\n",
        "   def remove_product(self, prod_name):\n",
        "      self.product = [product for product in self.products if product['name']==prod_name]\n",
        "      print(f\"{self.product} o'chirildi\")\n",
        "\n",
        "   def view_products(self):\n",
        "      print(\"Mahsulotlar ro'yhati: \\n\")\n",
        "      for prod in self.products:\n",
        "         print(f\"* {prod['name']}: {prod['price']} so'm\")\n",
        "\n",
        "class Customer(User):\n",
        "   def __init__(self, name, parol):\n",
        "      super().__init__(name, parol)\n",
        "      self.cart = []\n",
        "\n",
        "   def add_to_cart(self, product):\n",
        "      self.cart.append(product)\n",
        "      print(f\"{product} Mahsulot savatchaga qo'shildi\")\n",
        "\n",
        "   def view_cart(self):\n",
        "      if not self.cart:\n",
        "         print(\"Savatcha bo'sh.\")\n",
        "      else:\n",
        "         print(\"Savatchadagi mahsulotlar: \\n\")\n",
        "         for product in self.cart:\n",
        "            print(f\"* {product['name']}: {product['price']}\")"
      ],
      "metadata": {
        "id": "Uk6INu9gz5rf"
      },
      "execution_count": 1,
      "outputs": []
    },
    {
      "cell_type": "code",
      "source": [
        "user = User(\"admin\", \"123\")\n",
        "admin = Admin(\"admin\", \"123\")\n",
        "admin.login(\"admin\", \"123\")\n",
        "# admin.logout()\n",
        "admin.add_product(\"Laptop\", \"1234567\")\n",
        "admin.view_products()\n",
        "custom = Customer(\"user\", \"123\")\n",
        "custom.add_to_cart({\"name\" : \"Laptop\", \"price\": 50000000})\n",
        "custom.view_cart()"
      ],
      "metadata": {
        "colab": {
          "base_uri": "https://localhost:8080/"
        },
        "id": "4mDpyaDl0CLs",
        "outputId": "97d716ed-8920-406e-cb76-dedc5682e308"
      },
      "execution_count": 2,
      "outputs": [
        {
          "output_type": "stream",
          "name": "stdout",
          "text": [
            "Tizimga muvaffaqiyatli kirdingiz!\n",
            "Laptop mahsuloti qo'shildi\n",
            "Mahsulotlar ro'yhati: \n",
            "\n",
            "* Laptop: 1234567 so'm\n",
            "{'name': 'Laptop', 'price': 50000000} Mahsulot savatchaga qo'shildi\n",
            "Savatchadagi mahsulotlar: \n",
            "\n",
            "* Laptop: 50000000\n"
          ]
        }
      ]
    },
    {
      "cell_type": "code",
      "source": [
        "class User:\n",
        "   def __init__(self, name, parol):\n",
        "      self.name = name\n",
        "      self.parol = parol\n",
        "      self.isauthontificated = False\n",
        "\n",
        "   def login(self, username, password):\n",
        "      if self.name == username and self.parol == password:\n",
        "         self.isauthontificated = True\n",
        "         print(\"Tizimga muvaffaqiyatli kirdingiz!\")\n",
        "      else:\n",
        "         print(\"Username yoki parol xato\")\n",
        "\n",
        "   def logout(self):\n",
        "      self.isauthontificated = False\n",
        "      print(f\"{self.name} foydalanuvchi tizmidan muvvaffaqqiyatli chiqarildi\" )\n",
        "\n",
        "class Admin(User):\n",
        "   def __init__(self, name, parol):\n",
        "      super().__init__(name, parol)\n",
        "      self.products = []\n",
        "\n",
        "   def add_product(self, prod_name, prod_price):\n",
        "      product = {\"name\": prod_name, \"price\": prod_price}\n",
        "      self.products.append(product)\n",
        "      print(f\"{product['name']} mahsuloti qo'shildi\")\n",
        "\n",
        "   def remove_product(self, prod_name):\n",
        "      self.product = [product for product in self.products if product['name']==prod_name]\n",
        "      print(f\"{self.product} o'chirildi\")\n",
        "\n",
        "   def view_products(self):\n",
        "      print(\"Mahsulotlar ro'yhati: \\n\")\n",
        "      for prod in self.products:\n",
        "         print(f\"* {prod['name']}: {prod['price']} so'm\")\n",
        "\n",
        "class Customer(User):\n",
        "   def __init__(self, name, parol):\n",
        "      super().__init__(name, parol)\n",
        "      self.cart = []\n",
        "\n",
        "   def add_to_cart(self, product):\n",
        "      self.cart.append(product)\n",
        "      print(f\"{product} Mahsulot savatchaga qo'shildi\")\n",
        "\n",
        "   def view_cart(self):\n",
        "      if not self.cart:\n",
        "         print(\"Savatcha bo'sh.\")\n",
        "      else:\n",
        "         print(\"Savatchadagi mahsulotlar: \\n\")\n",
        "         for product in self.cart:\n",
        "            print(f\"* {product['name']}: {product['price']}\")"
      ],
      "metadata": {
        "id": "ttdAsUc20Qrk"
      },
      "execution_count": 3,
      "outputs": []
    },
    {
      "cell_type": "code",
      "source": [
        "user = User(\"admin\", \"123\")\n",
        "admin = Admin(\"admin\", \"123\")\n",
        "admin.login(\"admin\", \"123\")\n",
        "# admin.logout()\n",
        "admin.add_product(\"Laptop\", \"1234567\")\n",
        "admin.view_products()\n",
        "custom = Customer(\"user\", \"123\")\n",
        "custom.add_to_cart({\"name\" : \"Laptop\", \"price\": 50000000})\n",
        "custom.view_cart()"
      ],
      "metadata": {
        "colab": {
          "base_uri": "https://localhost:8080/"
        },
        "id": "mn0H0c_L0ZwJ",
        "outputId": "11c038f0-a6be-4dcf-c484-9915a72ec3a6"
      },
      "execution_count": 4,
      "outputs": [
        {
          "output_type": "stream",
          "name": "stdout",
          "text": [
            "Tizimga muvaffaqiyatli kirdingiz!\n",
            "Laptop mahsuloti qo'shildi\n",
            "Mahsulotlar ro'yhati: \n",
            "\n",
            "* Laptop: 1234567 so'm\n",
            "{'name': 'Laptop', 'price': 50000000} Mahsulot savatchaga qo'shildi\n",
            "Savatchadagi mahsulotlar: \n",
            "\n",
            "* Laptop: 50000000\n"
          ]
        }
      ]
    },
    {
      "cell_type": "code",
      "source": [
        "from datetime import datetime"
      ],
      "metadata": {
        "id": "O0wjSH-O0bIx"
      },
      "execution_count": 19,
      "outputs": []
    },
    {
      "cell_type": "code",
      "source": [
        "# Get current date and time\n",
        "current_time = datetime.now()\n",
        "print(current_time)\n",
        "\n",
        "# Create a specific date\n",
        "specific_date = datetime(2024, 1, 15,5,9,29,564740)\n",
        "print(specific_date)\n",
        "\n",
        "# Format date as a string\n",
        "formatted_date = current_time.strftime(\"%Y-%m-%d %H:%M:%S\")\n",
        "print(formatted_date)"
      ],
      "metadata": {
        "colab": {
          "base_uri": "https://localhost:8080/"
        },
        "id": "xLxUoBRx0g_J",
        "outputId": "7f4abac8-1450-40fd-a708-0812282c7581"
      },
      "execution_count": 14,
      "outputs": [
        {
          "output_type": "stream",
          "name": "stdout",
          "text": [
            "2024-11-27 04:16:46.764888\n",
            "2024-01-15 05:09:29.564740\n",
            "2024-11-27 04:16:46\n"
          ]
        }
      ]
    },
    {
      "cell_type": "code",
      "source": [
        "current_time = datetime.utcnow()\n",
        "print(current_time)\n"
      ],
      "metadata": {
        "colab": {
          "base_uri": "https://localhost:8080/"
        },
        "id": "OPyu-9Ak0tsh",
        "outputId": "3fbd698f-9db0-493d-948c-21e612126c1c"
      },
      "execution_count": 15,
      "outputs": [
        {
          "output_type": "stream",
          "name": "stdout",
          "text": [
            "2024-11-27 04:17:48.750068\n"
          ]
        }
      ]
    },
    {
      "cell_type": "code",
      "source": [
        "datetime.today()"
      ],
      "metadata": {
        "colab": {
          "base_uri": "https://localhost:8080/"
        },
        "id": "f51q4Pt22DTT",
        "outputId": "b65c2b28-cfa8-406e-a773-32b1a506ed58"
      },
      "execution_count": 17,
      "outputs": [
        {
          "output_type": "execute_result",
          "data": {
            "text/plain": [
              "datetime.datetime(2024, 11, 27, 4, 21, 30, 607502)"
            ]
          },
          "metadata": {},
          "execution_count": 17
        }
      ]
    },
    {
      "cell_type": "code",
      "source": [
        "import calendar\n",
        "import datetime\n",
        "\n",
        "# Get the calendar for a specific month and year\n",
        "cal = calendar.month(2024, 3)  # March 2024\n",
        "print(cal)\n",
        "\n",
        "# Get a text calendar\n",
        "text_calendar = calendar.TextCalendar()\n",
        "print(text_calendar.formatmonth(2024, 3))  # March 2024"
      ],
      "metadata": {
        "colab": {
          "base_uri": "https://localhost:8080/"
        },
        "id": "Wq_ODEKH2jqT",
        "outputId": "b2579ed5-dc7e-420f-bd95-707035675deb"
      },
      "execution_count": 29,
      "outputs": [
        {
          "output_type": "stream",
          "name": "stdout",
          "text": [
            "     March 2024\n",
            "Mo Tu We Th Fr Sa Su\n",
            "             1  2  3\n",
            " 4  5  6  7  8  9 10\n",
            "11 12 13 14 15 16 17\n",
            "18 19 20 21 22 23 24\n",
            "25 26 27 28 29 30 31\n",
            "\n",
            "     March 2024\n",
            "Mo Tu We Th Fr Sa Su\n",
            "             1  2  3\n",
            " 4  5  6  7  8  9 10\n",
            "11 12 13 14 15 16 17\n",
            "18 19 20 21 22 23 24\n",
            "25 26 27 28 29 30 31\n",
            "\n"
          ]
        }
      ]
    },
    {
      "cell_type": "code",
      "source": [
        "# Get day of the week (0 = Monday, 6 = Sunday)\n",
        "day_of_week = calendar.weekday(2024, 3, 15)\n",
        "print(f\"Day of week: {day_of_week}\")\n",
        "\n",
        "# Check if a year is a leap year\n",
        "is_leap = calendar.isleap(2024)\n",
        "print(f\"Is 2024 a leap year? {is_leap}\")\n",
        "\n",
        "# Get number of days in a month\n",
        "days_in_month = calendar.monthrange(2024, 3)\n",
        "print(f\"Days in March 2024: {days_in_month[1]}\")"
      ],
      "metadata": {
        "colab": {
          "base_uri": "https://localhost:8080/"
        },
        "id": "-os6fJU33T0Y",
        "outputId": "5e5e7fae-275d-4373-8cd2-ba1fcc211b80"
      },
      "execution_count": 21,
      "outputs": [
        {
          "output_type": "stream",
          "name": "stdout",
          "text": [
            "Day of week: 4\n",
            "Is 2024 a leap year? True\n",
            "Days in March 2024: 31\n"
          ]
        }
      ]
    },
    {
      "cell_type": "code",
      "source": [
        "# Current date\n",
        "today = datetime.date.today()\n",
        "\n",
        "# Add or subtract days\n",
        "from datetime import timedelta\n",
        "next_week = today + timedelta(days=7)\n",
        "previous_month = today - timedelta(days=30)\n",
        "\n",
        "# First and last day of current month\n",
        "first_day = today.replace(day=1)\n",
        "import calendar\n",
        "last_day = today.replace(day=calendar.monthrange(today.year, today.month)[1])"
      ],
      "metadata": {
        "id": "ggKmyiur3bJr"
      },
      "execution_count": 22,
      "outputs": []
    },
    {
      "cell_type": "code",
      "source": [
        "# Custom calendar with different week start day\n",
        "custom_cal = calendar.LocaleTextCalendar(firstweekday=6)  # Sunday start\n",
        "print(custom_cal.formatmonth(2024, 3))"
      ],
      "metadata": {
        "colab": {
          "base_uri": "https://localhost:8080/"
        },
        "id": "AF503feb3kPv",
        "outputId": "4e2a1511-cfce-4436-8b04-af4e94673d99"
      },
      "execution_count": 23,
      "outputs": [
        {
          "output_type": "stream",
          "name": "stdout",
          "text": [
            "     March 2024\n",
            "Su Mo Tu We Th Fr Sa\n",
            "                1  2\n",
            " 3  4  5  6  7  8  9\n",
            "10 11 12 13 14 15 16\n",
            "17 18 19 20 21 22 23\n",
            "24 25 26 27 28 29 30\n",
            "31\n",
            "\n"
          ]
        }
      ]
    },
    {
      "cell_type": "code",
      "source": [
        "from datetime import datetime\n",
        "\n",
        "bugun = datetime.now()\n",
        "kun_nomi = bugun.strftime(\"%A\")  # Haftaning to'liq nomi\n",
        "kun_qisqasi = bugun.strftime(\"%a\")  # Haftaning qisqartirilgan nomi\n",
        "\n",
        "print(f\"Bugun: {kun_nomi}\")\n",
        "print(f\"Bugun: {kun_qisqasi}\")"
      ],
      "metadata": {
        "colab": {
          "base_uri": "https://localhost:8080/"
        },
        "id": "igj-xJJl3pFY",
        "outputId": "945f920c-222e-47eb-b727-a0f6e744ea0f"
      },
      "execution_count": 27,
      "outputs": [
        {
          "output_type": "stream",
          "name": "stdout",
          "text": [
            "Bugun: Wednesday\n",
            "Bugun: Wed\n"
          ]
        }
      ]
    },
    {
      "cell_type": "code",
      "source": [
        "c=calendar.Calendar(0)\n",
        "c.monthdayscalendar(2024,3)"
      ],
      "metadata": {
        "colab": {
          "base_uri": "https://localhost:8080/"
        },
        "id": "C5p7IQD335iW",
        "outputId": "5f15c17d-d7d6-4d0b-b602-614b82f31642"
      },
      "execution_count": 31,
      "outputs": [
        {
          "output_type": "execute_result",
          "data": {
            "text/plain": [
              "[[0, 0, 0, 0, 1, 2, 3],\n",
              " [4, 5, 6, 7, 8, 9, 10],\n",
              " [11, 12, 13, 14, 15, 16, 17],\n",
              " [18, 19, 20, 21, 22, 23, 24],\n",
              " [25, 26, 27, 28, 29, 30, 31]]"
            ]
          },
          "metadata": {},
          "execution_count": 31
        }
      ]
    },
    {
      "cell_type": "code",
      "source": [
        "c=calendar.TextCalendar()\n",
        "c.prmonth(2024,2)"
      ],
      "metadata": {
        "colab": {
          "base_uri": "https://localhost:8080/"
        },
        "id": "zTCfh_6O4VZK",
        "outputId": "e2df3b9b-d6df-4ad7-8798-91c7e3241fdd"
      },
      "execution_count": 64,
      "outputs": [
        {
          "output_type": "stream",
          "name": "stdout",
          "text": [
            "   February 2024\n",
            "Mo Tu We Th Fr Sa Su\n",
            "          1  2  3  4\n",
            " 5  6  7  8  9 10 11\n",
            "12 13 14 15 16 17 18\n",
            "19 20 21 22 23 24 25\n",
            "26 27 28 29\n"
          ]
        }
      ]
    },
    {
      "cell_type": "code",
      "source": [
        "import calendar\n",
        "\n",
        "# Print calendar for the entire year\n",
        "def print_full_year_calendar(year):\n",
        "    # Create a text calendar object\n",
        "    cal = calendar.TextCalendar(firstweekday=0)  # 0 = Monday\n",
        "\n",
        "    # Print calendar for each month\n",
        "    for month in range(1, 13):\n",
        "        # Print month name and calendar\n",
        "        print(calendar.month_name[month].center(20))\n",
        "        print(cal.formatmonth(year, month))\n",
        "        print()  # Add a blank line between months\n",
        "\n",
        "# Print current year's calendar\n",
        "current_year = calendar.datetime.date.today().year\n",
        "print_full_year_calendar(current_year)\n",
        "\n",
        "# If you want a specific year, just change the number\n",
        "# print_full_year_calendar(2025)"
      ],
      "metadata": {
        "colab": {
          "base_uri": "https://localhost:8080/"
        },
        "id": "96p9_PI84hZZ",
        "outputId": "d7deeaa1-7d68-4be9-ff49-c851d6b5ee26"
      },
      "execution_count": 38,
      "outputs": [
        {
          "output_type": "stream",
          "name": "stdout",
          "text": [
            "      January       \n",
            "    January 2024\n",
            "Mo Tu We Th Fr Sa Su\n",
            " 1  2  3  4  5  6  7\n",
            " 8  9 10 11 12 13 14\n",
            "15 16 17 18 19 20 21\n",
            "22 23 24 25 26 27 28\n",
            "29 30 31\n",
            "\n",
            "\n",
            "      February      \n",
            "   February 2024\n",
            "Mo Tu We Th Fr Sa Su\n",
            "          1  2  3  4\n",
            " 5  6  7  8  9 10 11\n",
            "12 13 14 15 16 17 18\n",
            "19 20 21 22 23 24 25\n",
            "26 27 28 29\n",
            "\n",
            "\n",
            "       March        \n",
            "     March 2024\n",
            "Mo Tu We Th Fr Sa Su\n",
            "             1  2  3\n",
            " 4  5  6  7  8  9 10\n",
            "11 12 13 14 15 16 17\n",
            "18 19 20 21 22 23 24\n",
            "25 26 27 28 29 30 31\n",
            "\n",
            "\n",
            "       April        \n",
            "     April 2024\n",
            "Mo Tu We Th Fr Sa Su\n",
            " 1  2  3  4  5  6  7\n",
            " 8  9 10 11 12 13 14\n",
            "15 16 17 18 19 20 21\n",
            "22 23 24 25 26 27 28\n",
            "29 30\n",
            "\n",
            "\n",
            "        May         \n",
            "      May 2024\n",
            "Mo Tu We Th Fr Sa Su\n",
            "       1  2  3  4  5\n",
            " 6  7  8  9 10 11 12\n",
            "13 14 15 16 17 18 19\n",
            "20 21 22 23 24 25 26\n",
            "27 28 29 30 31\n",
            "\n",
            "\n",
            "        June        \n",
            "     June 2024\n",
            "Mo Tu We Th Fr Sa Su\n",
            "                1  2\n",
            " 3  4  5  6  7  8  9\n",
            "10 11 12 13 14 15 16\n",
            "17 18 19 20 21 22 23\n",
            "24 25 26 27 28 29 30\n",
            "\n",
            "\n",
            "        July        \n",
            "     July 2024\n",
            "Mo Tu We Th Fr Sa Su\n",
            " 1  2  3  4  5  6  7\n",
            " 8  9 10 11 12 13 14\n",
            "15 16 17 18 19 20 21\n",
            "22 23 24 25 26 27 28\n",
            "29 30 31\n",
            "\n",
            "\n",
            "       August       \n",
            "    August 2024\n",
            "Mo Tu We Th Fr Sa Su\n",
            "          1  2  3  4\n",
            " 5  6  7  8  9 10 11\n",
            "12 13 14 15 16 17 18\n",
            "19 20 21 22 23 24 25\n",
            "26 27 28 29 30 31\n",
            "\n",
            "\n",
            "     September      \n",
            "   September 2024\n",
            "Mo Tu We Th Fr Sa Su\n",
            "                   1\n",
            " 2  3  4  5  6  7  8\n",
            " 9 10 11 12 13 14 15\n",
            "16 17 18 19 20 21 22\n",
            "23 24 25 26 27 28 29\n",
            "30\n",
            "\n",
            "\n",
            "      October       \n",
            "    October 2024\n",
            "Mo Tu We Th Fr Sa Su\n",
            "    1  2  3  4  5  6\n",
            " 7  8  9 10 11 12 13\n",
            "14 15 16 17 18 19 20\n",
            "21 22 23 24 25 26 27\n",
            "28 29 30 31\n",
            "\n",
            "\n",
            "      November      \n",
            "   November 2024\n",
            "Mo Tu We Th Fr Sa Su\n",
            "             1  2  3\n",
            " 4  5  6  7  8  9 10\n",
            "11 12 13 14 15 16 17\n",
            "18 19 20 21 22 23 24\n",
            "25 26 27 28 29 30\n",
            "\n",
            "\n",
            "      December      \n",
            "   December 2024\n",
            "Mo Tu We Th Fr Sa Su\n",
            "                   1\n",
            " 2  3  4  5  6  7  8\n",
            " 9 10 11 12 13 14 15\n",
            "16 17 18 19 20 21 22\n",
            "23 24 25 26 27 28 29\n",
            "30 31\n",
            "\n",
            "\n"
          ]
        }
      ]
    },
    {
      "cell_type": "code",
      "source": [
        "import calendar\n",
        "\n",
        "# Create HTML calendar for a year\n",
        "def create_html_calendar(year):\n",
        "    cal = calendar.HTMLCalendar()\n",
        "    return cal.formatyear(year)\n",
        "\n",
        "# Generate HTML calendar for current year\n",
        "html_cal = create_html_calendar(calendar.datetime.date.today().year)\n",
        "print(html_cal)"
      ],
      "metadata": {
        "colab": {
          "base_uri": "https://localhost:8080/"
        },
        "id": "oVeh4RIP5BQk",
        "outputId": "08351120-11be-4097-a1e3-1f70910f346e"
      },
      "execution_count": 39,
      "outputs": [
        {
          "output_type": "stream",
          "name": "stdout",
          "text": [
            "<table border=\"0\" cellpadding=\"0\" cellspacing=\"0\" class=\"year\">\n",
            "<tr><th colspan=\"3\" class=\"year\">2024</th></tr><tr><td><table border=\"0\" cellpadding=\"0\" cellspacing=\"0\" class=\"month\">\n",
            "<tr><th colspan=\"7\" class=\"month\">January</th></tr>\n",
            "<tr><th class=\"mon\">Mon</th><th class=\"tue\">Tue</th><th class=\"wed\">Wed</th><th class=\"thu\">Thu</th><th class=\"fri\">Fri</th><th class=\"sat\">Sat</th><th class=\"sun\">Sun</th></tr>\n",
            "<tr><td class=\"mon\">1</td><td class=\"tue\">2</td><td class=\"wed\">3</td><td class=\"thu\">4</td><td class=\"fri\">5</td><td class=\"sat\">6</td><td class=\"sun\">7</td></tr>\n",
            "<tr><td class=\"mon\">8</td><td class=\"tue\">9</td><td class=\"wed\">10</td><td class=\"thu\">11</td><td class=\"fri\">12</td><td class=\"sat\">13</td><td class=\"sun\">14</td></tr>\n",
            "<tr><td class=\"mon\">15</td><td class=\"tue\">16</td><td class=\"wed\">17</td><td class=\"thu\">18</td><td class=\"fri\">19</td><td class=\"sat\">20</td><td class=\"sun\">21</td></tr>\n",
            "<tr><td class=\"mon\">22</td><td class=\"tue\">23</td><td class=\"wed\">24</td><td class=\"thu\">25</td><td class=\"fri\">26</td><td class=\"sat\">27</td><td class=\"sun\">28</td></tr>\n",
            "<tr><td class=\"mon\">29</td><td class=\"tue\">30</td><td class=\"wed\">31</td><td class=\"noday\">&nbsp;</td><td class=\"noday\">&nbsp;</td><td class=\"noday\">&nbsp;</td><td class=\"noday\">&nbsp;</td></tr>\n",
            "</table>\n",
            "</td><td><table border=\"0\" cellpadding=\"0\" cellspacing=\"0\" class=\"month\">\n",
            "<tr><th colspan=\"7\" class=\"month\">February</th></tr>\n",
            "<tr><th class=\"mon\">Mon</th><th class=\"tue\">Tue</th><th class=\"wed\">Wed</th><th class=\"thu\">Thu</th><th class=\"fri\">Fri</th><th class=\"sat\">Sat</th><th class=\"sun\">Sun</th></tr>\n",
            "<tr><td class=\"noday\">&nbsp;</td><td class=\"noday\">&nbsp;</td><td class=\"noday\">&nbsp;</td><td class=\"thu\">1</td><td class=\"fri\">2</td><td class=\"sat\">3</td><td class=\"sun\">4</td></tr>\n",
            "<tr><td class=\"mon\">5</td><td class=\"tue\">6</td><td class=\"wed\">7</td><td class=\"thu\">8</td><td class=\"fri\">9</td><td class=\"sat\">10</td><td class=\"sun\">11</td></tr>\n",
            "<tr><td class=\"mon\">12</td><td class=\"tue\">13</td><td class=\"wed\">14</td><td class=\"thu\">15</td><td class=\"fri\">16</td><td class=\"sat\">17</td><td class=\"sun\">18</td></tr>\n",
            "<tr><td class=\"mon\">19</td><td class=\"tue\">20</td><td class=\"wed\">21</td><td class=\"thu\">22</td><td class=\"fri\">23</td><td class=\"sat\">24</td><td class=\"sun\">25</td></tr>\n",
            "<tr><td class=\"mon\">26</td><td class=\"tue\">27</td><td class=\"wed\">28</td><td class=\"thu\">29</td><td class=\"noday\">&nbsp;</td><td class=\"noday\">&nbsp;</td><td class=\"noday\">&nbsp;</td></tr>\n",
            "</table>\n",
            "</td><td><table border=\"0\" cellpadding=\"0\" cellspacing=\"0\" class=\"month\">\n",
            "<tr><th colspan=\"7\" class=\"month\">March</th></tr>\n",
            "<tr><th class=\"mon\">Mon</th><th class=\"tue\">Tue</th><th class=\"wed\">Wed</th><th class=\"thu\">Thu</th><th class=\"fri\">Fri</th><th class=\"sat\">Sat</th><th class=\"sun\">Sun</th></tr>\n",
            "<tr><td class=\"noday\">&nbsp;</td><td class=\"noday\">&nbsp;</td><td class=\"noday\">&nbsp;</td><td class=\"noday\">&nbsp;</td><td class=\"fri\">1</td><td class=\"sat\">2</td><td class=\"sun\">3</td></tr>\n",
            "<tr><td class=\"mon\">4</td><td class=\"tue\">5</td><td class=\"wed\">6</td><td class=\"thu\">7</td><td class=\"fri\">8</td><td class=\"sat\">9</td><td class=\"sun\">10</td></tr>\n",
            "<tr><td class=\"mon\">11</td><td class=\"tue\">12</td><td class=\"wed\">13</td><td class=\"thu\">14</td><td class=\"fri\">15</td><td class=\"sat\">16</td><td class=\"sun\">17</td></tr>\n",
            "<tr><td class=\"mon\">18</td><td class=\"tue\">19</td><td class=\"wed\">20</td><td class=\"thu\">21</td><td class=\"fri\">22</td><td class=\"sat\">23</td><td class=\"sun\">24</td></tr>\n",
            "<tr><td class=\"mon\">25</td><td class=\"tue\">26</td><td class=\"wed\">27</td><td class=\"thu\">28</td><td class=\"fri\">29</td><td class=\"sat\">30</td><td class=\"sun\">31</td></tr>\n",
            "</table>\n",
            "</td></tr><tr><td><table border=\"0\" cellpadding=\"0\" cellspacing=\"0\" class=\"month\">\n",
            "<tr><th colspan=\"7\" class=\"month\">April</th></tr>\n",
            "<tr><th class=\"mon\">Mon</th><th class=\"tue\">Tue</th><th class=\"wed\">Wed</th><th class=\"thu\">Thu</th><th class=\"fri\">Fri</th><th class=\"sat\">Sat</th><th class=\"sun\">Sun</th></tr>\n",
            "<tr><td class=\"mon\">1</td><td class=\"tue\">2</td><td class=\"wed\">3</td><td class=\"thu\">4</td><td class=\"fri\">5</td><td class=\"sat\">6</td><td class=\"sun\">7</td></tr>\n",
            "<tr><td class=\"mon\">8</td><td class=\"tue\">9</td><td class=\"wed\">10</td><td class=\"thu\">11</td><td class=\"fri\">12</td><td class=\"sat\">13</td><td class=\"sun\">14</td></tr>\n",
            "<tr><td class=\"mon\">15</td><td class=\"tue\">16</td><td class=\"wed\">17</td><td class=\"thu\">18</td><td class=\"fri\">19</td><td class=\"sat\">20</td><td class=\"sun\">21</td></tr>\n",
            "<tr><td class=\"mon\">22</td><td class=\"tue\">23</td><td class=\"wed\">24</td><td class=\"thu\">25</td><td class=\"fri\">26</td><td class=\"sat\">27</td><td class=\"sun\">28</td></tr>\n",
            "<tr><td class=\"mon\">29</td><td class=\"tue\">30</td><td class=\"noday\">&nbsp;</td><td class=\"noday\">&nbsp;</td><td class=\"noday\">&nbsp;</td><td class=\"noday\">&nbsp;</td><td class=\"noday\">&nbsp;</td></tr>\n",
            "</table>\n",
            "</td><td><table border=\"0\" cellpadding=\"0\" cellspacing=\"0\" class=\"month\">\n",
            "<tr><th colspan=\"7\" class=\"month\">May</th></tr>\n",
            "<tr><th class=\"mon\">Mon</th><th class=\"tue\">Tue</th><th class=\"wed\">Wed</th><th class=\"thu\">Thu</th><th class=\"fri\">Fri</th><th class=\"sat\">Sat</th><th class=\"sun\">Sun</th></tr>\n",
            "<tr><td class=\"noday\">&nbsp;</td><td class=\"noday\">&nbsp;</td><td class=\"wed\">1</td><td class=\"thu\">2</td><td class=\"fri\">3</td><td class=\"sat\">4</td><td class=\"sun\">5</td></tr>\n",
            "<tr><td class=\"mon\">6</td><td class=\"tue\">7</td><td class=\"wed\">8</td><td class=\"thu\">9</td><td class=\"fri\">10</td><td class=\"sat\">11</td><td class=\"sun\">12</td></tr>\n",
            "<tr><td class=\"mon\">13</td><td class=\"tue\">14</td><td class=\"wed\">15</td><td class=\"thu\">16</td><td class=\"fri\">17</td><td class=\"sat\">18</td><td class=\"sun\">19</td></tr>\n",
            "<tr><td class=\"mon\">20</td><td class=\"tue\">21</td><td class=\"wed\">22</td><td class=\"thu\">23</td><td class=\"fri\">24</td><td class=\"sat\">25</td><td class=\"sun\">26</td></tr>\n",
            "<tr><td class=\"mon\">27</td><td class=\"tue\">28</td><td class=\"wed\">29</td><td class=\"thu\">30</td><td class=\"fri\">31</td><td class=\"noday\">&nbsp;</td><td class=\"noday\">&nbsp;</td></tr>\n",
            "</table>\n",
            "</td><td><table border=\"0\" cellpadding=\"0\" cellspacing=\"0\" class=\"month\">\n",
            "<tr><th colspan=\"7\" class=\"month\">June</th></tr>\n",
            "<tr><th class=\"mon\">Mon</th><th class=\"tue\">Tue</th><th class=\"wed\">Wed</th><th class=\"thu\">Thu</th><th class=\"fri\">Fri</th><th class=\"sat\">Sat</th><th class=\"sun\">Sun</th></tr>\n",
            "<tr><td class=\"noday\">&nbsp;</td><td class=\"noday\">&nbsp;</td><td class=\"noday\">&nbsp;</td><td class=\"noday\">&nbsp;</td><td class=\"noday\">&nbsp;</td><td class=\"sat\">1</td><td class=\"sun\">2</td></tr>\n",
            "<tr><td class=\"mon\">3</td><td class=\"tue\">4</td><td class=\"wed\">5</td><td class=\"thu\">6</td><td class=\"fri\">7</td><td class=\"sat\">8</td><td class=\"sun\">9</td></tr>\n",
            "<tr><td class=\"mon\">10</td><td class=\"tue\">11</td><td class=\"wed\">12</td><td class=\"thu\">13</td><td class=\"fri\">14</td><td class=\"sat\">15</td><td class=\"sun\">16</td></tr>\n",
            "<tr><td class=\"mon\">17</td><td class=\"tue\">18</td><td class=\"wed\">19</td><td class=\"thu\">20</td><td class=\"fri\">21</td><td class=\"sat\">22</td><td class=\"sun\">23</td></tr>\n",
            "<tr><td class=\"mon\">24</td><td class=\"tue\">25</td><td class=\"wed\">26</td><td class=\"thu\">27</td><td class=\"fri\">28</td><td class=\"sat\">29</td><td class=\"sun\">30</td></tr>\n",
            "</table>\n",
            "</td></tr><tr><td><table border=\"0\" cellpadding=\"0\" cellspacing=\"0\" class=\"month\">\n",
            "<tr><th colspan=\"7\" class=\"month\">July</th></tr>\n",
            "<tr><th class=\"mon\">Mon</th><th class=\"tue\">Tue</th><th class=\"wed\">Wed</th><th class=\"thu\">Thu</th><th class=\"fri\">Fri</th><th class=\"sat\">Sat</th><th class=\"sun\">Sun</th></tr>\n",
            "<tr><td class=\"mon\">1</td><td class=\"tue\">2</td><td class=\"wed\">3</td><td class=\"thu\">4</td><td class=\"fri\">5</td><td class=\"sat\">6</td><td class=\"sun\">7</td></tr>\n",
            "<tr><td class=\"mon\">8</td><td class=\"tue\">9</td><td class=\"wed\">10</td><td class=\"thu\">11</td><td class=\"fri\">12</td><td class=\"sat\">13</td><td class=\"sun\">14</td></tr>\n",
            "<tr><td class=\"mon\">15</td><td class=\"tue\">16</td><td class=\"wed\">17</td><td class=\"thu\">18</td><td class=\"fri\">19</td><td class=\"sat\">20</td><td class=\"sun\">21</td></tr>\n",
            "<tr><td class=\"mon\">22</td><td class=\"tue\">23</td><td class=\"wed\">24</td><td class=\"thu\">25</td><td class=\"fri\">26</td><td class=\"sat\">27</td><td class=\"sun\">28</td></tr>\n",
            "<tr><td class=\"mon\">29</td><td class=\"tue\">30</td><td class=\"wed\">31</td><td class=\"noday\">&nbsp;</td><td class=\"noday\">&nbsp;</td><td class=\"noday\">&nbsp;</td><td class=\"noday\">&nbsp;</td></tr>\n",
            "</table>\n",
            "</td><td><table border=\"0\" cellpadding=\"0\" cellspacing=\"0\" class=\"month\">\n",
            "<tr><th colspan=\"7\" class=\"month\">August</th></tr>\n",
            "<tr><th class=\"mon\">Mon</th><th class=\"tue\">Tue</th><th class=\"wed\">Wed</th><th class=\"thu\">Thu</th><th class=\"fri\">Fri</th><th class=\"sat\">Sat</th><th class=\"sun\">Sun</th></tr>\n",
            "<tr><td class=\"noday\">&nbsp;</td><td class=\"noday\">&nbsp;</td><td class=\"noday\">&nbsp;</td><td class=\"thu\">1</td><td class=\"fri\">2</td><td class=\"sat\">3</td><td class=\"sun\">4</td></tr>\n",
            "<tr><td class=\"mon\">5</td><td class=\"tue\">6</td><td class=\"wed\">7</td><td class=\"thu\">8</td><td class=\"fri\">9</td><td class=\"sat\">10</td><td class=\"sun\">11</td></tr>\n",
            "<tr><td class=\"mon\">12</td><td class=\"tue\">13</td><td class=\"wed\">14</td><td class=\"thu\">15</td><td class=\"fri\">16</td><td class=\"sat\">17</td><td class=\"sun\">18</td></tr>\n",
            "<tr><td class=\"mon\">19</td><td class=\"tue\">20</td><td class=\"wed\">21</td><td class=\"thu\">22</td><td class=\"fri\">23</td><td class=\"sat\">24</td><td class=\"sun\">25</td></tr>\n",
            "<tr><td class=\"mon\">26</td><td class=\"tue\">27</td><td class=\"wed\">28</td><td class=\"thu\">29</td><td class=\"fri\">30</td><td class=\"sat\">31</td><td class=\"noday\">&nbsp;</td></tr>\n",
            "</table>\n",
            "</td><td><table border=\"0\" cellpadding=\"0\" cellspacing=\"0\" class=\"month\">\n",
            "<tr><th colspan=\"7\" class=\"month\">September</th></tr>\n",
            "<tr><th class=\"mon\">Mon</th><th class=\"tue\">Tue</th><th class=\"wed\">Wed</th><th class=\"thu\">Thu</th><th class=\"fri\">Fri</th><th class=\"sat\">Sat</th><th class=\"sun\">Sun</th></tr>\n",
            "<tr><td class=\"noday\">&nbsp;</td><td class=\"noday\">&nbsp;</td><td class=\"noday\">&nbsp;</td><td class=\"noday\">&nbsp;</td><td class=\"noday\">&nbsp;</td><td class=\"noday\">&nbsp;</td><td class=\"sun\">1</td></tr>\n",
            "<tr><td class=\"mon\">2</td><td class=\"tue\">3</td><td class=\"wed\">4</td><td class=\"thu\">5</td><td class=\"fri\">6</td><td class=\"sat\">7</td><td class=\"sun\">8</td></tr>\n",
            "<tr><td class=\"mon\">9</td><td class=\"tue\">10</td><td class=\"wed\">11</td><td class=\"thu\">12</td><td class=\"fri\">13</td><td class=\"sat\">14</td><td class=\"sun\">15</td></tr>\n",
            "<tr><td class=\"mon\">16</td><td class=\"tue\">17</td><td class=\"wed\">18</td><td class=\"thu\">19</td><td class=\"fri\">20</td><td class=\"sat\">21</td><td class=\"sun\">22</td></tr>\n",
            "<tr><td class=\"mon\">23</td><td class=\"tue\">24</td><td class=\"wed\">25</td><td class=\"thu\">26</td><td class=\"fri\">27</td><td class=\"sat\">28</td><td class=\"sun\">29</td></tr>\n",
            "<tr><td class=\"mon\">30</td><td class=\"noday\">&nbsp;</td><td class=\"noday\">&nbsp;</td><td class=\"noday\">&nbsp;</td><td class=\"noday\">&nbsp;</td><td class=\"noday\">&nbsp;</td><td class=\"noday\">&nbsp;</td></tr>\n",
            "</table>\n",
            "</td></tr><tr><td><table border=\"0\" cellpadding=\"0\" cellspacing=\"0\" class=\"month\">\n",
            "<tr><th colspan=\"7\" class=\"month\">October</th></tr>\n",
            "<tr><th class=\"mon\">Mon</th><th class=\"tue\">Tue</th><th class=\"wed\">Wed</th><th class=\"thu\">Thu</th><th class=\"fri\">Fri</th><th class=\"sat\">Sat</th><th class=\"sun\">Sun</th></tr>\n",
            "<tr><td class=\"noday\">&nbsp;</td><td class=\"tue\">1</td><td class=\"wed\">2</td><td class=\"thu\">3</td><td class=\"fri\">4</td><td class=\"sat\">5</td><td class=\"sun\">6</td></tr>\n",
            "<tr><td class=\"mon\">7</td><td class=\"tue\">8</td><td class=\"wed\">9</td><td class=\"thu\">10</td><td class=\"fri\">11</td><td class=\"sat\">12</td><td class=\"sun\">13</td></tr>\n",
            "<tr><td class=\"mon\">14</td><td class=\"tue\">15</td><td class=\"wed\">16</td><td class=\"thu\">17</td><td class=\"fri\">18</td><td class=\"sat\">19</td><td class=\"sun\">20</td></tr>\n",
            "<tr><td class=\"mon\">21</td><td class=\"tue\">22</td><td class=\"wed\">23</td><td class=\"thu\">24</td><td class=\"fri\">25</td><td class=\"sat\">26</td><td class=\"sun\">27</td></tr>\n",
            "<tr><td class=\"mon\">28</td><td class=\"tue\">29</td><td class=\"wed\">30</td><td class=\"thu\">31</td><td class=\"noday\">&nbsp;</td><td class=\"noday\">&nbsp;</td><td class=\"noday\">&nbsp;</td></tr>\n",
            "</table>\n",
            "</td><td><table border=\"0\" cellpadding=\"0\" cellspacing=\"0\" class=\"month\">\n",
            "<tr><th colspan=\"7\" class=\"month\">November</th></tr>\n",
            "<tr><th class=\"mon\">Mon</th><th class=\"tue\">Tue</th><th class=\"wed\">Wed</th><th class=\"thu\">Thu</th><th class=\"fri\">Fri</th><th class=\"sat\">Sat</th><th class=\"sun\">Sun</th></tr>\n",
            "<tr><td class=\"noday\">&nbsp;</td><td class=\"noday\">&nbsp;</td><td class=\"noday\">&nbsp;</td><td class=\"noday\">&nbsp;</td><td class=\"fri\">1</td><td class=\"sat\">2</td><td class=\"sun\">3</td></tr>\n",
            "<tr><td class=\"mon\">4</td><td class=\"tue\">5</td><td class=\"wed\">6</td><td class=\"thu\">7</td><td class=\"fri\">8</td><td class=\"sat\">9</td><td class=\"sun\">10</td></tr>\n",
            "<tr><td class=\"mon\">11</td><td class=\"tue\">12</td><td class=\"wed\">13</td><td class=\"thu\">14</td><td class=\"fri\">15</td><td class=\"sat\">16</td><td class=\"sun\">17</td></tr>\n",
            "<tr><td class=\"mon\">18</td><td class=\"tue\">19</td><td class=\"wed\">20</td><td class=\"thu\">21</td><td class=\"fri\">22</td><td class=\"sat\">23</td><td class=\"sun\">24</td></tr>\n",
            "<tr><td class=\"mon\">25</td><td class=\"tue\">26</td><td class=\"wed\">27</td><td class=\"thu\">28</td><td class=\"fri\">29</td><td class=\"sat\">30</td><td class=\"noday\">&nbsp;</td></tr>\n",
            "</table>\n",
            "</td><td><table border=\"0\" cellpadding=\"0\" cellspacing=\"0\" class=\"month\">\n",
            "<tr><th colspan=\"7\" class=\"month\">December</th></tr>\n",
            "<tr><th class=\"mon\">Mon</th><th class=\"tue\">Tue</th><th class=\"wed\">Wed</th><th class=\"thu\">Thu</th><th class=\"fri\">Fri</th><th class=\"sat\">Sat</th><th class=\"sun\">Sun</th></tr>\n",
            "<tr><td class=\"noday\">&nbsp;</td><td class=\"noday\">&nbsp;</td><td class=\"noday\">&nbsp;</td><td class=\"noday\">&nbsp;</td><td class=\"noday\">&nbsp;</td><td class=\"noday\">&nbsp;</td><td class=\"sun\">1</td></tr>\n",
            "<tr><td class=\"mon\">2</td><td class=\"tue\">3</td><td class=\"wed\">4</td><td class=\"thu\">5</td><td class=\"fri\">6</td><td class=\"sat\">7</td><td class=\"sun\">8</td></tr>\n",
            "<tr><td class=\"mon\">9</td><td class=\"tue\">10</td><td class=\"wed\">11</td><td class=\"thu\">12</td><td class=\"fri\">13</td><td class=\"sat\">14</td><td class=\"sun\">15</td></tr>\n",
            "<tr><td class=\"mon\">16</td><td class=\"tue\">17</td><td class=\"wed\">18</td><td class=\"thu\">19</td><td class=\"fri\">20</td><td class=\"sat\">21</td><td class=\"sun\">22</td></tr>\n",
            "<tr><td class=\"mon\">23</td><td class=\"tue\">24</td><td class=\"wed\">25</td><td class=\"thu\">26</td><td class=\"fri\">27</td><td class=\"sat\">28</td><td class=\"sun\">29</td></tr>\n",
            "<tr><td class=\"mon\">30</td><td class=\"tue\">31</td><td class=\"noday\">&nbsp;</td><td class=\"noday\">&nbsp;</td><td class=\"noday\">&nbsp;</td><td class=\"noday\">&nbsp;</td><td class=\"noday\">&nbsp;</td></tr>\n",
            "</table>\n",
            "</td></tr></table>\n"
          ]
        }
      ]
    },
    {
      "cell_type": "code",
      "source": [
        "import calendar\n",
        "\n",
        "# Custom calendar with specific formatting\n",
        "def custom_calendar(year, week_starts_on=calendar.MONDAY):\n",
        "    cal = calendar.Calendar(week_starts_on)\n",
        "\n",
        "    for month in range(1, 13):\n",
        "        print(f\"\\n{calendar.month_name[month]} {year}\")\n",
        "        print(\"Mo Tu We Th Fr Sa Su\")\n",
        "\n",
        "        for week in cal.monthdays2calendar(year, month):\n",
        "            week_str = \"\"\n",
        "            for day, weekday in week:\n",
        "                if day == 0:\n",
        "                    week_str += \"   \"\n",
        "                else:\n",
        "                    week_str += f\"{day:2d} \"\n",
        "            print(week_str.rstrip())\n",
        "\n",
        "# Print calendar\n",
        "custom_calendar(2024)"
      ],
      "metadata": {
        "colab": {
          "base_uri": "https://localhost:8080/"
        },
        "id": "1ylC5bTr5Ht-",
        "outputId": "0e896ee7-8e96-4d2b-d27c-60bdc1908151"
      },
      "execution_count": 40,
      "outputs": [
        {
          "output_type": "stream",
          "name": "stdout",
          "text": [
            "\n",
            "January 2024\n",
            "Mo Tu We Th Fr Sa Su\n",
            " 1  2  3  4  5  6  7\n",
            " 8  9 10 11 12 13 14\n",
            "15 16 17 18 19 20 21\n",
            "22 23 24 25 26 27 28\n",
            "29 30 31\n",
            "\n",
            "February 2024\n",
            "Mo Tu We Th Fr Sa Su\n",
            "          1  2  3  4\n",
            " 5  6  7  8  9 10 11\n",
            "12 13 14 15 16 17 18\n",
            "19 20 21 22 23 24 25\n",
            "26 27 28 29\n",
            "\n",
            "March 2024\n",
            "Mo Tu We Th Fr Sa Su\n",
            "             1  2  3\n",
            " 4  5  6  7  8  9 10\n",
            "11 12 13 14 15 16 17\n",
            "18 19 20 21 22 23 24\n",
            "25 26 27 28 29 30 31\n",
            "\n",
            "April 2024\n",
            "Mo Tu We Th Fr Sa Su\n",
            " 1  2  3  4  5  6  7\n",
            " 8  9 10 11 12 13 14\n",
            "15 16 17 18 19 20 21\n",
            "22 23 24 25 26 27 28\n",
            "29 30\n",
            "\n",
            "May 2024\n",
            "Mo Tu We Th Fr Sa Su\n",
            "       1  2  3  4  5\n",
            " 6  7  8  9 10 11 12\n",
            "13 14 15 16 17 18 19\n",
            "20 21 22 23 24 25 26\n",
            "27 28 29 30 31\n",
            "\n",
            "June 2024\n",
            "Mo Tu We Th Fr Sa Su\n",
            "                1  2\n",
            " 3  4  5  6  7  8  9\n",
            "10 11 12 13 14 15 16\n",
            "17 18 19 20 21 22 23\n",
            "24 25 26 27 28 29 30\n",
            "\n",
            "July 2024\n",
            "Mo Tu We Th Fr Sa Su\n",
            " 1  2  3  4  5  6  7\n",
            " 8  9 10 11 12 13 14\n",
            "15 16 17 18 19 20 21\n",
            "22 23 24 25 26 27 28\n",
            "29 30 31\n",
            "\n",
            "August 2024\n",
            "Mo Tu We Th Fr Sa Su\n",
            "          1  2  3  4\n",
            " 5  6  7  8  9 10 11\n",
            "12 13 14 15 16 17 18\n",
            "19 20 21 22 23 24 25\n",
            "26 27 28 29 30 31\n",
            "\n",
            "September 2024\n",
            "Mo Tu We Th Fr Sa Su\n",
            "                   1\n",
            " 2  3  4  5  6  7  8\n",
            " 9 10 11 12 13 14 15\n",
            "16 17 18 19 20 21 22\n",
            "23 24 25 26 27 28 29\n",
            "30\n",
            "\n",
            "October 2024\n",
            "Mo Tu We Th Fr Sa Su\n",
            "    1  2  3  4  5  6\n",
            " 7  8  9 10 11 12 13\n",
            "14 15 16 17 18 19 20\n",
            "21 22 23 24 25 26 27\n",
            "28 29 30 31\n",
            "\n",
            "November 2024\n",
            "Mo Tu We Th Fr Sa Su\n",
            "             1  2  3\n",
            " 4  5  6  7  8  9 10\n",
            "11 12 13 14 15 16 17\n",
            "18 19 20 21 22 23 24\n",
            "25 26 27 28 29 30\n",
            "\n",
            "December 2024\n",
            "Mo Tu We Th Fr Sa Su\n",
            "                   1\n",
            " 2  3  4  5  6  7  8\n",
            " 9 10 11 12 13 14 15\n",
            "16 17 18 19 20 21 22\n",
            "23 24 25 26 27 28 29\n",
            "30 31\n"
          ]
        }
      ]
    },
    {
      "cell_type": "code",
      "source": [
        "import time"
      ],
      "metadata": {
        "id": "Z1K7h9-t5SlW"
      },
      "execution_count": 41,
      "outputs": []
    },
    {
      "cell_type": "code",
      "source": [
        "[i for i in calendar.day_name]"
      ],
      "metadata": {
        "colab": {
          "base_uri": "https://localhost:8080/"
        },
        "id": "YXrkikTM7JBj",
        "outputId": "d293e34a-608b-40e6-aa50-d754bdf532cb"
      },
      "execution_count": 42,
      "outputs": [
        {
          "output_type": "execute_result",
          "data": {
            "text/plain": [
              "['Monday', 'Tuesday', 'Wednesday', 'Thursday', 'Friday', 'Saturday', 'Sunday']"
            ]
          },
          "metadata": {},
          "execution_count": 42
        }
      ]
    },
    {
      "cell_type": "code",
      "source": [
        "[i for i in calendar.day_abbr]"
      ],
      "metadata": {
        "colab": {
          "base_uri": "https://localhost:8080/"
        },
        "id": "T7Nd2x0q7kPE",
        "outputId": "ddcbaf8e-585b-4bfc-96a0-e62907f37429"
      },
      "execution_count": 45,
      "outputs": [
        {
          "output_type": "execute_result",
          "data": {
            "text/plain": [
              "['Mon', 'Tue', 'Wed', 'Thu', 'Fri', 'Sat', 'Sun']"
            ]
          },
          "metadata": {},
          "execution_count": 45
        }
      ]
    },
    {
      "cell_type": "code",
      "source": [
        "[i for i in calendar.month_name]"
      ],
      "metadata": {
        "colab": {
          "base_uri": "https://localhost:8080/"
        },
        "id": "AJ3pX5Nb7tCO",
        "outputId": "913b47ee-5989-4e6a-b1f6-b21e0f5664dd"
      },
      "execution_count": 46,
      "outputs": [
        {
          "output_type": "execute_result",
          "data": {
            "text/plain": [
              "['',\n",
              " 'January',\n",
              " 'February',\n",
              " 'March',\n",
              " 'April',\n",
              " 'May',\n",
              " 'June',\n",
              " 'July',\n",
              " 'August',\n",
              " 'September',\n",
              " 'October',\n",
              " 'November',\n",
              " 'December']"
            ]
          },
          "metadata": {},
          "execution_count": 46
        }
      ]
    },
    {
      "cell_type": "code",
      "source": [
        "[i for i in calendar.month_abbr]"
      ],
      "metadata": {
        "colab": {
          "base_uri": "https://localhost:8080/"
        },
        "id": "uwgHAebh78Jl",
        "outputId": "a19d5076-2157-4a20-d492-d2f04029c33f"
      },
      "execution_count": 55,
      "outputs": [
        {
          "output_type": "execute_result",
          "data": {
            "text/plain": [
              "['',\n",
              " 'Jan',\n",
              " 'Feb',\n",
              " 'Mar',\n",
              " 'Apr',\n",
              " 'May',\n",
              " 'Jun',\n",
              " 'Jul',\n",
              " 'Aug',\n",
              " 'Sep',\n",
              " 'Oct',\n",
              " 'Nov',\n",
              " 'Dec']"
            ]
          },
          "metadata": {},
          "execution_count": 55
        }
      ]
    },
    {
      "cell_type": "code",
      "source": [
        "day=calendar.weekday(2024,3,15)"
      ],
      "metadata": {
        "id": "1lNymwrG8EQK"
      },
      "execution_count": 56,
      "outputs": []
    },
    {
      "cell_type": "code",
      "source": [
        "day"
      ],
      "metadata": {
        "colab": {
          "base_uri": "https://localhost:8080/"
        },
        "id": "akg7twpn9E20",
        "outputId": "6f6bfacb-05c5-4092-cdb7-78d2288b508e"
      },
      "execution_count": 57,
      "outputs": [
        {
          "output_type": "execute_result",
          "data": {
            "text/plain": [
              "4"
            ]
          },
          "metadata": {},
          "execution_count": 57
        }
      ]
    },
    {
      "cell_type": "code",
      "source": [
        "calendar.isleap(2024)"
      ],
      "metadata": {
        "colab": {
          "base_uri": "https://localhost:8080/"
        },
        "id": "fnRMyYyv9F8S",
        "outputId": "9142db02-dec2-4e79-e694-831730d17533"
      },
      "execution_count": 61,
      "outputs": [
        {
          "output_type": "execute_result",
          "data": {
            "text/plain": [
              "True"
            ]
          },
          "metadata": {},
          "execution_count": 61
        }
      ]
    },
    {
      "cell_type": "code",
      "source": [
        "days=calendar.monthrange(2024,3)"
      ],
      "metadata": {
        "id": "iBQc9fB-9Ly2"
      },
      "execution_count": 62,
      "outputs": []
    },
    {
      "cell_type": "code",
      "source": [
        "days"
      ],
      "metadata": {
        "colab": {
          "base_uri": "https://localhost:8080/"
        },
        "id": "cE1Qk2dX9VKx",
        "outputId": "56af1e88-fc69-49f3-956c-458a4d23e131"
      },
      "execution_count": 63,
      "outputs": [
        {
          "output_type": "execute_result",
          "data": {
            "text/plain": [
              "(4, 31)"
            ]
          },
          "metadata": {},
          "execution_count": 63
        }
      ]
    },
    {
      "cell_type": "code",
      "source": [
        "import pandas as pd\n",
        "import numpy as np"
      ],
      "metadata": {
        "id": "jUDhdhDq-aQJ"
      },
      "execution_count": 77,
      "outputs": []
    },
    {
      "cell_type": "code",
      "source": [
        "day=int(input(\"Kunni kiriting: \"))\n",
        "week=int(input(\"hafta kunini kiriting: \"))\n",
        "d=int(input(\"Kunni kiriting: \"))"
      ],
      "metadata": {
        "colab": {
          "base_uri": "https://localhost:8080/"
        },
        "id": "kQxlWI-ZAL9_",
        "outputId": "3fc483b4-edfa-40db-aed0-806790bcb2bb"
      },
      "execution_count": 102,
      "outputs": [
        {
          "name": "stdout",
          "output_type": "stream",
          "text": [
            "Kunni kiriting: 40\n",
            "hafta kunini kiriting: 1\n",
            "Kunni kiriting: 50\n"
          ]
        }
      ]
    },
    {
      "cell_type": "code",
      "source": [
        "day_of_week=d-day+week-1\n",
        "day_of_week%7+1"
      ],
      "metadata": {
        "colab": {
          "base_uri": "https://localhost:8080/"
        },
        "id": "Uyhd6CSxImN5",
        "outputId": "dffad4f4-02fa-4608-c968-c0b1bd73ece3"
      },
      "execution_count": 103,
      "outputs": [
        {
          "output_type": "execute_result",
          "data": {
            "text/plain": [
              "4"
            ]
          },
          "metadata": {},
          "execution_count": 103
        }
      ]
    },
    {
      "cell_type": "code",
      "source": [
        "day_of_week=[i for i in calendar.day_abbr]\n",
        "range_of_month=np.arange(1,260).reshape(37, 7)"
      ],
      "metadata": {
        "id": "Bck7RA7M9WQj"
      },
      "execution_count": 106,
      "outputs": []
    },
    {
      "cell_type": "code",
      "source": [
        "pd.DataFrame(range_of_month, columns=day_of_week)"
      ],
      "metadata": {
        "colab": {
          "base_uri": "https://localhost:8080/",
          "height": 1000
        },
        "id": "_5V5YH_3-phT",
        "outputId": "be4cc2a2-13ca-4231-ad8c-dd1a1fca8611"
      },
      "execution_count": 107,
      "outputs": [
        {
          "output_type": "execute_result",
          "data": {
            "text/plain": [
              "    Mon  Tue  Wed  Thu  Fri  Sat  Sun\n",
              "0     1    2    3    4    5    6    7\n",
              "1     8    9   10   11   12   13   14\n",
              "2    15   16   17   18   19   20   21\n",
              "3    22   23   24   25   26   27   28\n",
              "4    29   30   31   32   33   34   35\n",
              "5    36   37   38   39   40   41   42\n",
              "6    43   44   45   46   47   48   49\n",
              "7    50   51   52   53   54   55   56\n",
              "8    57   58   59   60   61   62   63\n",
              "9    64   65   66   67   68   69   70\n",
              "10   71   72   73   74   75   76   77\n",
              "11   78   79   80   81   82   83   84\n",
              "12   85   86   87   88   89   90   91\n",
              "13   92   93   94   95   96   97   98\n",
              "14   99  100  101  102  103  104  105\n",
              "15  106  107  108  109  110  111  112\n",
              "16  113  114  115  116  117  118  119\n",
              "17  120  121  122  123  124  125  126\n",
              "18  127  128  129  130  131  132  133\n",
              "19  134  135  136  137  138  139  140\n",
              "20  141  142  143  144  145  146  147\n",
              "21  148  149  150  151  152  153  154\n",
              "22  155  156  157  158  159  160  161\n",
              "23  162  163  164  165  166  167  168\n",
              "24  169  170  171  172  173  174  175\n",
              "25  176  177  178  179  180  181  182\n",
              "26  183  184  185  186  187  188  189\n",
              "27  190  191  192  193  194  195  196\n",
              "28  197  198  199  200  201  202  203\n",
              "29  204  205  206  207  208  209  210\n",
              "30  211  212  213  214  215  216  217\n",
              "31  218  219  220  221  222  223  224\n",
              "32  225  226  227  228  229  230  231\n",
              "33  232  233  234  235  236  237  238\n",
              "34  239  240  241  242  243  244  245\n",
              "35  246  247  248  249  250  251  252\n",
              "36  253  254  255  256  257  258  259"
            ],
            "text/html": [
              "\n",
              "  <div id=\"df-85de4f0a-e048-4a7e-9925-a1182bf5b260\" class=\"colab-df-container\">\n",
              "    <div>\n",
              "<style scoped>\n",
              "    .dataframe tbody tr th:only-of-type {\n",
              "        vertical-align: middle;\n",
              "    }\n",
              "\n",
              "    .dataframe tbody tr th {\n",
              "        vertical-align: top;\n",
              "    }\n",
              "\n",
              "    .dataframe thead th {\n",
              "        text-align: right;\n",
              "    }\n",
              "</style>\n",
              "<table border=\"1\" class=\"dataframe\">\n",
              "  <thead>\n",
              "    <tr style=\"text-align: right;\">\n",
              "      <th></th>\n",
              "      <th>Mon</th>\n",
              "      <th>Tue</th>\n",
              "      <th>Wed</th>\n",
              "      <th>Thu</th>\n",
              "      <th>Fri</th>\n",
              "      <th>Sat</th>\n",
              "      <th>Sun</th>\n",
              "    </tr>\n",
              "  </thead>\n",
              "  <tbody>\n",
              "    <tr>\n",
              "      <th>0</th>\n",
              "      <td>1</td>\n",
              "      <td>2</td>\n",
              "      <td>3</td>\n",
              "      <td>4</td>\n",
              "      <td>5</td>\n",
              "      <td>6</td>\n",
              "      <td>7</td>\n",
              "    </tr>\n",
              "    <tr>\n",
              "      <th>1</th>\n",
              "      <td>8</td>\n",
              "      <td>9</td>\n",
              "      <td>10</td>\n",
              "      <td>11</td>\n",
              "      <td>12</td>\n",
              "      <td>13</td>\n",
              "      <td>14</td>\n",
              "    </tr>\n",
              "    <tr>\n",
              "      <th>2</th>\n",
              "      <td>15</td>\n",
              "      <td>16</td>\n",
              "      <td>17</td>\n",
              "      <td>18</td>\n",
              "      <td>19</td>\n",
              "      <td>20</td>\n",
              "      <td>21</td>\n",
              "    </tr>\n",
              "    <tr>\n",
              "      <th>3</th>\n",
              "      <td>22</td>\n",
              "      <td>23</td>\n",
              "      <td>24</td>\n",
              "      <td>25</td>\n",
              "      <td>26</td>\n",
              "      <td>27</td>\n",
              "      <td>28</td>\n",
              "    </tr>\n",
              "    <tr>\n",
              "      <th>4</th>\n",
              "      <td>29</td>\n",
              "      <td>30</td>\n",
              "      <td>31</td>\n",
              "      <td>32</td>\n",
              "      <td>33</td>\n",
              "      <td>34</td>\n",
              "      <td>35</td>\n",
              "    </tr>\n",
              "    <tr>\n",
              "      <th>5</th>\n",
              "      <td>36</td>\n",
              "      <td>37</td>\n",
              "      <td>38</td>\n",
              "      <td>39</td>\n",
              "      <td>40</td>\n",
              "      <td>41</td>\n",
              "      <td>42</td>\n",
              "    </tr>\n",
              "    <tr>\n",
              "      <th>6</th>\n",
              "      <td>43</td>\n",
              "      <td>44</td>\n",
              "      <td>45</td>\n",
              "      <td>46</td>\n",
              "      <td>47</td>\n",
              "      <td>48</td>\n",
              "      <td>49</td>\n",
              "    </tr>\n",
              "    <tr>\n",
              "      <th>7</th>\n",
              "      <td>50</td>\n",
              "      <td>51</td>\n",
              "      <td>52</td>\n",
              "      <td>53</td>\n",
              "      <td>54</td>\n",
              "      <td>55</td>\n",
              "      <td>56</td>\n",
              "    </tr>\n",
              "    <tr>\n",
              "      <th>8</th>\n",
              "      <td>57</td>\n",
              "      <td>58</td>\n",
              "      <td>59</td>\n",
              "      <td>60</td>\n",
              "      <td>61</td>\n",
              "      <td>62</td>\n",
              "      <td>63</td>\n",
              "    </tr>\n",
              "    <tr>\n",
              "      <th>9</th>\n",
              "      <td>64</td>\n",
              "      <td>65</td>\n",
              "      <td>66</td>\n",
              "      <td>67</td>\n",
              "      <td>68</td>\n",
              "      <td>69</td>\n",
              "      <td>70</td>\n",
              "    </tr>\n",
              "    <tr>\n",
              "      <th>10</th>\n",
              "      <td>71</td>\n",
              "      <td>72</td>\n",
              "      <td>73</td>\n",
              "      <td>74</td>\n",
              "      <td>75</td>\n",
              "      <td>76</td>\n",
              "      <td>77</td>\n",
              "    </tr>\n",
              "    <tr>\n",
              "      <th>11</th>\n",
              "      <td>78</td>\n",
              "      <td>79</td>\n",
              "      <td>80</td>\n",
              "      <td>81</td>\n",
              "      <td>82</td>\n",
              "      <td>83</td>\n",
              "      <td>84</td>\n",
              "    </tr>\n",
              "    <tr>\n",
              "      <th>12</th>\n",
              "      <td>85</td>\n",
              "      <td>86</td>\n",
              "      <td>87</td>\n",
              "      <td>88</td>\n",
              "      <td>89</td>\n",
              "      <td>90</td>\n",
              "      <td>91</td>\n",
              "    </tr>\n",
              "    <tr>\n",
              "      <th>13</th>\n",
              "      <td>92</td>\n",
              "      <td>93</td>\n",
              "      <td>94</td>\n",
              "      <td>95</td>\n",
              "      <td>96</td>\n",
              "      <td>97</td>\n",
              "      <td>98</td>\n",
              "    </tr>\n",
              "    <tr>\n",
              "      <th>14</th>\n",
              "      <td>99</td>\n",
              "      <td>100</td>\n",
              "      <td>101</td>\n",
              "      <td>102</td>\n",
              "      <td>103</td>\n",
              "      <td>104</td>\n",
              "      <td>105</td>\n",
              "    </tr>\n",
              "    <tr>\n",
              "      <th>15</th>\n",
              "      <td>106</td>\n",
              "      <td>107</td>\n",
              "      <td>108</td>\n",
              "      <td>109</td>\n",
              "      <td>110</td>\n",
              "      <td>111</td>\n",
              "      <td>112</td>\n",
              "    </tr>\n",
              "    <tr>\n",
              "      <th>16</th>\n",
              "      <td>113</td>\n",
              "      <td>114</td>\n",
              "      <td>115</td>\n",
              "      <td>116</td>\n",
              "      <td>117</td>\n",
              "      <td>118</td>\n",
              "      <td>119</td>\n",
              "    </tr>\n",
              "    <tr>\n",
              "      <th>17</th>\n",
              "      <td>120</td>\n",
              "      <td>121</td>\n",
              "      <td>122</td>\n",
              "      <td>123</td>\n",
              "      <td>124</td>\n",
              "      <td>125</td>\n",
              "      <td>126</td>\n",
              "    </tr>\n",
              "    <tr>\n",
              "      <th>18</th>\n",
              "      <td>127</td>\n",
              "      <td>128</td>\n",
              "      <td>129</td>\n",
              "      <td>130</td>\n",
              "      <td>131</td>\n",
              "      <td>132</td>\n",
              "      <td>133</td>\n",
              "    </tr>\n",
              "    <tr>\n",
              "      <th>19</th>\n",
              "      <td>134</td>\n",
              "      <td>135</td>\n",
              "      <td>136</td>\n",
              "      <td>137</td>\n",
              "      <td>138</td>\n",
              "      <td>139</td>\n",
              "      <td>140</td>\n",
              "    </tr>\n",
              "    <tr>\n",
              "      <th>20</th>\n",
              "      <td>141</td>\n",
              "      <td>142</td>\n",
              "      <td>143</td>\n",
              "      <td>144</td>\n",
              "      <td>145</td>\n",
              "      <td>146</td>\n",
              "      <td>147</td>\n",
              "    </tr>\n",
              "    <tr>\n",
              "      <th>21</th>\n",
              "      <td>148</td>\n",
              "      <td>149</td>\n",
              "      <td>150</td>\n",
              "      <td>151</td>\n",
              "      <td>152</td>\n",
              "      <td>153</td>\n",
              "      <td>154</td>\n",
              "    </tr>\n",
              "    <tr>\n",
              "      <th>22</th>\n",
              "      <td>155</td>\n",
              "      <td>156</td>\n",
              "      <td>157</td>\n",
              "      <td>158</td>\n",
              "      <td>159</td>\n",
              "      <td>160</td>\n",
              "      <td>161</td>\n",
              "    </tr>\n",
              "    <tr>\n",
              "      <th>23</th>\n",
              "      <td>162</td>\n",
              "      <td>163</td>\n",
              "      <td>164</td>\n",
              "      <td>165</td>\n",
              "      <td>166</td>\n",
              "      <td>167</td>\n",
              "      <td>168</td>\n",
              "    </tr>\n",
              "    <tr>\n",
              "      <th>24</th>\n",
              "      <td>169</td>\n",
              "      <td>170</td>\n",
              "      <td>171</td>\n",
              "      <td>172</td>\n",
              "      <td>173</td>\n",
              "      <td>174</td>\n",
              "      <td>175</td>\n",
              "    </tr>\n",
              "    <tr>\n",
              "      <th>25</th>\n",
              "      <td>176</td>\n",
              "      <td>177</td>\n",
              "      <td>178</td>\n",
              "      <td>179</td>\n",
              "      <td>180</td>\n",
              "      <td>181</td>\n",
              "      <td>182</td>\n",
              "    </tr>\n",
              "    <tr>\n",
              "      <th>26</th>\n",
              "      <td>183</td>\n",
              "      <td>184</td>\n",
              "      <td>185</td>\n",
              "      <td>186</td>\n",
              "      <td>187</td>\n",
              "      <td>188</td>\n",
              "      <td>189</td>\n",
              "    </tr>\n",
              "    <tr>\n",
              "      <th>27</th>\n",
              "      <td>190</td>\n",
              "      <td>191</td>\n",
              "      <td>192</td>\n",
              "      <td>193</td>\n",
              "      <td>194</td>\n",
              "      <td>195</td>\n",
              "      <td>196</td>\n",
              "    </tr>\n",
              "    <tr>\n",
              "      <th>28</th>\n",
              "      <td>197</td>\n",
              "      <td>198</td>\n",
              "      <td>199</td>\n",
              "      <td>200</td>\n",
              "      <td>201</td>\n",
              "      <td>202</td>\n",
              "      <td>203</td>\n",
              "    </tr>\n",
              "    <tr>\n",
              "      <th>29</th>\n",
              "      <td>204</td>\n",
              "      <td>205</td>\n",
              "      <td>206</td>\n",
              "      <td>207</td>\n",
              "      <td>208</td>\n",
              "      <td>209</td>\n",
              "      <td>210</td>\n",
              "    </tr>\n",
              "    <tr>\n",
              "      <th>30</th>\n",
              "      <td>211</td>\n",
              "      <td>212</td>\n",
              "      <td>213</td>\n",
              "      <td>214</td>\n",
              "      <td>215</td>\n",
              "      <td>216</td>\n",
              "      <td>217</td>\n",
              "    </tr>\n",
              "    <tr>\n",
              "      <th>31</th>\n",
              "      <td>218</td>\n",
              "      <td>219</td>\n",
              "      <td>220</td>\n",
              "      <td>221</td>\n",
              "      <td>222</td>\n",
              "      <td>223</td>\n",
              "      <td>224</td>\n",
              "    </tr>\n",
              "    <tr>\n",
              "      <th>32</th>\n",
              "      <td>225</td>\n",
              "      <td>226</td>\n",
              "      <td>227</td>\n",
              "      <td>228</td>\n",
              "      <td>229</td>\n",
              "      <td>230</td>\n",
              "      <td>231</td>\n",
              "    </tr>\n",
              "    <tr>\n",
              "      <th>33</th>\n",
              "      <td>232</td>\n",
              "      <td>233</td>\n",
              "      <td>234</td>\n",
              "      <td>235</td>\n",
              "      <td>236</td>\n",
              "      <td>237</td>\n",
              "      <td>238</td>\n",
              "    </tr>\n",
              "    <tr>\n",
              "      <th>34</th>\n",
              "      <td>239</td>\n",
              "      <td>240</td>\n",
              "      <td>241</td>\n",
              "      <td>242</td>\n",
              "      <td>243</td>\n",
              "      <td>244</td>\n",
              "      <td>245</td>\n",
              "    </tr>\n",
              "    <tr>\n",
              "      <th>35</th>\n",
              "      <td>246</td>\n",
              "      <td>247</td>\n",
              "      <td>248</td>\n",
              "      <td>249</td>\n",
              "      <td>250</td>\n",
              "      <td>251</td>\n",
              "      <td>252</td>\n",
              "    </tr>\n",
              "    <tr>\n",
              "      <th>36</th>\n",
              "      <td>253</td>\n",
              "      <td>254</td>\n",
              "      <td>255</td>\n",
              "      <td>256</td>\n",
              "      <td>257</td>\n",
              "      <td>258</td>\n",
              "      <td>259</td>\n",
              "    </tr>\n",
              "  </tbody>\n",
              "</table>\n",
              "</div>\n",
              "    <div class=\"colab-df-buttons\">\n",
              "\n",
              "  <div class=\"colab-df-container\">\n",
              "    <button class=\"colab-df-convert\" onclick=\"convertToInteractive('df-85de4f0a-e048-4a7e-9925-a1182bf5b260')\"\n",
              "            title=\"Convert this dataframe to an interactive table.\"\n",
              "            style=\"display:none;\">\n",
              "\n",
              "  <svg xmlns=\"http://www.w3.org/2000/svg\" height=\"24px\" viewBox=\"0 -960 960 960\">\n",
              "    <path d=\"M120-120v-720h720v720H120Zm60-500h600v-160H180v160Zm220 220h160v-160H400v160Zm0 220h160v-160H400v160ZM180-400h160v-160H180v160Zm440 0h160v-160H620v160ZM180-180h160v-160H180v160Zm440 0h160v-160H620v160Z\"/>\n",
              "  </svg>\n",
              "    </button>\n",
              "\n",
              "  <style>\n",
              "    .colab-df-container {\n",
              "      display:flex;\n",
              "      gap: 12px;\n",
              "    }\n",
              "\n",
              "    .colab-df-convert {\n",
              "      background-color: #E8F0FE;\n",
              "      border: none;\n",
              "      border-radius: 50%;\n",
              "      cursor: pointer;\n",
              "      display: none;\n",
              "      fill: #1967D2;\n",
              "      height: 32px;\n",
              "      padding: 0 0 0 0;\n",
              "      width: 32px;\n",
              "    }\n",
              "\n",
              "    .colab-df-convert:hover {\n",
              "      background-color: #E2EBFA;\n",
              "      box-shadow: 0px 1px 2px rgba(60, 64, 67, 0.3), 0px 1px 3px 1px rgba(60, 64, 67, 0.15);\n",
              "      fill: #174EA6;\n",
              "    }\n",
              "\n",
              "    .colab-df-buttons div {\n",
              "      margin-bottom: 4px;\n",
              "    }\n",
              "\n",
              "    [theme=dark] .colab-df-convert {\n",
              "      background-color: #3B4455;\n",
              "      fill: #D2E3FC;\n",
              "    }\n",
              "\n",
              "    [theme=dark] .colab-df-convert:hover {\n",
              "      background-color: #434B5C;\n",
              "      box-shadow: 0px 1px 3px 1px rgba(0, 0, 0, 0.15);\n",
              "      filter: drop-shadow(0px 1px 2px rgba(0, 0, 0, 0.3));\n",
              "      fill: #FFFFFF;\n",
              "    }\n",
              "  </style>\n",
              "\n",
              "    <script>\n",
              "      const buttonEl =\n",
              "        document.querySelector('#df-85de4f0a-e048-4a7e-9925-a1182bf5b260 button.colab-df-convert');\n",
              "      buttonEl.style.display =\n",
              "        google.colab.kernel.accessAllowed ? 'block' : 'none';\n",
              "\n",
              "      async function convertToInteractive(key) {\n",
              "        const element = document.querySelector('#df-85de4f0a-e048-4a7e-9925-a1182bf5b260');\n",
              "        const dataTable =\n",
              "          await google.colab.kernel.invokeFunction('convertToInteractive',\n",
              "                                                    [key], {});\n",
              "        if (!dataTable) return;\n",
              "\n",
              "        const docLinkHtml = 'Like what you see? Visit the ' +\n",
              "          '<a target=\"_blank\" href=https://colab.research.google.com/notebooks/data_table.ipynb>data table notebook</a>'\n",
              "          + ' to learn more about interactive tables.';\n",
              "        element.innerHTML = '';\n",
              "        dataTable['output_type'] = 'display_data';\n",
              "        await google.colab.output.renderOutput(dataTable, element);\n",
              "        const docLink = document.createElement('div');\n",
              "        docLink.innerHTML = docLinkHtml;\n",
              "        element.appendChild(docLink);\n",
              "      }\n",
              "    </script>\n",
              "  </div>\n",
              "\n",
              "\n",
              "<div id=\"df-b939b3cc-1bdb-4560-a4fc-854e2ea79267\">\n",
              "  <button class=\"colab-df-quickchart\" onclick=\"quickchart('df-b939b3cc-1bdb-4560-a4fc-854e2ea79267')\"\n",
              "            title=\"Suggest charts\"\n",
              "            style=\"display:none;\">\n",
              "\n",
              "<svg xmlns=\"http://www.w3.org/2000/svg\" height=\"24px\"viewBox=\"0 0 24 24\"\n",
              "     width=\"24px\">\n",
              "    <g>\n",
              "        <path d=\"M19 3H5c-1.1 0-2 .9-2 2v14c0 1.1.9 2 2 2h14c1.1 0 2-.9 2-2V5c0-1.1-.9-2-2-2zM9 17H7v-7h2v7zm4 0h-2V7h2v10zm4 0h-2v-4h2v4z\"/>\n",
              "    </g>\n",
              "</svg>\n",
              "  </button>\n",
              "\n",
              "<style>\n",
              "  .colab-df-quickchart {\n",
              "      --bg-color: #E8F0FE;\n",
              "      --fill-color: #1967D2;\n",
              "      --hover-bg-color: #E2EBFA;\n",
              "      --hover-fill-color: #174EA6;\n",
              "      --disabled-fill-color: #AAA;\n",
              "      --disabled-bg-color: #DDD;\n",
              "  }\n",
              "\n",
              "  [theme=dark] .colab-df-quickchart {\n",
              "      --bg-color: #3B4455;\n",
              "      --fill-color: #D2E3FC;\n",
              "      --hover-bg-color: #434B5C;\n",
              "      --hover-fill-color: #FFFFFF;\n",
              "      --disabled-bg-color: #3B4455;\n",
              "      --disabled-fill-color: #666;\n",
              "  }\n",
              "\n",
              "  .colab-df-quickchart {\n",
              "    background-color: var(--bg-color);\n",
              "    border: none;\n",
              "    border-radius: 50%;\n",
              "    cursor: pointer;\n",
              "    display: none;\n",
              "    fill: var(--fill-color);\n",
              "    height: 32px;\n",
              "    padding: 0;\n",
              "    width: 32px;\n",
              "  }\n",
              "\n",
              "  .colab-df-quickchart:hover {\n",
              "    background-color: var(--hover-bg-color);\n",
              "    box-shadow: 0 1px 2px rgba(60, 64, 67, 0.3), 0 1px 3px 1px rgba(60, 64, 67, 0.15);\n",
              "    fill: var(--button-hover-fill-color);\n",
              "  }\n",
              "\n",
              "  .colab-df-quickchart-complete:disabled,\n",
              "  .colab-df-quickchart-complete:disabled:hover {\n",
              "    background-color: var(--disabled-bg-color);\n",
              "    fill: var(--disabled-fill-color);\n",
              "    box-shadow: none;\n",
              "  }\n",
              "\n",
              "  .colab-df-spinner {\n",
              "    border: 2px solid var(--fill-color);\n",
              "    border-color: transparent;\n",
              "    border-bottom-color: var(--fill-color);\n",
              "    animation:\n",
              "      spin 1s steps(1) infinite;\n",
              "  }\n",
              "\n",
              "  @keyframes spin {\n",
              "    0% {\n",
              "      border-color: transparent;\n",
              "      border-bottom-color: var(--fill-color);\n",
              "      border-left-color: var(--fill-color);\n",
              "    }\n",
              "    20% {\n",
              "      border-color: transparent;\n",
              "      border-left-color: var(--fill-color);\n",
              "      border-top-color: var(--fill-color);\n",
              "    }\n",
              "    30% {\n",
              "      border-color: transparent;\n",
              "      border-left-color: var(--fill-color);\n",
              "      border-top-color: var(--fill-color);\n",
              "      border-right-color: var(--fill-color);\n",
              "    }\n",
              "    40% {\n",
              "      border-color: transparent;\n",
              "      border-right-color: var(--fill-color);\n",
              "      border-top-color: var(--fill-color);\n",
              "    }\n",
              "    60% {\n",
              "      border-color: transparent;\n",
              "      border-right-color: var(--fill-color);\n",
              "    }\n",
              "    80% {\n",
              "      border-color: transparent;\n",
              "      border-right-color: var(--fill-color);\n",
              "      border-bottom-color: var(--fill-color);\n",
              "    }\n",
              "    90% {\n",
              "      border-color: transparent;\n",
              "      border-bottom-color: var(--fill-color);\n",
              "    }\n",
              "  }\n",
              "</style>\n",
              "\n",
              "  <script>\n",
              "    async function quickchart(key) {\n",
              "      const quickchartButtonEl =\n",
              "        document.querySelector('#' + key + ' button');\n",
              "      quickchartButtonEl.disabled = true;  // To prevent multiple clicks.\n",
              "      quickchartButtonEl.classList.add('colab-df-spinner');\n",
              "      try {\n",
              "        const charts = await google.colab.kernel.invokeFunction(\n",
              "            'suggestCharts', [key], {});\n",
              "      } catch (error) {\n",
              "        console.error('Error during call to suggestCharts:', error);\n",
              "      }\n",
              "      quickchartButtonEl.classList.remove('colab-df-spinner');\n",
              "      quickchartButtonEl.classList.add('colab-df-quickchart-complete');\n",
              "    }\n",
              "    (() => {\n",
              "      let quickchartButtonEl =\n",
              "        document.querySelector('#df-b939b3cc-1bdb-4560-a4fc-854e2ea79267 button');\n",
              "      quickchartButtonEl.style.display =\n",
              "        google.colab.kernel.accessAllowed ? 'block' : 'none';\n",
              "    })();\n",
              "  </script>\n",
              "</div>\n",
              "\n",
              "    </div>\n",
              "  </div>\n"
            ],
            "application/vnd.google.colaboratory.intrinsic+json": {
              "type": "dataframe",
              "summary": "{\n  \"name\": \"pd\",\n  \"rows\": 37,\n  \"fields\": [\n    {\n      \"column\": \"Mon\",\n      \"properties\": {\n        \"dtype\": \"number\",\n        \"std\": 75,\n        \"min\": 1,\n        \"max\": 253,\n        \"num_unique_values\": 37,\n        \"samples\": [\n          120,\n          92,\n          29\n        ],\n        \"semantic_type\": \"\",\n        \"description\": \"\"\n      }\n    },\n    {\n      \"column\": \"Tue\",\n      \"properties\": {\n        \"dtype\": \"number\",\n        \"std\": 75,\n        \"min\": 2,\n        \"max\": 254,\n        \"num_unique_values\": 37,\n        \"samples\": [\n          121,\n          93,\n          30\n        ],\n        \"semantic_type\": \"\",\n        \"description\": \"\"\n      }\n    },\n    {\n      \"column\": \"Wed\",\n      \"properties\": {\n        \"dtype\": \"number\",\n        \"std\": 75,\n        \"min\": 3,\n        \"max\": 255,\n        \"num_unique_values\": 37,\n        \"samples\": [\n          122,\n          94,\n          31\n        ],\n        \"semantic_type\": \"\",\n        \"description\": \"\"\n      }\n    },\n    {\n      \"column\": \"Thu\",\n      \"properties\": {\n        \"dtype\": \"number\",\n        \"std\": 75,\n        \"min\": 4,\n        \"max\": 256,\n        \"num_unique_values\": 37,\n        \"samples\": [\n          123,\n          95,\n          32\n        ],\n        \"semantic_type\": \"\",\n        \"description\": \"\"\n      }\n    },\n    {\n      \"column\": \"Fri\",\n      \"properties\": {\n        \"dtype\": \"number\",\n        \"std\": 75,\n        \"min\": 5,\n        \"max\": 257,\n        \"num_unique_values\": 37,\n        \"samples\": [\n          124,\n          96,\n          33\n        ],\n        \"semantic_type\": \"\",\n        \"description\": \"\"\n      }\n    },\n    {\n      \"column\": \"Sat\",\n      \"properties\": {\n        \"dtype\": \"number\",\n        \"std\": 75,\n        \"min\": 6,\n        \"max\": 258,\n        \"num_unique_values\": 37,\n        \"samples\": [\n          125,\n          97,\n          34\n        ],\n        \"semantic_type\": \"\",\n        \"description\": \"\"\n      }\n    },\n    {\n      \"column\": \"Sun\",\n      \"properties\": {\n        \"dtype\": \"number\",\n        \"std\": 75,\n        \"min\": 7,\n        \"max\": 259,\n        \"num_unique_values\": 37,\n        \"samples\": [\n          126,\n          98,\n          35\n        ],\n        \"semantic_type\": \"\",\n        \"description\": \"\"\n      }\n    }\n  ]\n}"
            }
          },
          "metadata": {},
          "execution_count": 107
        }
      ]
    }
  ]
}