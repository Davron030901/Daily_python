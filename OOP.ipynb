{
  "cells": [
    {
      "cell_type": "markdown",
      "metadata": {
        "id": "view-in-github",
        "colab_type": "text"
      },
      "source": [
        "<a href=\"https://colab.research.google.com/github/Davron030901/Daily_python/blob/main/OOP.ipynb\" target=\"_parent\"><img src=\"https://colab.research.google.com/assets/colab-badge.svg\" alt=\"Open In Colab\"/></a>"
      ]
    },
    {
      "cell_type": "code",
      "source": [
        "class Person:\n",
        "  # method Dander\n",
        "  # Must enter self\n",
        "    def __init__(self,name,age):\n",
        "        self.name = name\n",
        "        self.age = age\n",
        "\n",
        "    def display_inf0(self):\n",
        "        print(f\"Name: {self.name}\\nAge: {self.age}\")\n",
        "\n",
        "    def say(self,message):\n",
        "        print(f\"{self.name} says: {message}\")\n",
        "\n",
        "    def __str__(self):\n",
        "        return f\"Name: {self.name}\\nAge: {self.age}\"\n",
        "    def __del__(self):\n",
        "        print(\"Object is deleted\")\n",
        "bilol=Person(\"Bilol\",20)\n",
        "print(bilol.name)\n",
        "print(bilol.age)\n",
        "bilol.name=\"Bilolbek\"\n",
        "print(bilol.name)\n",
        "bilol.age=21\n",
        "print(bilol.age)\n",
        "bilol.display_inf0()\n",
        "bilol.say(\"Hello World\")\n",
        "print(bilol)\n",
        "\n",
        "def create_person():\n",
        "    name = input(\"Enter name: \")\n",
        "    age = int(input(\"Enter age: \"))\n",
        "    person = Person(name, age)\n",
        "    print(person)\n",
        "create_person()\n",
        "print(\"Done\")"
      ],
      "metadata": {
        "colab": {
          "base_uri": "https://localhost:8080/"
        },
        "id": "VvoZFdkE9aVe",
        "outputId": "073c0728-406a-4405-f2dd-74b6d6527a23"
      },
      "execution_count": null,
      "outputs": [
        {
          "output_type": "stream",
          "name": "stdout",
          "text": [
            "Bilol\n",
            "20\n",
            "Bilolbek\n",
            "21\n",
            "Name: Bilolbek\n",
            "Age: 21\n",
            "Bilolbek says: Hello World\n",
            "Name: Bilolbek\n",
            "Age: 21\n",
            "Enter name: Davron\n",
            "Enter age: 12\n",
            "Name: Davron\n",
            "Age: 12\n",
            "Object is deleted\n",
            "Done\n"
          ]
        }
      ]
    },
    {
      "cell_type": "code",
      "source": [
        "class Home:\n",
        "  # Atribute\n",
        "  name=\"bilol\"\n",
        "  def sef(self):\n",
        "    print(self.name)\n",
        "bilol=Home()\n",
        "bilol.name=\"Bilolbek\"\n",
        "bilol.sef()\n",
        "print(bilol.name)"
      ],
      "metadata": {
        "colab": {
          "base_uri": "https://localhost:8080/"
        },
        "id": "VNNZzxw3A_RC",
        "outputId": "eca2b045-6f80-47f6-f966-294e4ffaabcc"
      },
      "execution_count": null,
      "outputs": [
        {
          "output_type": "stream",
          "name": "stdout",
          "text": [
            "Bilolbek\n",
            "Bilolbek\n"
          ]
        }
      ]
    },
    {
      "cell_type": "code",
      "source": [
        "class Person:\n",
        "  def __init__(self,name,age,gender):\n",
        "    self.name=name\n",
        "    self.age=age\n",
        "    self.gender=gender\n",
        "  def display_info(self):\n",
        "    print(f\"Name: {self.name}\\nAge: {self.age}\")\n",
        "class Student(Person):\n",
        "  def __init__(self,name,age,gender,student_id,university,group):\n",
        "    super().__init__(name,age,gender)\n",
        "    self.student_id=student_id\n",
        "    self.university=university\n",
        "    self.group=group\n",
        "  def display_info(self):\n",
        "    super().display_info()\n",
        "    print(f\"Student ID: {self.student_id}\\nUniversity: {self.university}\\nGroup: {self.group}\")\n",
        "\n",
        "class Teacher(Person):\n",
        "  def __init__(self,name,age,gender,teacher_id,university,department):\n",
        "    super().__init__(name,age,gender)\n",
        "    self.teacher_id=teacher_id\n",
        "    self.university=university\n",
        "    self.department=department\n",
        "  def display_info(self):\n",
        "    super().display_info()\n",
        "    print(f\"Teacher ID: {self.teacher_id}\\nUniversity: {self.university}\\nDepartment: {self.department}\")\n",
        "class Worker(Person):\n",
        "  def __init__(self,name,age,gender,worker_id,company,position):\n",
        "    super().__init__(name,age,gender)\n",
        "    self.worker_id=worker_id\n",
        "    self.company=company\n",
        "    self.position=position\n",
        "  def display_info(self):\n",
        "    super().display_info()\n",
        "    print(f\"Worker ID: {self.worker_id}\\nCompany: {self.company}\\nPosition: {self.position}\")"
      ],
      "metadata": {
        "id": "iPixZYG4H-tB"
      },
      "execution_count": null,
      "outputs": []
    },
    {
      "cell_type": "code",
      "source": [
        "sardor=Student(\"Sardor\",23,\"Male\",12321,\"TUIT\",\"Python\")\n",
        "sardor.display_info()\n",
        "asil=Worker(\"Asil\",23,\"Male\",12321,\"TUIT\",\"Python\")\n",
        "asil.display_info()\n",
        "gani=Teacher(\"Ga\\'ni\",23,\"Male\",12321,\"TUIT\",\"Python\")\n",
        "gani.display_info()"
      ],
      "metadata": {
        "colab": {
          "base_uri": "https://localhost:8080/"
        },
        "id": "ysv6KSQpMlg8",
        "outputId": "0a0ed89c-0e87-429e-b1e8-23623bdf2e59"
      },
      "execution_count": null,
      "outputs": [
        {
          "output_type": "stream",
          "name": "stdout",
          "text": [
            "Name: Sardor\n",
            "Age: 23\n",
            "Student ID: 12321\n",
            "University: TUIT\n",
            "Group: Python\n",
            "Name: Asil\n",
            "Age: 23\n",
            "Worker ID: 12321\n",
            "Company: TUIT\n",
            "Position: Python\n",
            "Name: Ga'ni\n",
            "Age: 23\n",
            "Teacher ID: 12321\n",
            "University: TUIT\n",
            "Department: Python\n"
          ]
        }
      ]
    },
    {
      "cell_type": "code",
      "source": [
        "class New:\n",
        "  sale=13\n",
        "  count=4\n",
        "first=New()\n",
        "first.some=\"Value\"\n",
        "first.new='sometext'\n",
        "print(first.some)\n",
        "print(first.new)\n",
        "print(first.sale)\n",
        "print(first.count)\n",
        "setattr(first,\"yangi\",\"new\")\n",
        "hasattr(first,\"yangi\")\n",
        "getattr(first,\"yangi\")\n",
        "delattr(first,\"yangi\")"
      ],
      "metadata": {
        "id": "NEN-kbXQglwU",
        "colab": {
          "base_uri": "https://localhost:8080/"
        },
        "outputId": "d7e5e74e-2ca7-4503-e133-3a3584daf680"
      },
      "execution_count": null,
      "outputs": [
        {
          "output_type": "stream",
          "name": "stdout",
          "text": [
            "Value\n",
            "sometext\n",
            "13\n",
            "4\n"
          ]
        }
      ]
    },
    {
      "cell_type": "code",
      "source": [
        "print(first.__dict__)"
      ],
      "metadata": {
        "colab": {
          "base_uri": "https://localhost:8080/"
        },
        "id": "IXXK9V9XF7lQ",
        "outputId": "6cca650a-a145-4272-83ad-38bbde5a7569"
      },
      "execution_count": null,
      "outputs": [
        {
          "output_type": "stream",
          "name": "stdout",
          "text": [
            "{'some': 'Value', 'new': 'sometext'}\n"
          ]
        }
      ]
    },
    {
      "cell_type": "code",
      "source": [
        "del first.some\n",
        "print(first.__dict__)"
      ],
      "metadata": {
        "colab": {
          "base_uri": "https://localhost:8080/"
        },
        "id": "8eXgN-K1FtXI",
        "outputId": "75e1375e-0df2-4017-c122-e18468502d2c"
      },
      "execution_count": null,
      "outputs": [
        {
          "output_type": "stream",
          "name": "stdout",
          "text": [
            "{'new': 'sometext'}\n"
          ]
        }
      ]
    },
    {
      "cell_type": "code",
      "source": [
        "# class harakar va atributlar jamlanmasi\n",
        "class Car:\n",
        "  def __init__(self,brand,model,year):\n",
        "    self.brand=brand\n",
        "    self.model=model\n",
        "    self.year=year\n",
        "\n",
        "  def set_data(self):\n",
        "    return \"some text\"\n",
        "\n",
        "  def get_data(self):\n",
        "    return f\"Brand: {self.brand} \\n Model: {self.model} \\n Year: {self.year}\"\n",
        "\n",
        "first=Car(\"Chevrolet\",\"Malibu\",2023)\n",
        "print(first.set_data())\n",
        "print(first.get_data())\n"
      ],
      "metadata": {
        "colab": {
          "base_uri": "https://localhost:8080/"
        },
        "id": "Z4fRYqDFF4pZ",
        "outputId": "a57065bb-c0bf-447f-f5ad-34b8856df379"
      },
      "execution_count": null,
      "outputs": [
        {
          "output_type": "stream",
          "name": "stdout",
          "text": [
            "some text\n",
            "Brand: Chevrolet \n",
            " Model: Malibu \n",
            " Year: 2023\n"
          ]
        }
      ]
    },
    {
      "cell_type": "code",
      "source": [
        "from pprint import pprint\n",
        "\n",
        "# Oddiy ma'lumotlar to'plami\n",
        "data = {\n",
        "    'talabalar': [\n",
        "        {'ism': 'Aziz', 'yosh': 20, 'kurs': 2},\n",
        "        {'ism': 'Malika', 'yosh': 19, 'kurs': 1},\n",
        "        {'ism': 'Sobir', 'yosh': 21, 'kurs': 3}\n",
        "    ],\n",
        "    'fanlar': ['Matematika', 'Fizika', 'Informatika'],\n",
        "    'o\\'qituvchilar': {\n",
        "        'Matematika': 'Karimov A.',\n",
        "        'Fizika': 'Sobirov B.',\n",
        "        'Informatika': 'Azimov C.'\n",
        "    }\n",
        "}\n",
        "\n",
        "# Oddiy print bilan\n",
        "print(\"Oddiy print:\")\n",
        "print(data)\n",
        "\n",
        "print(\"\\npprint bilan:\")\n",
        "pprint(data)"
      ],
      "metadata": {
        "colab": {
          "base_uri": "https://localhost:8080/"
        },
        "id": "qOKBwloFHSBB",
        "outputId": "b3862ddc-751c-47ce-8c51-a2c43f2a9906"
      },
      "execution_count": null,
      "outputs": [
        {
          "output_type": "stream",
          "name": "stdout",
          "text": [
            "Oddiy print:\n",
            "{'talabalar': [{'ism': 'Aziz', 'yosh': 20, 'kurs': 2}, {'ism': 'Malika', 'yosh': 19, 'kurs': 1}, {'ism': 'Sobir', 'yosh': 21, 'kurs': 3}], 'fanlar': ['Matematika', 'Fizika', 'Informatika'], \"o'qituvchilar\": {'Matematika': 'Karimov A.', 'Fizika': 'Sobirov B.', 'Informatika': 'Azimov C.'}}\n",
            "\n",
            "pprint bilan:\n",
            "{'fanlar': ['Matematika', 'Fizika', 'Informatika'],\n",
            " \"o'qituvchilar\": {'Fizika': 'Sobirov B.',\n",
            "                   'Informatika': 'Azimov C.',\n",
            "                   'Matematika': 'Karimov A.'},\n",
            " 'talabalar': [{'ism': 'Aziz', 'kurs': 2, 'yosh': 20},\n",
            "               {'ism': 'Malika', 'kurs': 1, 'yosh': 19},\n",
            "               {'ism': 'Sobir', 'kurs': 3, 'yosh': 21}]}\n"
          ]
        }
      ]
    },
    {
      "cell_type": "code",
      "source": [
        "# Ma'lum chuqurlikkacha chop etish\n",
        "pprint(data, depth=2)\n",
        "\n",
        "# Maksimal qator uzunligini belgilash\n",
        "pprint(data, width=40)\n",
        "\n",
        "# String formatida olish\n",
        "from pprint import pformat\n",
        "formatted_str = pformat(data)"
      ],
      "metadata": {
        "colab": {
          "base_uri": "https://localhost:8080/"
        },
        "id": "0phBw0UWJGXH",
        "outputId": "be872369-f241-4cd0-c90e-53a82328aa32"
      },
      "execution_count": null,
      "outputs": [
        {
          "output_type": "stream",
          "name": "stdout",
          "text": [
            "Object is deleted\n",
            "{'fanlar': ['Matematika', 'Fizika', 'Informatika'],\n",
            " \"o'qituvchilar\": {'Fizika': 'Sobirov B.',\n",
            "                   'Informatika': 'Azimov C.',\n",
            "                   'Matematika': 'Karimov A.'},\n",
            " 'talabalar': [{...}, {...}, {...}]}\n",
            "{'fanlar': ['Matematika',\n",
            "            'Fizika',\n",
            "            'Informatika'],\n",
            " \"o'qituvchilar\": {'Fizika': 'Sobirov '\n",
            "                             'B.',\n",
            "                   'Informatika': 'Azimov '\n",
            "                                  'C.',\n",
            "                   'Matematika': 'Karimov '\n",
            "                                 'A.'},\n",
            " 'talabalar': [{'ism': 'Aziz',\n",
            "                'kurs': 2,\n",
            "                'yosh': 20},\n",
            "               {'ism': 'Malika',\n",
            "                'kurs': 1,\n",
            "                'yosh': 19},\n",
            "               {'ism': 'Sobir',\n",
            "                'kurs': 3,\n",
            "                'yosh': 21}]}\n"
          ]
        }
      ]
    },
    {
      "cell_type": "code",
      "source": [
        "class Car:\n",
        "    def __init__(self, brand, model, year):\n",
        "        self.brand = brand\n",
        "        self.model = model\n",
        "        self.year = year\n",
        "\n",
        "    def get_data(self):\n",
        "        return f\"Brand: {self.brand}\\nModel: {self.model}\\nYear: {self.year}\"\n",
        "\n",
        "class Engine_info:\n",
        "    def __init__(self, hp, oil, cyleader, light):\n",
        "        self.hp = hp\n",
        "        self.oil = oil\n",
        "        self.cyleader = cyleader\n",
        "        self.light = light\n",
        "\n",
        "class SuperCar(Car, Engine_info):\n",
        "    def __init__(self, brand, model, year, hp, oil, cyleader, light, color, engine, fuel, vencile, transmission):\n",
        "        Car.__init__(self, brand, model, year)\n",
        "        Engine_info.__init__(self, hp, oil, cyleader, light)\n",
        "\n",
        "        self.color = color\n",
        "        self.engine = engine\n",
        "        self.fuel = fuel\n",
        "        self.vencile = vencile\n",
        "        self.transmission = transmission\n",
        "\n",
        "    def get_data(self):\n",
        "        return Car.get_data(self) + f\"\"\"\\nColor: {self.color}\\nEngine: {self.engine}\\nFuel: {self.fuel}\\nVencile: {self.vencile}\\nTransmission: {self.transmission}\\nHorse power: {self.hp}\\nLight: {self.light}\"\"\"\n",
        "\n",
        "# Endi obyekt yaratish mumkin\n",
        "my_supercar = SuperCar(\n",
        "    brand=\"Lamborghini\",\n",
        "    model=\"Aventador\",\n",
        "    year=2023,\n",
        "    hp=770,\n",
        "    oil=\"Premium\",\n",
        "    cyleader=12,\n",
        "    light=\"LED Matrix\",\n",
        "    color=\"Metallic Black\",\n",
        "    engine=\"6.5L V12\",\n",
        "    fuel=\"Petrol\",\n",
        "    vencile=\"AWD\",\n",
        "    transmission=\"7-speed ISR\"\n",
        ")\n",
        "\n",
        "# Ma'lumotlarni ko'rish\n",
        "print(my_supercar.get_data())"
      ],
      "metadata": {
        "colab": {
          "base_uri": "https://localhost:8080/"
        },
        "id": "balEE0MYOsSn",
        "outputId": "af5cea15-4667-4032-89cf-0a081865eeb1"
      },
      "execution_count": null,
      "outputs": [
        {
          "output_type": "stream",
          "name": "stdout",
          "text": [
            "Brand: Lamborghini\n",
            "Model: Aventador\n",
            "Year: 2023\n",
            "Color: Metallic Black\n",
            "Engine: 6.5L V12\n",
            "Fuel: Petrol\n",
            "Vencile: AWD\n",
            "Transmission: 7-speed ISR\n",
            "Horse power: 770\n",
            "Light: LED Matrix\n"
          ]
        }
      ]
    },
    {
      "cell_type": "code",
      "source": [
        "# Ferrari obyekti\n",
        "ferrari = SuperCar(\n",
        "    brand=\"Ferrari\",\n",
        "    model=\"SF90 Stradale\",\n",
        "    year=2024,\n",
        "    hp=1000,\n",
        "    oil=\"Premium 98\",\n",
        "    cyleader=8,\n",
        "    light=\"LED\",\n",
        "    color=\"Rosso Corsa\",\n",
        "    engine=\"4.0L V8 Hybrid\",\n",
        "    fuel=\"Petrol-Electric\",\n",
        "    vencile=\"AWD\",\n",
        "    transmission=\"8-speed DCT\"\n",
        ")\n",
        "\n",
        "# Bugatti obyekti\n",
        "bugatti = SuperCar(\n",
        "    brand=\"Bugatti\",\n",
        "    model=\"Chiron\",\n",
        "    year=2023,\n",
        "    hp=1500,\n",
        "    oil=\"Premium 102\",\n",
        "    cyleader=16,\n",
        "    light=\"Matrix LED\",\n",
        "    color=\"French Blue\",\n",
        "    engine=\"8.0L W16\",\n",
        "    fuel=\"Petrol\",\n",
        "    vencile=\"AWD\",\n",
        "    transmission=\"7-speed DSG\"\n",
        ")\n",
        "\n",
        "# McLaren obyekti\n",
        "mclaren = SuperCar(\n",
        "    brand=\"McLaren\",\n",
        "    model=\"765LT\",\n",
        "    year=2024,\n",
        "    hp=765,\n",
        "    oil=\"Premium 95\",\n",
        "    cyleader=8,\n",
        "    light=\"Adaptive LED\",\n",
        "    color=\"Papaya Spark\",\n",
        "    engine=\"4.0L V8 Twin-Turbo\",\n",
        "    fuel=\"Petrol\",\n",
        "    vencile=\"RWD\",\n",
        "    transmission=\"7-speed SSG\"\n",
        ")\n",
        "print(\"\\nFerrari ma'lumotlari:\")\n",
        "print(ferrari.get_data())\n",
        "\n",
        "print(\"\\nBugatti ma'lumotlari:\")\n",
        "print(bugatti.get_data())\n",
        "\n",
        "print(\"\\nMcLaren ma'lumotlari:\")\n",
        "print(mclaren.get_data())"
      ],
      "metadata": {
        "colab": {
          "base_uri": "https://localhost:8080/"
        },
        "id": "-FaAwLGYL9QE",
        "outputId": "6a2af37f-fcd2-42d6-830a-ea33b1cac130"
      },
      "execution_count": null,
      "outputs": [
        {
          "output_type": "stream",
          "name": "stdout",
          "text": [
            "\n",
            "Ferrari ma'lumotlari:\n",
            "Brand: Ferrari\n",
            "Model: SF90 Stradale\n",
            "Year: 2024\n",
            "Color: Rosso Corsa\n",
            "Engine: 4.0L V8 Hybrid\n",
            "Fuel: Petrol-Electric\n",
            "Vencile: AWD\n",
            "Transmission: 8-speed DCT\n",
            "Horse power: 1000\n",
            "Light: LED\n",
            "\n",
            "Bugatti ma'lumotlari:\n",
            "Brand: Bugatti\n",
            "Model: Chiron\n",
            "Year: 2023\n",
            "Color: French Blue\n",
            "Engine: 8.0L W16\n",
            "Fuel: Petrol\n",
            "Vencile: AWD\n",
            "Transmission: 7-speed DSG\n",
            "Horse power: 1500\n",
            "Light: Matrix LED\n",
            "\n",
            "McLaren ma'lumotlari:\n",
            "Brand: McLaren\n",
            "Model: 765LT\n",
            "Year: 2024\n",
            "Color: Papaya Spark\n",
            "Engine: 4.0L V8 Twin-Turbo\n",
            "Fuel: Petrol\n",
            "Vencile: RWD\n",
            "Transmission: 7-speed SSG\n",
            "Horse power: 765\n",
            "Light: Adaptive LED\n"
          ]
        }
      ]
    },
    {
      "cell_type": "code",
      "source": [
        "class Car:\n",
        "  def __init__(self,km):\n",
        "    self.__km=km\n",
        "  def get_km(self):\n",
        "    return self.__km\n",
        "  def set_km(self,km):\n",
        "    self.__km=km\n",
        "  # def del_km(self):\n",
        "  #   del self._km\n",
        "new=Car(100)\n",
        "print(new.get_km())\n",
        "new.set_km(200)\n",
        "print(new.get_km())"
      ],
      "metadata": {
        "colab": {
          "base_uri": "https://localhost:8080/"
        },
        "id": "0iWJ69jEOvck",
        "outputId": "5244792e-25fd-4e84-b6b8-51345306ef67"
      },
      "execution_count": null,
      "outputs": [
        {
          "output_type": "stream",
          "name": "stdout",
          "text": [
            "100\n",
            "200\n"
          ]
        }
      ]
    },
    {
      "cell_type": "code",
      "source": [
        "class Shape:\n",
        "  def __init__(self,name):\n",
        "    self.name=name\n",
        "  def area(self):\n",
        "    pass\n",
        "  def perimeter(self):\n",
        "    pass\n",
        "\n",
        "class Rectangle(Shape):\n",
        "  def __init__(self,name,width,height):\n",
        "    super().__init__(name)\n",
        "    self.width=width\n",
        "    self.height=height\n",
        "  def area(self):\n",
        "    return self.width*self.height\n",
        "  def perimeter(self):\n",
        "    return 2*(self.width+self.height)\n",
        "\n",
        "class Triangle(Shape):\n",
        "  def __init__(self,name,base,height):\n",
        "    super().__init__(name)\n",
        "    self.base=base\n",
        "    self.height=height\n",
        "  def area(self):\n",
        "    return 0.5*self.base*self.height\n",
        "  def perimeter(self):\n",
        "    return self.base*3\n",
        "\n",
        "class Circle(Shape):\n",
        "  def __init__(self,name,radius):\n",
        "    super().__init__(name)\n",
        "    self.radius=radius\n",
        "  def area(self):\n",
        "    return 3.14*self.radius**2\n",
        "  def perimeter(self):\n",
        "    return 2*3.14*self.radius\n",
        "\n",
        "class Square(Shape):\n",
        "  def __init__(self,name,side):\n",
        "    super().__init__(name)\n",
        "    self.side=side\n",
        "  def area(self):\n",
        "    return self.side**2\n",
        "  def perimeter(self):\n",
        "    return 4*self.side\n",
        "\n",
        "class Parallelogram(Shape):\n",
        "  def __init__(self,name,base,height):\n",
        "    super().__init__(name)\n",
        "    self.base=base\n",
        "    self.height=height\n",
        "  def area(self):\n",
        "    return self.base*self.height\n",
        "  def perimeter(self):\n",
        "    return 2*(self.base+self.height)\n",
        "\n",
        "class Rhombus(Shape):\n",
        "  def __init__(self,name,diagonal1,diagonal2):\n",
        "    super().__init__(name)\n",
        "    self.diagonal1=diagonal1\n",
        "    self.diagonal2=diagonal2\n",
        "  def area(self):\n",
        "    return 0.5*self.diagonal1*self.diagonal2\n",
        "  def perimeter(self):\n",
        "    return 4*min(self.diagonal1,self.diagonal2)\n",
        "\n",
        "class Trapezoid(Shape):\n",
        "  def __init__(self,name,base1,base2,height):\n",
        "    super().__init__(name)\n",
        "    self.base1=base1\n",
        "    self.base2=base2\n",
        "    self.height=height\n",
        "  def area(self):\n",
        "    return 0.5*(self.base1+self.base2)*self.height\n",
        "  def perimeter(self):\n",
        "    return self.base1+self.base2+self.height\n",
        "\n",
        "class Ellipse(Shape):\n",
        "  def __init__(self,name,radius1,radius2):\n",
        "    super().__init__(name)\n",
        "    self.radius1=radius1\n",
        "    self.radius2=radius2\n",
        "  def area(self):\n",
        "    return 3.14*self.radius1*self.radius2\n",
        "  def perimeter(self):\n",
        "    return 2*3.14*((self.radius1**2+self.radius2**2)**0.5)\n",
        "\n",
        "class Cube(Shape):\n",
        "  def __init__(self,name,side):\n",
        "    super().__init__(name)\n",
        "    self.side=side\n",
        "  def area(self):\n",
        "    return 6*self.side**2\n",
        "  def perimeter(self):\n",
        "    return 12*self.side\n",
        "\n",
        "class Sphere(Shape):\n",
        "  def __init__(self,name,radius):\n",
        "    super().__init__(name)\n",
        "    self.radius=radius\n",
        "  def area(self):\n",
        "    return 4*3.14*self.radius**2\n",
        "  def perimeter(self):\n",
        "    return 2*3.14*self.radius\n",
        "\n",
        "class Cylinder(Shape):\n",
        "  def __init__(self,name,radius,height):\n",
        "    super().__init__(name)\n",
        "    self.radius=radius\n",
        "    self.height=height\n",
        "  def area(self):\n",
        "    return  2*3.14*self.radius*(self.radius+self.height)\n",
        "  def perimeter(self):\n",
        "    return 2*3.14*self.radius\n",
        "\n",
        "class Cone(Shape):\n",
        "  def __init__(self,name,radius,height):\n",
        "    super().__init__(name)\n",
        "    self.radius=radius\n",
        "    self.height=height\n",
        "  def area(self):\n",
        "    return 3.14*self.radius*(self.radius+((self.height**2+self.radius**2)**0.5))\n",
        "  def perimeter(self):\n",
        "    return 2*3.14*self.radius\n",
        "\n",
        "class Pyramid(Shape):\n",
        "  def __init__(self,name,base,height):\n",
        "    super().__init__(name)\n",
        "    self.base=base\n",
        "    self.height=height\n",
        "  def area(self):\n",
        "    return 0.5*self.base*self.height\n",
        "  def perimeter(self):\n",
        "    return 3*self.base\n",
        "\n",
        "class Hemisphere(Shape):\n",
        "  def __init__(self,name,radius):\n",
        "    super().__init__(name)\n",
        "    self.radius=radius\n",
        "  def area(self):\n",
        "    return 3*3.14*self.radius**2\n",
        "  def perimeter(self):\n",
        "    return 2*3.14*self.radius\n",
        "\n",
        "class Torus(Shape):\n",
        "  def __init__(self,name,outer_radius,inner_radius):\n",
        "    super().__init__(name)\n",
        "    self.outer_radius=outer_radius\n",
        "    self.inner_radius=inner_radius\n",
        "  def area(self):\n",
        "    return 2*3.14*self.outer_radius*(self.outer_radius+self.inner_radius)\n",
        "  def perimeter(self):\n",
        "    return 2*3.14*self.outer_radius\n",
        "\n",
        "class Octahedron(Shape):\n",
        "  def __init__(self,name,side):\n",
        "    super().__init__(name)\n",
        "    self.side=side\n",
        "  def area(self):\n",
        "    return 2*self.side**2\n",
        "\n",
        "class Tetrahedron(Shape):\n",
        "  def __init__(self,name,side):\n",
        "    super().__init__(name)\n",
        "    self.side=side\n",
        "  def area(self):\n",
        "    return self.side**2*3**0.5\n",
        "\n",
        "  def perimeter(self):\n",
        "    return 4*self.side\n",
        "\n",
        "class Icosahedron(Shape):\n",
        "  def __init__(self,name,side):\n",
        "    super().__init__(name)\n",
        "    self.side=side\n",
        "  def area(self):\n",
        "    return 5*self.side**2*(5+2**0.5)\n",
        "\n",
        "  def perimeter(self):\n",
        "    return 4*self.side\n",
        "\n",
        "class Dodecahedron(Shape):\n",
        "  def __init__(self,name,side):\n",
        "    super().__init__(name)\n",
        "    self.side=side\n",
        "  def area(self):\n",
        "    return 3*self.side**2*(3+2**0.5)\n",
        "  def perimeter(self):\n",
        "    return 12*self.side\n",
        "\n",
        "class Tetrahedron(Shape):\n",
        "  def __init__(self,name,side):\n",
        "    super().__init__(name)\n",
        "    self.side=side\n",
        "  def area(self):\n",
        "    return 3*self.side**2*(3+2**0.5)\n",
        "\n",
        "class Tetrahedron(Shape):\n",
        "  def __init__(self,name,side):\n",
        "    super().__init__(name)\n",
        "    self.side=side\n",
        "  def area(self):\n",
        "    return 3*self.side**2*(3+2**0.5)\n",
        "  def perimeter(self):\n",
        "    return 4*self.side\n",
        "\n",
        "class Hexagon(Shape):\n",
        "  def __init__(self,name,side):\n",
        "    super().__init__(name)\n",
        "    self.side=side\n",
        "  def area(self):\n",
        "    return 3*self.side**2*(3+2**0.5)\n",
        "  def perimeter(self):\n",
        "    return 6*self.side"
      ],
      "metadata": {
        "id": "Oo0YaAIZRHoZ"
      },
      "execution_count": null,
      "outputs": []
    },
    {
      "cell_type": "code",
      "source": [
        "obj1=Shape(\"Shape\")\n",
        "obj2=Rectangle(\"Rectangle\",10,20)\n",
        "obj3=Triangle(\"Triangle\",10,20)\n",
        "obj4=Circle(\"Circle\",10)\n",
        "obj5=Square(\"Square\",10)\n",
        "obj6=Parallelogram(\"Parallelogram\",10,20)\n",
        "obj7=Rhombus(\"Rhombus\",10,20)\n",
        "obj8=Trapezoid(\"Trapezoid\",10,20,30)\n",
        "obj9=Ellipse(\"Ellipse\",10,20)\n",
        "obj10=Cube(\"Cube\",10)\n",
        "obj11=Sphere(\"Sphere\",10)\n",
        "obj12=Cylinder(\"Cylinder\",10,20)\n",
        "obj13=Cone(\"Cone\",10,20)\n",
        "obj14=Pyramid(\"Pyramid\",10,20)\n",
        "obj15=Hemisphere(\"Hemisphere\",10)\n",
        "obj16=Torus(\"Torus\",10,20)\n",
        "obj17=Octahedron(\"Octahedron\",10)\n",
        "obj18=Tetrahedron(\"Tetrahedron\",10)\n",
        "obj19=Icosahedron(\"Icosahedron\",10)\n",
        "obj20=Dodecahedron(\"Dodecahedron\",10)\n",
        "obj21=Hexagon(\"Hexagon\",10)"
      ],
      "metadata": {
        "id": "WhoV2x7PMqKr"
      },
      "execution_count": null,
      "outputs": []
    },
    {
      "cell_type": "code",
      "source": [
        "for obj in [obj1,obj2,obj3,obj4,obj5,obj6,obj7,obj8,obj9,obj10,obj11,obj12,obj13,obj14,obj15,obj16,obj17,obj18,obj19,obj20,obj21]:\n",
        "  print(f'Shape name:{obj.name}\\n Area:{obj.area()}, Perimeter:{obj.perimeter()}\\n')"
      ],
      "metadata": {
        "colab": {
          "base_uri": "https://localhost:8080/"
        },
        "id": "os1RaqzJNE9L",
        "outputId": "2b6e7c88-ed53-484b-8dcf-2d9eed9486f2"
      },
      "execution_count": null,
      "outputs": [
        {
          "output_type": "stream",
          "name": "stdout",
          "text": [
            "Shape name:Shape\n",
            " Area:None, Perimeter:None\n",
            "\n",
            "Shape name:Rectangle\n",
            " Area:200, Perimeter:60\n",
            "\n",
            "Shape name:Triangle\n",
            " Area:100.0, Perimeter:30\n",
            "\n",
            "Shape name:Circle\n",
            " Area:314.0, Perimeter:62.800000000000004\n",
            "\n",
            "Shape name:Square\n",
            " Area:100, Perimeter:40\n",
            "\n",
            "Shape name:Parallelogram\n",
            " Area:200, Perimeter:60\n",
            "\n",
            "Shape name:Rhombus\n",
            " Area:100.0, Perimeter:40\n",
            "\n",
            "Shape name:Trapezoid\n",
            " Area:450.0, Perimeter:60\n",
            "\n",
            "Shape name:Ellipse\n",
            " Area:628.0, Perimeter:140.42506898698682\n",
            "\n",
            "Shape name:Cube\n",
            " Area:600, Perimeter:120\n",
            "\n",
            "Shape name:Sphere\n",
            " Area:1256.0, Perimeter:62.800000000000004\n",
            "\n",
            "Shape name:Cylinder\n",
            " Area:1884.0000000000002, Perimeter:62.800000000000004\n",
            "\n",
            "Shape name:Cone\n",
            " Area:1016.1253449349341, Perimeter:62.800000000000004\n",
            "\n",
            "Shape name:Pyramid\n",
            " Area:100.0, Perimeter:30\n",
            "\n",
            "Shape name:Hemisphere\n",
            " Area:942.0, Perimeter:62.800000000000004\n",
            "\n",
            "Shape name:Torus\n",
            " Area:1884.0000000000002, Perimeter:62.800000000000004\n",
            "\n",
            "Shape name:Octahedron\n",
            " Area:200, Perimeter:None\n",
            "\n",
            "Shape name:Tetrahedron\n",
            " Area:1324.2640687119285, Perimeter:40\n",
            "\n",
            "Shape name:Icosahedron\n",
            " Area:3207.1067811865473, Perimeter:40\n",
            "\n",
            "Shape name:Dodecahedron\n",
            " Area:1324.2640687119285, Perimeter:120\n",
            "\n",
            "Shape name:Hexagon\n",
            " Area:1324.2640687119285, Perimeter:60\n",
            "\n"
          ]
        }
      ]
    },
    {
      "cell_type": "code",
      "source": [
        "from abc import ABC,abstractmethod\n",
        "class Animal(ABC):\n",
        "  def __init__(self,name,age):\n",
        "    self.name=name\n",
        "    self.age=age\n",
        "  @abstractmethod\n",
        "  def make_sound(self):\n",
        "    pass\n",
        "class Dog(Animal):\n",
        "  def get_data(self):\n",
        "    return f'Name:{self.name}, Age:{self.age}'\n",
        "  def make_sound(self):\n",
        "    return \"Woof!\"\n",
        "class Cat(Animal):\n",
        "  def get_data(self):\n",
        "    return f'Name:{self.name}, Age:{self.age}'\n",
        "  def make_sound(self):\n",
        "    return \"Meow!\"\n",
        "class Bird(Animal):\n",
        "  def get_data(self):\n",
        "    return f'Name:{self.name}, Age:{self.age}'\n",
        "  def make_sound(self):\n",
        "    return \"Chirp!\""
      ],
      "metadata": {
        "id": "MpWzQCVBQiID"
      },
      "execution_count": null,
      "outputs": []
    },
    {
      "cell_type": "code",
      "source": [
        "objects2=Dog(\"Dog\",10)\n",
        "objects3=Cat(\"Cat\",10)\n",
        "objects4=Bird(\"Bird\",10)"
      ],
      "metadata": {
        "id": "LIlXBF1YSELk"
      },
      "execution_count": null,
      "outputs": []
    },
    {
      "cell_type": "code",
      "source": [
        "for obj in [objects2,objects3,objects4]:\n",
        "  print(f'Name:{obj.name}, Age:{obj.age}, Sound:{obj.make_sound()}\\n')"
      ],
      "metadata": {
        "colab": {
          "base_uri": "https://localhost:8080/"
        },
        "id": "P5gbScN0SLa_",
        "outputId": "c4318663-13e3-4acd-8625-947f2803cb5f"
      },
      "execution_count": null,
      "outputs": [
        {
          "output_type": "stream",
          "name": "stdout",
          "text": [
            "Name:Dog, Age:10, Sound:Woof!\n",
            "\n",
            "Name:Cat, Age:10, Sound:Meow!\n",
            "\n",
            "Name:Bird, Age:10, Sound:Chirp!\n",
            "\n"
          ]
        }
      ]
    },
    {
      "cell_type": "code",
      "source": [
        "class Birds(ABC):\n",
        "  def __init__(self,name,age):\n",
        "    self.name=name\n",
        "    self.age=age\n",
        "  @abstractmethod\n",
        "  def fly(self):\n",
        "    pass\n",
        "  @abstractmethod\n",
        "  def swim(self):\n",
        "    pass\n",
        "\n",
        "class Eagle(Birds):\n",
        "  def get_data(self):\n",
        "    return f'Name:{self.name}, Age:{self.age}'\n",
        "  def swim(self):\n",
        "    return False\n",
        "  def fly(self):\n",
        "    return True\n",
        "\n",
        "class Penguin(Birds):\n",
        "  def get_data(self):\n",
        "    return f'Name:{self.name}, Age:{self.age}'\n",
        "  def swim(self):\n",
        "    return True\n",
        "  def fly(self):\n",
        "    return False\n",
        "\n",
        "class Parrot(Birds):\n",
        "  def get_data(self):\n",
        "    return f'Name:{self.name}, Age:{self.age}'\n",
        "  def fly(self):\n",
        "    return False\n",
        "  def swim(self):\n",
        "    return False"
      ],
      "metadata": {
        "id": "DyP0DExiSOCx"
      },
      "execution_count": null,
      "outputs": []
    },
    {
      "cell_type": "code",
      "source": [
        "objs2=Eagle(\"Eagle\",10)\n",
        "objs3=Penguin(\"Penguin\",10)\n",
        "objs4=Parrot(\"Parrot\",10)"
      ],
      "metadata": {
        "id": "bBoU6yWsTdjm"
      },
      "execution_count": null,
      "outputs": []
    },
    {
      "cell_type": "code",
      "source": [
        "for obj in [objs2,objs3,objs4]:\n",
        "  print(f'Name:{obj.name}, Age:{obj.age}, Swim:{obj.swim()}, Fly:{obj.fly()}\\n')"
      ],
      "metadata": {
        "colab": {
          "base_uri": "https://localhost:8080/"
        },
        "id": "B6S8NVVbTird",
        "outputId": "e5236a46-0511-491c-f553-301da65e7719"
      },
      "execution_count": null,
      "outputs": [
        {
          "output_type": "stream",
          "name": "stdout",
          "text": [
            "Name:Eagle, Age:10, Swim:False, Fly:True\n",
            "\n",
            "Name:Penguin, Age:10, Swim:True, Fly:False\n",
            "\n",
            "Name:Parrot, Age:10, Swim:False, Fly:False\n",
            "\n"
          ]
        }
      ]
    },
    {
      "cell_type": "code",
      "source": [
        "class Bird:\n",
        "    def __init__(self, name, age):\n",
        "        self.name = name\n",
        "        self.age = age\n",
        "\n",
        "# Ob'ekt yaratish\n",
        "bird = Bird(\"Sparrow\", 3)\n",
        "\n",
        "# Atributni ko'rish\n",
        "print(bird.name)  # Sparrow\n",
        "\n",
        "# Atributni o'chirish\n",
        "del bird.name\n",
        "# print(bird.name)  # AttributeError: 'Bird' object has no attribute 'name'\n",
        "# Atributni o'chirgandan keyin\n",
        "# print(bird.name)  # Bu xato beradi: AttributeError: 'Bird' object has no attribute 'name'\n"
      ],
      "metadata": {
        "colab": {
          "base_uri": "https://localhost:8080/"
        },
        "id": "9zLk630pTnLo",
        "outputId": "75755a7c-b116-4d88-90bc-d3188d2c77c6"
      },
      "execution_count": null,
      "outputs": [
        {
          "output_type": "stream",
          "name": "stdout",
          "text": [
            "Sparrow\n"
          ]
        }
      ]
    },
    {
      "cell_type": "code",
      "source": [
        "arr=[[1,2,3,4,5],[6,7,8,9,10],[11,12,13,14,15],[16,17,18,19,20],[21,22,23,24,25]]\n",
        "sum=0\n",
        "for i in range(len(arr)):\n",
        "  for j in range(len(arr[i])):\n",
        "    if j%2==0:\n",
        "      sum+=arr[i][j]\n",
        "    if i==2 and j%2==1:\n",
        "      sum+=arr[i][j]\n",
        "print(sum)"
      ],
      "metadata": {
        "id": "AxXd5Gz1Xi_J",
        "colab": {
          "base_uri": "https://localhost:8080/"
        },
        "outputId": "6b4b8c41-e505-4266-d933-c42a59bd6500"
      },
      "execution_count": null,
      "outputs": [
        {
          "output_type": "stream",
          "name": "stdout",
          "text": [
            "221\n"
          ]
        }
      ]
    },
    {
      "cell_type": "code",
      "source": [
        "lists=[1,2,3,4,3,2,1,2,3]\n",
        "count=0\n",
        "for i in range(len(lists)-2):\n",
        "  if abs(lists[i]-lists[i+1])!=abs(lists[i+1]-lists[i+2]):\n",
        "    count+=1\n",
        "    break\n",
        "print(count==0)"
      ],
      "metadata": {
        "colab": {
          "base_uri": "https://localhost:8080/"
        },
        "id": "guL2OGH-xkke",
        "outputId": "771ab70c-079e-4408-b805-3cf08d876969"
      },
      "execution_count": null,
      "outputs": [
        {
          "output_type": "stream",
          "name": "stdout",
          "text": [
            "True\n"
          ]
        }
      ]
    },
    {
      "cell_type": "code",
      "source": [
        "lists = [[],[],[],[],[]]\n",
        "for i in range(5):\n",
        "  for j in range(5):\n",
        "    if i%2==1 and j==2:\n",
        "      lists[i].append(1)\n",
        "    elif i==2 and j%2==1:\n",
        "      lists[i].append(1)\n",
        "    else:\n",
        "      lists[i].append(0)\n",
        "lists"
      ],
      "metadata": {
        "colab": {
          "base_uri": "https://localhost:8080/"
        },
        "id": "7tx1MjAy2X7A",
        "outputId": "fff19902-72c9-482c-cc49-ea343c71a132"
      },
      "execution_count": 40,
      "outputs": [
        {
          "output_type": "execute_result",
          "data": {
            "text/plain": [
              "[[0, 0, 0, 0, 0],\n",
              " [0, 0, 1, 0, 0],\n",
              " [0, 1, 0, 1, 0],\n",
              " [0, 0, 1, 0, 0],\n",
              " [0, 0, 0, 0, 0]]"
            ]
          },
          "metadata": {},
          "execution_count": 40
        }
      ]
    },
    {
      "cell_type": "code",
      "source": [
        "lists = []\n",
        "count=0\n",
        "for i in range(5):\n",
        "  i=[]\n",
        "  lists.append(i)\n",
        "  for j in range(5):\n",
        "    if count%2==1 and j==2:\n",
        "      i.append(1)\n",
        "    elif count==2 and j%2==1:\n",
        "      i.append(1)\n",
        "    else:\n",
        "      i.append(0)\n",
        "  count+=1\n",
        "lists"
      ],
      "metadata": {
        "id": "C3X4JoaM4gOm",
        "colab": {
          "base_uri": "https://localhost:8080/"
        },
        "outputId": "87d68eaf-264a-452d-bb5a-759a0101b334"
      },
      "execution_count": 6,
      "outputs": [
        {
          "output_type": "execute_result",
          "data": {
            "text/plain": [
              "[[0, 0, 0, 0, 0],\n",
              " [0, 0, 1, 0, 0],\n",
              " [0, 1, 0, 1, 0],\n",
              " [0, 0, 1, 0, 0],\n",
              " [0, 0, 0, 0, 0]]"
            ]
          },
          "metadata": {},
          "execution_count": 6
        }
      ]
    },
    {
      "cell_type": "code",
      "source": [
        "lists = []\n",
        "count=0\n",
        "for i in range(5):\n",
        "  i=[]\n",
        "  lists.append(i)\n",
        "  for j in range(5):\n",
        "    if count%2==1 and j%2==1:\n",
        "      i.append(\"#\")\n",
        "    else:\n",
        "      i.append(0)\n",
        "  count+=1\n",
        "lists"
      ],
      "metadata": {
        "colab": {
          "base_uri": "https://localhost:8080/"
        },
        "id": "JtGTCeyH_egn",
        "outputId": "86ff29d9-c2ba-49f3-ff9d-d4dba789244f"
      },
      "execution_count": 9,
      "outputs": [
        {
          "output_type": "execute_result",
          "data": {
            "text/plain": [
              "[[0, 0, 0, 0, 0],\n",
              " [0, '#', 0, '#', 0],\n",
              " [0, 0, 0, 0, 0],\n",
              " [0, '#', 0, '#', 0],\n",
              " [0, 0, 0, 0, 0]]"
            ]
          },
          "metadata": {},
          "execution_count": 9
        }
      ]
    },
    {
      "cell_type": "code",
      "source": [
        "arr=[\n",
        "    [1 ,2 ,3, 4, 5],\n",
        "    [6 ,7 ,8, 9,10],\n",
        "    [11,12,13,14,15],\n",
        "    [16,17,18,19,20],\n",
        "    [21,22,23,24,25]\n",
        "    ]\n",
        "sum=0\n",
        "for i in range(len(arr)):\n",
        "  for j in range(len(arr[i])):\n",
        "    if i!=len(arr)-j-1 and j<i+1:\n",
        "      sum+=arr[i][j]\n",
        "print(sum)"
      ],
      "metadata": {
        "id": "z4r0sfIyCmuv",
        "outputId": "bdc16c87-367b-495f-d7ec-77a55a27b261",
        "colab": {
          "base_uri": "https://localhost:8080/"
        }
      },
      "execution_count": 27,
      "outputs": [
        {
          "output_type": "stream",
          "name": "stdout",
          "text": [
            "184\n"
          ]
        }
      ]
    },
    {
      "cell_type": "code",
      "source": [
        "1+6+11+16+7+12+18+19+22+23+24+25"
      ],
      "metadata": {
        "id": "1g2LkaolD4Y_",
        "outputId": "233cb97f-f18d-4adf-db6d-5c499fb75cec",
        "colab": {
          "base_uri": "https://localhost:8080/"
        }
      },
      "execution_count": 20,
      "outputs": [
        {
          "output_type": "execute_result",
          "data": {
            "text/plain": [
              "184"
            ]
          },
          "metadata": {},
          "execution_count": 20
        }
      ]
    },
    {
      "cell_type": "code",
      "source": [
        "arr=[\n",
        "    [1 ,2 ,3, 4, 5],\n",
        "    [6 ,7 ,8, 9,10],\n",
        "    [11,12,13,14,15],\n",
        "    [16,17,18,19,20],\n",
        "    [21,22,23,24,25]\n",
        "    ]\n",
        "for i in range(len(arr)):\n",
        "  for j in range(len(arr[i])):\n",
        "    if (i==len(arr)-j-1 or j==i or j==len(arr)-1 or j==0) and (i!=3 and j%2!=1) :\n",
        "      arr[i][j]=\"*\"\n",
        "arr"
      ],
      "metadata": {
        "id": "u8W-LnaKGO3V",
        "outputId": "e657c998-6e91-4e68-b689-9f24dccba173",
        "colab": {
          "base_uri": "https://localhost:8080/"
        }
      },
      "execution_count": 40,
      "outputs": [
        {
          "output_type": "execute_result",
          "data": {
            "text/plain": [
              "[['*', 2, 3, 4, '*'],\n",
              " ['*', 7, 8, 9, '*'],\n",
              " ['*', 12, '*', 14, '*'],\n",
              " [16, 17, 18, 19, 20],\n",
              " ['*', 22, 23, 24, '*']]"
            ]
          },
          "metadata": {},
          "execution_count": 40
        }
      ]
    },
    {
      "cell_type": "code",
      "source": [
        "lists =[[\"*\" if j <i+1 else 0 for j in range(5)] for i in range(5)]\n",
        "lists"
      ],
      "metadata": {
        "id": "CS2hC81GKwDv",
        "outputId": "d218a56a-d3df-4634-d974-c241a03b6e33",
        "colab": {
          "base_uri": "https://localhost:8080/"
        }
      },
      "execution_count": 50,
      "outputs": [
        {
          "output_type": "execute_result",
          "data": {
            "text/plain": [
              "[['*', 0, 0, 0, 0],\n",
              " ['*', '*', 0, 0, 0],\n",
              " ['*', '*', '*', 0, 0],\n",
              " ['*', '*', '*', '*', 0],\n",
              " ['*', '*', '*', '*', '*']]"
            ]
          },
          "metadata": {},
          "execution_count": 50
        }
      ]
    },
    {
      "cell_type": "code",
      "source": [
        "lists =[[0 if j==i or i==4-j else 1 for j in range(5)] for i in range(5)]\n",
        "lists"
      ],
      "metadata": {
        "id": "2YaIRug_OUbR",
        "outputId": "43f147a1-a298-42a0-a523-3800c467ff2a",
        "colab": {
          "base_uri": "https://localhost:8080/"
        }
      },
      "execution_count": 49,
      "outputs": [
        {
          "output_type": "execute_result",
          "data": {
            "text/plain": [
              "[[0, 1, 1, 1, 0],\n",
              " [1, 0, 1, 0, 1],\n",
              " [1, 1, 0, 1, 1],\n",
              " [1, 0, 1, 0, 1],\n",
              " [0, 1, 1, 1, 0]]"
            ]
          },
          "metadata": {},
          "execution_count": 49
        }
      ]
    },
    {
      "cell_type": "code",
      "source": [],
      "metadata": {
        "id": "4HSAjU0uObLr"
      },
      "execution_count": null,
      "outputs": []
    }
  ],
  "metadata": {
    "colab": {
      "provenance": [],
      "authorship_tag": "ABX9TyMouWYT+tXTU0rHKs3sOr+7",
      "include_colab_link": true
    },
    "kernelspec": {
      "display_name": "Python 3",
      "name": "python3"
    },
    "language_info": {
      "name": "python"
    }
  },
  "nbformat": 4,
  "nbformat_minor": 0
}