{
  "cells": [
    {
      "cell_type": "markdown",
      "metadata": {
        "id": "view-in-github",
        "colab_type": "text"
      },
      "source": [
        "<a href=\"https://colab.research.google.com/github/Davron030901/Daily_python/blob/main/OOP.ipynb\" target=\"_parent\"><img src=\"https://colab.research.google.com/assets/colab-badge.svg\" alt=\"Open In Colab\"/></a>"
      ]
    },
    {
      "cell_type": "code",
      "source": [
        "class Person:\n",
        "  # method Dander\n",
        "  # Must enter self\n",
        "    def __init__(self,name,age):\n",
        "        self.name = name\n",
        "        self.age = age\n",
        "\n",
        "    def display_inf0(self):\n",
        "        print(f\"Name: {self.name}\\nAge: {self.age}\")\n",
        "\n",
        "    def say(self,message):\n",
        "        print(f\"{self.name} says: {message}\")\n",
        "\n",
        "    def __str__(self):\n",
        "        return f\"Name: {self.name}\\nAge: {self.age}\"\n",
        "    def __del__(self):\n",
        "        print(\"Object is deleted\")\n",
        "bilol=Person(\"Bilol\",20)\n",
        "print(bilol.name)\n",
        "print(bilol.age)\n",
        "bilol.name=\"Bilolbek\"\n",
        "print(bilol.name)\n",
        "bilol.age=21\n",
        "print(bilol.age)\n",
        "bilol.display_inf0()\n",
        "bilol.say(\"Hello World\")\n",
        "print(bilol)\n",
        "\n",
        "def create_person():\n",
        "    name = input(\"Enter name: \")\n",
        "    age = int(input(\"Enter age: \"))\n",
        "    person = Person(name, age)\n",
        "    print(person)\n",
        "create_person()\n",
        "print(\"Done\")"
      ],
      "metadata": {
        "colab": {
          "base_uri": "https://localhost:8080/"
        },
        "id": "VvoZFdkE9aVe",
        "outputId": "5de04186-01d0-43ec-bd07-2eb56d5a4544"
      },
      "execution_count": null,
      "outputs": [
        {
          "output_type": "stream",
          "name": "stdout",
          "text": [
            "Bilol\n",
            "20\n",
            "Bilolbek\n",
            "21\n",
            "Name: Bilolbek\n",
            "Age: 21\n",
            "Bilolbek says: Hello World\n",
            "Name: Bilolbek\n",
            "Age: 21\n",
            "Enter name: salom\n",
            "Enter age: 23\n",
            "Name: salom\n",
            "Age: 23\n",
            "Object is deleted\n",
            "Done\n"
          ]
        }
      ]
    },
    {
      "cell_type": "code",
      "source": [
        "class Home:\n",
        "  # Atribute\n",
        "  name=\"bilol\"\n",
        "  def sef(self):\n",
        "    print(self.name)\n",
        "bilol=Home()\n",
        "bilol.name=\"Bilolbek\"\n",
        "bilol.sef()\n",
        "print(bilol.name)"
      ],
      "metadata": {
        "colab": {
          "base_uri": "https://localhost:8080/"
        },
        "id": "VNNZzxw3A_RC",
        "outputId": "e664341a-fc82-44d1-a103-377df96062ee"
      },
      "execution_count": null,
      "outputs": [
        {
          "output_type": "stream",
          "name": "stdout",
          "text": [
            "Bilolbek\n",
            "Bilolbek\n"
          ]
        }
      ]
    },
    {
      "cell_type": "code",
      "source": [
        "class Person:\n",
        "  def __init__(self,name,age,gender):\n",
        "    self.name=name\n",
        "    self.age=age\n",
        "    self.gender=gender\n",
        "  def display_info(self):\n",
        "    print(f\"Name: {self.name}\\nAge: {self.age}\")\n",
        "class Student(Person):\n",
        "  def __init__(self,name,age,gender,student_id,university,group):\n",
        "    super().__init__(name,age,gender)\n",
        "    self.student_id=student_id\n",
        "    self.university=university\n",
        "    self.group=group\n",
        "  def display_info(self):\n",
        "    super().display_info()\n",
        "    print(f\"Student ID: {self.student_id}\\nUniversity: {self.university}\\nGroup: {self.group}\")\n",
        "\n",
        "class Teacher(Person):\n",
        "  def __init__(self,name,age,gender,teacher_id,university,department):\n",
        "    super().__init__(name,age,gender)\n",
        "    self.teacher_id=teacher_id\n",
        "    self.university=university\n",
        "    self.department=department\n",
        "  def display_info(self):\n",
        "    super().display_info()\n",
        "    print(f\"Teacher ID: {self.teacher_id}\\nUniversity: {self.university}\\nDepartment: {self.department}\")\n",
        "class Worker(Person):\n",
        "  def __init__(self,name,age,gender,worker_id,company,position):\n",
        "    super().__init__(name,age,gender)\n",
        "    self.worker_id=worker_id\n",
        "    self.company=company\n",
        "    self.position=position\n",
        "  def display_info(self):\n",
        "    super().display_info()\n",
        "    print(f\"Worker ID: {self.worker_id}\\nCompany: {self.company}\\nPosition: {self.position}\")"
      ],
      "metadata": {
        "id": "iPixZYG4H-tB"
      },
      "execution_count": null,
      "outputs": []
    },
    {
      "cell_type": "code",
      "source": [
        "sardor=Student(\"Sardor\",23,\"Male\",12321,\"TUIT\",\"Python\")\n",
        "sardor.display_info()\n",
        "asil=Worker(\"Asil\",23,\"Male\",12321,\"TUIT\",\"Python\")\n",
        "asil.display_info()\n",
        "gani=Teacher(\"Ga\\'ni\",23,\"Male\",12321,\"TUIT\",\"Python\")\n",
        "gani.display_info()"
      ],
      "metadata": {
        "colab": {
          "base_uri": "https://localhost:8080/"
        },
        "id": "ysv6KSQpMlg8",
        "outputId": "8d126860-8a3c-48de-d5ff-e27b9363a68f"
      },
      "execution_count": null,
      "outputs": [
        {
          "output_type": "stream",
          "name": "stdout",
          "text": [
            "Name: Sardor\n",
            "Age: 23\n",
            "Student ID: 12321\n",
            "University: TUIT\n",
            "Group: Python\n",
            "Name: Asil\n",
            "Age: 23\n",
            "Worker ID: 12321\n",
            "Company: TUIT\n",
            "Position: Python\n",
            "Name: Ga'ni\n",
            "Age: 23\n",
            "Teacher ID: 12321\n",
            "University: TUIT\n",
            "Department: Python\n"
          ]
        }
      ]
    }
  ],
  "metadata": {
    "colab": {
      "provenance": [],
      "authorship_tag": "ABX9TyOFINghY8IF+IXs+N9W1Qwj",
      "include_colab_link": true
    },
    "kernelspec": {
      "display_name": "Python 3",
      "name": "python3"
    },
    "language_info": {
      "name": "python"
    }
  },
  "nbformat": 4,
  "nbformat_minor": 0
}