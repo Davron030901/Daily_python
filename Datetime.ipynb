{
  "nbformat": 4,
  "nbformat_minor": 0,
  "metadata": {
    "colab": {
      "provenance": [],
      "authorship_tag": "ABX9TyMaSEmypKD+akazGw71ldy0",
      "include_colab_link": true
    },
    "kernelspec": {
      "name": "python3",
      "display_name": "Python 3"
    },
    "language_info": {
      "name": "python"
    }
  },
  "cells": [
    {
      "cell_type": "markdown",
      "metadata": {
        "id": "view-in-github",
        "colab_type": "text"
      },
      "source": [
        "<a href=\"https://colab.research.google.com/github/Davron030901/Daily_python/blob/main/Datetime.ipynb\" target=\"_parent\"><img src=\"https://colab.research.google.com/assets/colab-badge.svg\" alt=\"Open In Colab\"/></a>"
      ]
    },
    {
      "cell_type": "markdown",
      "source": [
        "Python Dates\n",
        "A date in Python is not a data type of its own, but we can import a module named datetime to work with dates as date objects."
      ],
      "metadata": {
        "id": "v9Q1Ms-nDHwC"
      }
    },
    {
      "cell_type": "code",
      "execution_count": null,
      "metadata": {
        "colab": {
          "base_uri": "https://localhost:8080/"
        },
        "id": "fqbwci5UDEZU",
        "outputId": "07c46543-6635-4470-c6c2-ce66942fe683"
      },
      "outputs": [
        {
          "output_type": "stream",
          "name": "stdout",
          "text": [
            "2024-10-30 15:31:00.083787\n"
          ]
        }
      ],
      "source": [
        "import datetime\n",
        "\n",
        "x = datetime.datetime.now()\n",
        "print(x)"
      ]
    },
    {
      "cell_type": "markdown",
      "source": [
        "*Date Output*\n",
        "\n",
        "When we execute the code from the example above the result will be:\n",
        "\n",
        "*2024-10-30 20:29:24.342268*\n",
        "The date contains year, month, day, hour, minute, second, and microsecond.\n",
        "\n",
        "The datetime module has many methods to return information about the date object.\n",
        "\n",
        "Here are a few examples, you will learn more about them later in this chapter:"
      ],
      "metadata": {
        "id": "SDP-IuLsDRoY"
      }
    },
    {
      "cell_type": "code",
      "source": [
        "import datetime\n",
        "\n",
        "x = datetime.datetime.now()\n",
        "\n",
        "print(x.year)\n",
        "print(x.strftime(\"%A\"))"
      ],
      "metadata": {
        "colab": {
          "base_uri": "https://localhost:8080/"
        },
        "id": "UH67OdjNDL5G",
        "outputId": "f094b209-c98a-4bd3-b1d0-db7ca5778189"
      },
      "execution_count": null,
      "outputs": [
        {
          "output_type": "stream",
          "name": "stdout",
          "text": [
            "2024\n",
            "Wednesday\n"
          ]
        }
      ]
    },
    {
      "cell_type": "markdown",
      "source": [
        "*Creating Date Objects*\n",
        "\n",
        "To create a date, we can use the datetime() class (constructor) of the datetime module.\n",
        "\n",
        "The datetime() class requires three parameters to create a date: year, month, day."
      ],
      "metadata": {
        "id": "E3dO5Q6tDfNd"
      }
    },
    {
      "cell_type": "code",
      "source": [
        "import datetime\n",
        "\n",
        "x = datetime.datetime(2020, 5, 17)\n",
        "\n",
        "print(x)"
      ],
      "metadata": {
        "colab": {
          "base_uri": "https://localhost:8080/"
        },
        "id": "WFyVSr7NDZxX",
        "outputId": "8b44a608-3fab-472f-f715-36fc9b604d6a"
      },
      "execution_count": null,
      "outputs": [
        {
          "output_type": "stream",
          "name": "stdout",
          "text": [
            "2020-05-17 00:00:00\n"
          ]
        }
      ]
    },
    {
      "cell_type": "markdown",
      "source": [
        "The datetime() class also takes parameters for time and timezone (hour, minute, second, microsecond, tzone), but they are optional, and has a default value of 0, (None for timezone).\n",
        "\n",
        "*The strftime() Method*\n",
        "\n",
        "The datetime object has a method for formatting date objects into readable strings.\n",
        "\n",
        "The method is called strftime(), and takes one parameter, format, to specify the format of the returned string:"
      ],
      "metadata": {
        "id": "q4v_dbMqDlsJ"
      }
    },
    {
      "cell_type": "code",
      "source": [
        "import datetime\n",
        "\n",
        "x = datetime.datetime(2018, 6, 1)\n",
        "\n",
        "print(x.strftime(\"%B\"))"
      ],
      "metadata": {
        "colab": {
          "base_uri": "https://localhost:8080/"
        },
        "id": "LES0Ac-PDjWP",
        "outputId": "e7182789-b181-42bf-dccd-0826898a5c66"
      },
      "execution_count": null,
      "outputs": [
        {
          "output_type": "stream",
          "name": "stdout",
          "text": [
            "June\n"
          ]
        }
      ]
    },
    {
      "cell_type": "markdown",
      "source": [
        "Directive\tDescription\tExample\tTry it\n",
        "%a\tWeekday, short version\tWed\n",
        "%A\tWeekday, full version\tWednesday\n",
        "%w\tWeekday as a number 0-6, 0 is Sunday\t3\n",
        "%d\tDay of month 01-31\t31\n",
        "%b\tMonth name, short version\tDec\n",
        "%B\tMonth name, full version\tDecember\n",
        "%m\tMonth as a number 01-12\t12\n",
        "%y\tYear, short version, without century\t18\n",
        "%Y\tYear, full version\t2018\n",
        "%H\tHour 00-23\t17\n",
        "%I\tHour 00-12\t05\n",
        "%p\tAM/PM\tPM\n",
        "%M\tMinute 00-59\t41\n",
        "%S\tSecond 00-59\t08\n",
        "%f\tMicrosecond 000000-999999\t548513\n",
        "%z\tUTC offset\t+0100\n",
        "%Z\tTimezone\tCST\n",
        "%j\tDay number of year 001-366\t365\n",
        "%U\tWeek number of year, Sunday as the first day of week, 00-53\t52\n",
        "%W\tWeek number of year, Monday as the first day of week, 00-53\t52\n",
        "%c\tLocal version of date and time\tMon Dec 31 17:41:00 2018\n",
        "%C\tCentury\t20\n",
        "%x\tLocal version of date\t12/31/18\n",
        "%X\tLocal version of time\t17:41:00\n",
        "%%\tA % character\t%\n",
        "%G\tISO 8601 year\t2018\n",
        "%u\tISO 8601 weekday (1-7)\t1\n",
        "%V\tISO 8601 weeknumber (01-53)\t01"
      ],
      "metadata": {
        "id": "7G1CcgnVDwZA"
      }
    }
  ]
}