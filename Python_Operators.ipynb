{
  "nbformat": 4,
  "nbformat_minor": 0,
  "metadata": {
    "colab": {
      "provenance": [],
      "authorship_tag": "ABX9TyM+pLgiTJ+X2VW3yEhnu7yL",
      "include_colab_link": true
    },
    "kernelspec": {
      "name": "python3",
      "display_name": "Python 3"
    },
    "language_info": {
      "name": "python"
    }
  },
  "cells": [
    {
      "cell_type": "markdown",
      "metadata": {
        "id": "view-in-github",
        "colab_type": "text"
      },
      "source": [
        "<a href=\"https://colab.research.google.com/github/Davron030901/Daily_python/blob/main/Python_Operators.ipynb\" target=\"_parent\"><img src=\"https://colab.research.google.com/assets/colab-badge.svg\" alt=\"Open In Colab\"/></a>"
      ]
    },
    {
      "cell_type": "markdown",
      "source": [
        "**Python Assignment Operators**\n",
        "Assignment operators are used to assign values to variables:"
      ],
      "metadata": {
        "id": "qhEjUMmGYbJC"
      }
    },
    {
      "cell_type": "markdown",
      "source": [
        "AND (&)"
      ],
      "metadata": {
        "id": "b9fG7g7HbQGV"
      }
    },
    {
      "cell_type": "code",
      "execution_count": 5,
      "metadata": {
        "colab": {
          "base_uri": "https://localhost:8080/",
          "height": 53
        },
        "id": "D0lqPdoXRopH",
        "outputId": "e3fc2e33-81a9-4aaf-9f48-11dac7387f8f"
      },
      "outputs": [
        {
          "output_type": "stream",
          "name": "stdout",
          "text": [
            "0\n"
          ]
        },
        {
          "output_type": "execute_result",
          "data": {
            "text/plain": [
              "'  1100 (12)\\n& 0011 (3)\\n  ----\\n  0000 (0)'"
            ],
            "application/vnd.google.colaboratory.intrinsic+json": {
              "type": "string"
            }
          },
          "metadata": {},
          "execution_count": 5
        }
      ],
      "source": [
        "x = 12\n",
        "\n",
        "x &= 3\n",
        "\n",
        "print(x)\n",
        "'''  1100 (12)\n",
        "& 0011 (3)\n",
        "  ----\n",
        "  0000 (0)'''"
      ]
    },
    {
      "cell_type": "markdown",
      "source": [
        "OR (|)"
      ],
      "metadata": {
        "id": "A5bU_W_sbMrX"
      }
    },
    {
      "cell_type": "code",
      "source": [
        "x = 5\n",
        "\n",
        "x |= 3\n",
        "\n",
        "print(x)\n",
        "\"\"\"  0101 (5)\n",
        "| 0011 (3)\n",
        "  ----\n",
        "  0111 (7)\"\"\""
      ],
      "metadata": {
        "colab": {
          "base_uri": "https://localhost:8080/",
          "height": 53
        },
        "id": "LD9hjahbYuFV",
        "outputId": "129f864a-6eef-4b5b-af48-e5f3e6619132"
      },
      "execution_count": 9,
      "outputs": [
        {
          "output_type": "stream",
          "name": "stdout",
          "text": [
            "7\n"
          ]
        },
        {
          "output_type": "execute_result",
          "data": {
            "text/plain": [
              "'  0101 (5)\\n| 0011 (3)\\n  ----\\n  0111 (7)'"
            ],
            "application/vnd.google.colaboratory.intrinsic+json": {
              "type": "string"
            }
          },
          "metadata": {},
          "execution_count": 9
        }
      ]
    },
    {
      "cell_type": "markdown",
      "source": [
        "XOR (^)"
      ],
      "metadata": {
        "id": "dNEmGaj-bH13"
      }
    },
    {
      "cell_type": "code",
      "source": [
        "x = 6\n",
        "\n",
        "x ^= 3\n",
        "\n",
        "print(x)\n",
        "\"\"\"  0101 (5)\n",
        "^ 0011 (3)\n",
        "  ----\n",
        "  0110 (6)\"\"\""
      ],
      "metadata": {
        "colab": {
          "base_uri": "https://localhost:8080/"
        },
        "id": "C63137P5actg",
        "outputId": "27b2d59c-69e4-4674-f214-9edb496c4ef8"
      },
      "execution_count": 11,
      "outputs": [
        {
          "output_type": "stream",
          "name": "stdout",
          "text": [
            "5\n"
          ]
        }
      ]
    },
    {
      "cell_type": "code",
      "source": [
        "x = 5\n",
        "\n",
        "x >>= 3\n",
        "\n",
        "print(x)\n",
        "\"\"\"Boshlang'ich: 0101 (5)\n",
        "1-siljish:    0010\n",
        "2-siljish:    0001\n",
        "3-siljish:    0000 (0)\"\"\""
      ],
      "metadata": {
        "colab": {
          "base_uri": "https://localhost:8080/"
        },
        "id": "BinCNCxSa5qk",
        "outputId": "c42dd3a6-0a35-4c73-96af-b4d7320ac155"
      },
      "execution_count": 13,
      "outputs": [
        {
          "output_type": "stream",
          "name": "stdout",
          "text": [
            "1\n"
          ]
        }
      ]
    },
    {
      "cell_type": "code",
      "source": [
        "x = 5\n",
        "\n",
        "x <<= 3\n",
        "\n",
        "print(x)\n",
        "\"\"\"Boshlang'ich: 0101 (5)\n",
        "1-siljish:    1010\n",
        "2-siljish:    10100\n",
        "3-siljish:    101000 (0)\"\"\""
      ],
      "metadata": {
        "colab": {
          "base_uri": "https://localhost:8080/",
          "height": 53
        },
        "id": "B4DA0V0ebdv5",
        "outputId": "3f821271-ac92-4365-d3dc-ba51b0c0b93b"
      },
      "execution_count": 14,
      "outputs": [
        {
          "output_type": "stream",
          "name": "stdout",
          "text": [
            "40\n"
          ]
        },
        {
          "output_type": "execute_result",
          "data": {
            "text/plain": [
              "\"Boshlang'ich: 0101 (5)\\n1-siljish:    1010 \\n2-siljish:    10100\\n3-siljish:    101000 (0)\""
            ],
            "application/vnd.google.colaboratory.intrinsic+json": {
              "type": "string"
            }
          },
          "metadata": {},
          "execution_count": 14
        }
      ]
    },
    {
      "cell_type": "code",
      "source": [
        "\"\"\"x = 3\n",
        "print(x)\"\"\"\n",
        "print(x := 3)"
      ],
      "metadata": {
        "colab": {
          "base_uri": "https://localhost:8080/"
        },
        "id": "bNhqPqfec0yR",
        "outputId": "8d36ca7a-757e-47c5-b21b-5a1fae258e50"
      },
      "execution_count": 17,
      "outputs": [
        {
          "output_type": "stream",
          "name": "stdout",
          "text": [
            "3\n"
          ]
        }
      ]
    },
    {
      "cell_type": "markdown",
      "source": [
        "**Python Comparison Operators**\n",
        "Comparison operators are used to compare two values:\n",
        "\n",
        "Operator\tName\tExample\tTry it\n",
        "==\tEqual\tx == y\n",
        "!=\tNot equal\tx != y\n",
        ">Greater than\tx > y\n",
        "<\tLess than\tx < y\n",
        ">=\tGreater than or equal to\tx >= y\n",
        "<=\tLess than or equal to\tx <= y\n"
      ],
      "metadata": {
        "id": "8YjXB6k-dTrE"
      }
    },
    {
      "cell_type": "markdown",
      "source": [
        "**Python Logical Operators**\n",
        "Logical operators are used to combine conditional statements:\n",
        "\n",
        "Operator\tDescription\tExample\tTry it\n",
        "\n",
        "*and* \tReturns True if both statements are true\tx < 5 and  x < 10\n",
        "\n",
        "*or*\tReturns True if one of the statements is true\tx < 5 or x < 4\n",
        "\n",
        "*not*\tReverse the result, returns False if the result is true\tnot(x < 5 and x < 10)"
      ],
      "metadata": {
        "id": "UVcirdRndwZr"
      }
    },
    {
      "cell_type": "markdown",
      "source": [
        "**Python Identity Operators**\n",
        "\n",
        "Identity operators are used to compare the objects, not if they are equal, but if they are actually the same object, with the same memory location:\n",
        "\n",
        "Operator\tDescription\tExample\tTry it\n",
        "is \tReturns True if both variables are the same object\tx is y\n",
        "is not\tReturns True if both variables are not the same object\tx is not y"
      ],
      "metadata": {
        "id": "2wBIjXwxeI5y"
      }
    },
    {
      "cell_type": "code",
      "source": [
        "x = [\"apple\", \"banana\"]\n",
        "y = [\"apple\", \"banana\"]\n",
        "z = x\n",
        "\n",
        "print(x is z)\n",
        "\n",
        "# returns True because z is the same object as x\n",
        "\n",
        "print(x is y)\n",
        "\n",
        "# returns False because x is not the same object as y, even if they have the same content\n",
        "\n",
        "print(x == y)\n",
        "\n",
        "# to demonstrate the difference betweeen \"is\" and \"==\": this comparison returns True because x is equal to y\n"
      ],
      "metadata": {
        "colab": {
          "base_uri": "https://localhost:8080/"
        },
        "id": "FC2JtBY3dCqL",
        "outputId": "cea0675a-27df-4648-95ff-e533bc9eb178"
      },
      "execution_count": 18,
      "outputs": [
        {
          "output_type": "stream",
          "name": "stdout",
          "text": [
            "True\n",
            "False\n",
            "True\n"
          ]
        }
      ]
    },
    {
      "cell_type": "code",
      "source": [
        "x = [\"apple\", \"banana\"]\n",
        "y = [\"apple\", \"banana\"]\n",
        "z = x\n",
        "\n",
        "print(x is not z)\n",
        "\n",
        "# returns False because z is the same object as x\n",
        "\n",
        "print(x is not y)\n",
        "\n",
        "# returns True because x is not the same object as y, even if they have the same content\n",
        "\n",
        "print(x != y)\n",
        "\n",
        "# to demonstrate the difference betweeen \"is not\" and \"!=\": this comparison returns False because x is equal to y"
      ],
      "metadata": {
        "colab": {
          "base_uri": "https://localhost:8080/"
        },
        "id": "iAMhgtOhfjC2",
        "outputId": "c2fd6b53-67bb-42fa-e832-29f71b83d3e5"
      },
      "execution_count": 19,
      "outputs": [
        {
          "output_type": "stream",
          "name": "stdout",
          "text": [
            "False\n",
            "True\n",
            "False\n"
          ]
        }
      ]
    },
    {
      "cell_type": "markdown",
      "source": [
        "**Python Membership Operators**\n",
        "\n",
        "Membership operators are used to test if a sequence is presented in an object:"
      ],
      "metadata": {
        "id": "Pr4Jqeo5f1nU"
      }
    },
    {
      "cell_type": "code",
      "source": [
        "x = [\"apple\", \"banana\"]\n",
        "\n",
        "print(\"banana\" in x)\n",
        "\n",
        "# returns True because a sequence with the value \"banana\" is in the list\n"
      ],
      "metadata": {
        "colab": {
          "base_uri": "https://localhost:8080/"
        },
        "id": "q4wkqKjUfldE",
        "outputId": "9bfb1b99-ce57-48bb-fecf-5279990a3b7a"
      },
      "execution_count": 20,
      "outputs": [
        {
          "output_type": "stream",
          "name": "stdout",
          "text": [
            "True\n"
          ]
        }
      ]
    },
    {
      "cell_type": "code",
      "source": [
        "x = [\"apple\", \"banana\"]\n",
        "\n",
        "print(\"pineapple\" not in x)\n",
        "\n",
        "# returns True because a sequence with the value \"pineapple\" is not in the list\n"
      ],
      "metadata": {
        "colab": {
          "base_uri": "https://localhost:8080/"
        },
        "id": "gC3YxKdXf-o7",
        "outputId": "028acaa8-7459-4183-b248-ec25ad17aacb"
      },
      "execution_count": 21,
      "outputs": [
        {
          "output_type": "stream",
          "name": "stdout",
          "text": [
            "True\n"
          ]
        }
      ]
    },
    {
      "cell_type": "markdown",
      "source": [
        "**Python Bitwise Operators**\n",
        "\n",
        "Bitwise operators are used to compare *(binary)* numbers:\n",
        "\n",
        "Operator\tName\tDescription\tExample\tTry it\n",
        "*& \tAND*\tSets each bit to 1 if both bits are 1\tx & y\n",
        "*|\tOR*\tSets each bit to 1 if one of two bits is 1\tx | y\n",
        "*^\tXOR*\tSets each bit to 1 if only one of two bits is 1\tx ^ y\n",
        "*~\tNOT*\tInverts all the bits\t~x\n",
        "*<<\tZero fill left shift*\tShift left by pushing zeros in from the right and let the leftmost bits fall off\tx << 2\n",
        "*>>\tSigned right shift* \tShift right by pushing copies of the leftmost bit in from the left, and let the rightmost bits fall off\tx >> 2"
      ],
      "metadata": {
        "id": "7uqyu2regJGk"
      }
    },
    {
      "cell_type": "code",
      "source": [
        "print(6 & 3)\n",
        "\n",
        "\n",
        "\n",
        "\"\"\"\n",
        "The & operator compares each bit and set it to 1 if both are 1, otherwise it is set to 0:\n",
        "\n",
        "6 = 0000000000000110\n",
        "3 = 0000000000000011\n",
        "--------------------\n",
        "2 = 0000000000000010\n",
        "====================\n",
        "\n",
        "Decimal numbers and their binary values:\n",
        "0 = 0000000000000000\n",
        "1 = 0000000000000001\n",
        "2 = 0000000000000010\n",
        "3 = 0000000000000011\n",
        "4 = 0000000000000100\n",
        "5 = 0000000000000101\n",
        "6 = 0000000000000110\n",
        "7 = 0000000000000111\n",
        "\"\"\""
      ],
      "metadata": {
        "colab": {
          "base_uri": "https://localhost:8080/",
          "height": 122
        },
        "id": "WkaBwE5-gB-y",
        "outputId": "fa84df76-9093-4045-ed7e-8b8c8a9da2cb"
      },
      "execution_count": 23,
      "outputs": [
        {
          "output_type": "stream",
          "name": "stdout",
          "text": [
            "2\n"
          ]
        },
        {
          "output_type": "execute_result",
          "data": {
            "text/plain": [
              "'\\nThe & operator compares each bit and set it to 1 if both are 1, otherwise it is set to 0:\\n\\n6 = 0000000000000110\\n3 = 0000000000000011\\n--------------------\\n2 = 0000000000000010\\n====================\\n\\nDecimal numbers and their binary values:\\n0 = 0000000000000000\\n1 = 0000000000000001\\n2 = 0000000000000010\\n3 = 0000000000000011\\n4 = 0000000000000100\\n5 = 0000000000000101\\n6 = 0000000000000110\\n7 = 0000000000000111\\n'"
            ],
            "application/vnd.google.colaboratory.intrinsic+json": {
              "type": "string"
            }
          },
          "metadata": {},
          "execution_count": 23
        }
      ]
    },
    {
      "cell_type": "code",
      "source": [
        "print(6 | 3)\n",
        "\n",
        "\n",
        "\n",
        "\"\"\"\n",
        "The | operator compares each bit and set it to 1 if one or both is 1, otherwise it is set to 0:\n",
        "\n",
        "6 = 0000000000000110\n",
        "3 = 0000000000000011\n",
        "--------------------\n",
        "7 = 0000000000000111\n",
        "====================\n",
        "\n",
        "Decimal numbers and their binary values:\n",
        "0 = 0000000000000000\n",
        "1 = 0000000000000001\n",
        "2 = 0000000000000010\n",
        "3 = 0000000000000011\n",
        "4 = 0000000000000100\n",
        "5 = 0000000000000101\n",
        "6 = 0000000000000110\n",
        "7 = 0000000000000111\n",
        "\"\"\""
      ],
      "metadata": {
        "colab": {
          "base_uri": "https://localhost:8080/",
          "height": 122
        },
        "id": "Imj-2BcmgjWc",
        "outputId": "3d261922-723c-4da5-cd1d-be16c2c273e2"
      },
      "execution_count": 24,
      "outputs": [
        {
          "output_type": "stream",
          "name": "stdout",
          "text": [
            "7\n"
          ]
        },
        {
          "output_type": "execute_result",
          "data": {
            "text/plain": [
              "'\\nThe | operator compares each bit and set it to 1 if one or both is 1, otherwise it is set to 0:\\n\\n6 = 0000000000000110\\n3 = 0000000000000011\\n--------------------\\n7 = 0000000000000111\\n====================\\n\\nDecimal numbers and their binary values:\\n0 = 0000000000000000\\n1 = 0000000000000001\\n2 = 0000000000000010\\n3 = 0000000000000011\\n4 = 0000000000000100\\n5 = 0000000000000101\\n6 = 0000000000000110\\n7 = 0000000000000111\\n'"
            ],
            "application/vnd.google.colaboratory.intrinsic+json": {
              "type": "string"
            }
          },
          "metadata": {},
          "execution_count": 24
        }
      ]
    },
    {
      "cell_type": "code",
      "source": [
        "print(6 ^ 3)\n",
        "\n",
        "\n",
        "\n",
        "\"\"\"\n",
        "The ^ operator compares each bit and set it to 1 if only one is 1, otherwise (if both are 1 or both are 0) it is set to 0:\n",
        "\n",
        "6 = 0000000000000110\n",
        "3 = 0000000000000011\n",
        "--------------------\n",
        "5 = 0000000000000101\n",
        "====================\n",
        "\n",
        "Decimal numbers and their binary values:\n",
        "0 = 0000000000000000\n",
        "1 = 0000000000000001\n",
        "2 = 0000000000000010\n",
        "3 = 0000000000000011\n",
        "4 = 0000000000000100\n",
        "5 = 0000000000000101\n",
        "6 = 0000000000000110\n",
        "7 = 0000000000000111\n",
        "\"\"\""
      ],
      "metadata": {
        "colab": {
          "base_uri": "https://localhost:8080/",
          "height": 122
        },
        "id": "tfXv5X9TgtA_",
        "outputId": "f62be9f7-b122-450e-9788-526c45650c5a"
      },
      "execution_count": 25,
      "outputs": [
        {
          "output_type": "stream",
          "name": "stdout",
          "text": [
            "5\n"
          ]
        },
        {
          "output_type": "execute_result",
          "data": {
            "text/plain": [
              "'\\nThe ^ operator compares each bit and set it to 1 if only one is 1, otherwise (if both are 1 or both are 0) it is set to 0:\\n\\n6 = 0000000000000110\\n3 = 0000000000000011\\n--------------------\\n5 = 0000000000000101\\n====================\\n\\nDecimal numbers and their binary values:\\n0 = 0000000000000000\\n1 = 0000000000000001\\n2 = 0000000000000010\\n3 = 0000000000000011\\n4 = 0000000000000100\\n5 = 0000000000000101\\n6 = 0000000000000110\\n7 = 0000000000000111\\n'"
            ],
            "application/vnd.google.colaboratory.intrinsic+json": {
              "type": "string"
            }
          },
          "metadata": {},
          "execution_count": 25
        }
      ]
    },
    {
      "cell_type": "code",
      "source": [
        "print(~3)\n",
        "\n",
        "\n",
        "\n",
        "\"\"\"\n",
        "The ~ operator inverts each bit (0 becomes 1 and 1 becomes 0).\n",
        "\n",
        "Inverted 3 becomes -4:\n",
        " 3 = 0000000000000011\n",
        "-4 = 1111111111111100\n",
        "\n",
        "Decimal numbers and their binary values:\n",
        " 4 = 0000000000000100\n",
        " 3 = 0000000000000011\n",
        " 2 = 0000000000000010\n",
        " 1 = 0000000000000001\n",
        " 0 = 0000000000000000\n",
        "-1 = 1111111111111111\n",
        "-2 = 1111111111111110\n",
        "-3 = 1111111111111101\n",
        "-4 = 1111111111111100\n",
        "\"\"\"\n"
      ],
      "metadata": {
        "colab": {
          "base_uri": "https://localhost:8080/",
          "height": 105
        },
        "id": "HXEGC_LPgw3D",
        "outputId": "c01e7d87-00d9-4972-d783-71decc24903d"
      },
      "execution_count": 26,
      "outputs": [
        {
          "output_type": "stream",
          "name": "stdout",
          "text": [
            "-4\n"
          ]
        },
        {
          "output_type": "execute_result",
          "data": {
            "text/plain": [
              "'\\nThe ~ operator inverts each bit (0 becomes 1 and 1 becomes 0).\\n\\nInverted 3 becomes -4:\\n 3 = 0000000000000011\\n-4 = 1111111111111100\\n\\nDecimal numbers and their binary values:\\n 4 = 0000000000000100\\n 3 = 0000000000000011\\n 2 = 0000000000000010\\n 1 = 0000000000000001\\n 0 = 0000000000000000\\n-1 = 1111111111111111\\n-2 = 1111111111111110\\n-3 = 1111111111111101\\n-4 = 1111111111111100\\n'"
            ],
            "application/vnd.google.colaboratory.intrinsic+json": {
              "type": "string"
            }
          },
          "metadata": {},
          "execution_count": 26
        }
      ]
    },
    {
      "cell_type": "code",
      "source": [
        "print(3 << 2)\n",
        "\n",
        "\n",
        "\n",
        "\"\"\"\n",
        "The << operator inserts the specified number of 0's (in this case 2) from the right and let the same amount of leftmost bits fall off:\n",
        "\n",
        "If you push 00 in from the left:\n",
        " 3 = 0000000000000011\n",
        "becomes\n",
        "12 = 0000000000001100\n",
        "\n",
        "Decimal numbers and their binary values:\n",
        " 0 = 0000000000000000\n",
        " 1 = 0000000000000001\n",
        " 2 = 0000000000000010\n",
        " 3 = 0000000000000011\n",
        " 4 = 0000000000000100\n",
        " 5 = 0000000000000101\n",
        " 6 = 0000000000000110\n",
        " 7 = 0000000000000111\n",
        " 8 = 0000000000001000\n",
        " 9 = 0000000000001001\n",
        "10 = 0000000000001010\n",
        "11 = 0000000000001011\n",
        "12 = 0000000000001100\n",
        "\"\"\""
      ],
      "metadata": {
        "colab": {
          "base_uri": "https://localhost:8080/",
          "height": 140
        },
        "id": "o4R10Cczg2o_",
        "outputId": "1852ce2c-6cfb-4ee0-bf32-73496529ebeb"
      },
      "execution_count": 27,
      "outputs": [
        {
          "output_type": "stream",
          "name": "stdout",
          "text": [
            "12\n"
          ]
        },
        {
          "output_type": "execute_result",
          "data": {
            "text/plain": [
              "\"\\nThe << operator inserts the specified number of 0's (in this case 2) from the right and let the same amount of leftmost bits fall off:\\n\\nIf you push 00 in from the left:\\n 3 = 0000000000000011\\nbecomes\\n12 = 0000000000001100\\n\\nDecimal numbers and their binary values:\\n 0 = 0000000000000000\\n 1 = 0000000000000001\\n 2 = 0000000000000010\\n 3 = 0000000000000011\\n 4 = 0000000000000100\\n 5 = 0000000000000101\\n 6 = 0000000000000110\\n 7 = 0000000000000111\\n 8 = 0000000000001000\\n 9 = 0000000000001001\\n10 = 0000000000001010\\n11 = 0000000000001011\\n12 = 0000000000001100\\n\""
            ],
            "application/vnd.google.colaboratory.intrinsic+json": {
              "type": "string"
            }
          },
          "metadata": {},
          "execution_count": 27
        }
      ]
    },
    {
      "cell_type": "code",
      "source": [
        "print(8 >> 2)\n",
        "\n",
        "\n",
        "\n",
        "\"\"\"\n",
        "The >> operator moves each bit the specified number of times to the right. Empty holes at the left are filled with 0's.\n",
        "\n",
        "If you move each bit 2 times to the right, 8 becomes 2:\n",
        " 8 = 0000000000001000\n",
        "becomes\n",
        " 2 = 0000000000000010\n",
        "\n",
        "Decimal numbers and their binary values:\n",
        " 0 = 0000000000000000\n",
        " 1 = 0000000000000001\n",
        " 2 = 0000000000000010\n",
        " 3 = 0000000000000011\n",
        " 4 = 0000000000000100\n",
        " 5 = 0000000000000101\n",
        " 6 = 0000000000000110\n",
        " 7 = 0000000000000111\n",
        " 8 = 0000000000001000\n",
        " 9 = 0000000000001001\n",
        "10 = 0000000000001010\n",
        "11 = 0000000000001011\n",
        "12 = 0000000000001100\n",
        "\"\"\""
      ],
      "metadata": {
        "colab": {
          "base_uri": "https://localhost:8080/",
          "height": 140
        },
        "id": "h1XTxvDOg7YN",
        "outputId": "8a273fe9-c2eb-4853-e6bb-3c1dbfffe1b1"
      },
      "execution_count": 28,
      "outputs": [
        {
          "output_type": "stream",
          "name": "stdout",
          "text": [
            "2\n"
          ]
        },
        {
          "output_type": "execute_result",
          "data": {
            "text/plain": [
              "\"\\nThe >> operator moves each bit the specified number of times to the right. Empty holes at the left are filled with 0's.\\n\\nIf you move each bit 2 times to the right, 8 becomes 2:\\n 8 = 0000000000001000\\nbecomes\\n 2 = 0000000000000010\\n\\nDecimal numbers and their binary values:\\n 0 = 0000000000000000\\n 1 = 0000000000000001\\n 2 = 0000000000000010\\n 3 = 0000000000000011\\n 4 = 0000000000000100\\n 5 = 0000000000000101\\n 6 = 0000000000000110\\n 7 = 0000000000000111\\n 8 = 0000000000001000\\n 9 = 0000000000001001\\n10 = 0000000000001010\\n11 = 0000000000001011\\n12 = 0000000000001100\\n\""
            ],
            "application/vnd.google.colaboratory.intrinsic+json": {
              "type": "string"
            }
          },
          "metadata": {},
          "execution_count": 28
        }
      ]
    },
    {
      "cell_type": "markdown",
      "source": [
        "**Operator Precedence**\n",
        "\n",
        "\n",
        "Operator precedence describes the order in which operations are performed"
      ],
      "metadata": {
        "id": "oBU_X69_hFZc"
      }
    },
    {
      "cell_type": "code",
      "source": [
        "print((6 + 3) - (6 + 3))\n",
        "print(100 + 5 * 3)"
      ],
      "metadata": {
        "colab": {
          "base_uri": "https://localhost:8080/"
        },
        "id": "oD5hcifqg_0B",
        "outputId": "5fef08ca-2d01-4453-a5b1-32397cfe3f84"
      },
      "execution_count": 29,
      "outputs": [
        {
          "output_type": "stream",
          "name": "stdout",
          "text": [
            "0\n",
            "115\n"
          ]
        }
      ]
    },
    {
      "cell_type": "markdown",
      "source": [
        "The precedence order is described in the table below, starting with the highest precedence at the top:\n",
        "\n",
        "**Operator**\t*Description*\tTry it\n",
        "\n",
        "*()*\tParentheses\n",
        "**\tExponentiation\n",
        "*+x*  -x  ~x\tUnary plus, unary minus, and bitwise NOT\n",
        "**  /  //  %*\tMultiplication, division, floor division, and modulus\n",
        "*+  -*\tAddition and subtraction\n",
        "*<<  >>*\tBitwise left and right shifts\n",
        "*&* \tBitwise AND\n",
        "*^*\tBitwise XOR\n",
        "*|*\tBitwise OR\n",
        "*==  !=  >  >=  <  <=  is  is not  in  not in* \tComparisons, identity, and membership operators\n",
        "*not*\tLogical NOT\n",
        "*and* \tAND\n",
        "*or*\tOR"
      ],
      "metadata": {
        "id": "FMO1Xzv-hUys"
      }
    }
  ]
}