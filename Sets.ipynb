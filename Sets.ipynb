{
  "nbformat": 4,
  "nbformat_minor": 0,
  "metadata": {
    "colab": {
      "provenance": [],
      "authorship_tag": "ABX9TyODLQLCr3Jqqu0Ac193+NEB",
      "include_colab_link": true
    },
    "kernelspec": {
      "name": "python3",
      "display_name": "Python 3"
    },
    "language_info": {
      "name": "python"
    }
  },
  "cells": [
    {
      "cell_type": "markdown",
      "metadata": {
        "id": "view-in-github",
        "colab_type": "text"
      },
      "source": [
        "<a href=\"https://colab.research.google.com/github/Davron030901/Daily_python/blob/main/Sets.ipynb\" target=\"_parent\"><img src=\"https://colab.research.google.com/assets/colab-badge.svg\" alt=\"Open In Colab\"/></a>"
      ]
    },
    {
      "cell_type": "code",
      "execution_count": 1,
      "metadata": {
        "colab": {
          "base_uri": "https://localhost:8080/"
        },
        "id": "QgicdiNpHQw7",
        "outputId": "56f35f86-67b3-4349-d9c3-8bf9d35f60fd"
      },
      "outputs": [
        {
          "output_type": "stream",
          "name": "stdout",
          "text": [
            "{'cherry', 'apple', 'banana'}\n"
          ]
        }
      ],
      "source": [
        "myset = {\"apple\", \"banana\", \"cherry\"}\n",
        "print(myset)"
      ]
    },
    {
      "cell_type": "markdown",
      "source": [
        "**Set**\n",
        "\n",
        "Sets are used to store multiple items in a single variable.\n",
        "\n",
        "Set is one of 4 built-in data types in Python used to store collections of data, the other 3 are List, Tuple, and Dictionary, all with different qualities and usage.\n",
        "\n",
        "A set is a collection which is unordered, unchangeable*, and unindexed.\n",
        "\n",
        "* Note: Set items are unchangeable, but you can remove items and add new items.\n",
        "\n",
        "Sets are written with curly brackets.\n",
        "\n"
      ],
      "metadata": {
        "id": "xs8OjVo5Hd1M"
      }
    },
    {
      "cell_type": "markdown",
      "source": [
        "*Set Items*\n",
        "\n",
        "Set items are unordered, unchangeable, and do not allow duplicate values.\n",
        "\n",
        "*Unordered*\n",
        "\n",
        "Unordered means that the items in a set do not have a defined order.\n",
        "\n",
        "Set items can appear in a different order every time you use them, and cannot be referred to by index or key.\n",
        "\n",
        "*Unchangeable*\n",
        "\n",
        "Set items are unchangeable, meaning that we cannot change the items after the set has been created.\n",
        "\n",
        "Once a set is created, you cannot change its items, but you can remove items and add new items.\n",
        "\n",
        "*Duplicates Not Allowed*\n",
        "\n",
        "Sets cannot have two items with the same value.\n",
        "\n"
      ],
      "metadata": {
        "id": "Jpc2bKClHn6t"
      }
    },
    {
      "cell_type": "code",
      "source": [
        "thisset = {\"apple\", \"banana\", \"cherry\", \"apple\"}\n",
        "\n",
        "print(thisset)"
      ],
      "metadata": {
        "colab": {
          "base_uri": "https://localhost:8080/"
        },
        "id": "lufS8S1vHZo2",
        "outputId": "f5a776d0-d254-4e11-d3b6-9d5018bda546"
      },
      "execution_count": 2,
      "outputs": [
        {
          "output_type": "stream",
          "name": "stdout",
          "text": [
            "{'cherry', 'apple', 'banana'}\n"
          ]
        }
      ]
    },
    {
      "cell_type": "code",
      "source": [
        "thisset = {\"apple\", \"banana\", \"cherry\", True, 1, 2}\n",
        "\n",
        "print(thisset)"
      ],
      "metadata": {
        "colab": {
          "base_uri": "https://localhost:8080/"
        },
        "id": "2c0TToSDH4Wi",
        "outputId": "abc0795c-d930-49f1-a2b8-1d4feaa2b210"
      },
      "execution_count": 3,
      "outputs": [
        {
          "output_type": "stream",
          "name": "stdout",
          "text": [
            "{True, 2, 'apple', 'banana', 'cherry'}\n"
          ]
        }
      ]
    },
    {
      "cell_type": "markdown",
      "source": [
        "Get the Length of a Set\n",
        "To determine how many items a set has, use the len() function."
      ],
      "metadata": {
        "id": "JzNQO5IjIOEb"
      }
    },
    {
      "cell_type": "code",
      "source": [
        "thisset = {\"apple\", \"banana\", \"cherry\"}\n",
        "\n",
        "print(len(thisset))"
      ],
      "metadata": {
        "colab": {
          "base_uri": "https://localhost:8080/"
        },
        "id": "C-hc1bvKH6V7",
        "outputId": "c5ab4b57-8fd1-491a-b5c5-06a8a7df380d"
      },
      "execution_count": 5,
      "outputs": [
        {
          "output_type": "stream",
          "name": "stdout",
          "text": [
            "3\n"
          ]
        }
      ]
    },
    {
      "cell_type": "markdown",
      "source": [
        "Set Items - Data Types\n",
        "Set items can be of any data type:"
      ],
      "metadata": {
        "id": "QuolHmpPIXYx"
      }
    },
    {
      "cell_type": "code",
      "source": [
        "set1 = {\"apple\", \"banana\", \"cherry\"}\n",
        "set2 = {1, 5, 7, 9, 3}\n",
        "set3 = {True, False, False}"
      ],
      "metadata": {
        "id": "3nY2hgSoIIA_"
      },
      "execution_count": null,
      "outputs": []
    },
    {
      "cell_type": "code",
      "source": [
        "print(set1)\n",
        "print(set2)\n",
        "print(set3)"
      ],
      "metadata": {
        "colab": {
          "base_uri": "https://localhost:8080/",
          "height": 176
        },
        "id": "hF8QRpOyIdj_",
        "outputId": "b8224a9c-cd28-4683-b008-1c87ea3dd0a7"
      },
      "execution_count": 6,
      "outputs": [
        {
          "output_type": "error",
          "ename": "NameError",
          "evalue": "name 'set1' is not defined",
          "traceback": [
            "\u001b[0;31m---------------------------------------------------------------------------\u001b[0m",
            "\u001b[0;31mNameError\u001b[0m                                 Traceback (most recent call last)",
            "\u001b[0;32m<ipython-input-6-16493b2e0b05>\u001b[0m in \u001b[0;36m<cell line: 1>\u001b[0;34m()\u001b[0m\n\u001b[0;32m----> 1\u001b[0;31m \u001b[0mprint\u001b[0m\u001b[0;34m(\u001b[0m\u001b[0mset1\u001b[0m\u001b[0;34m)\u001b[0m\u001b[0;34m\u001b[0m\u001b[0;34m\u001b[0m\u001b[0m\n\u001b[0m\u001b[1;32m      2\u001b[0m \u001b[0mprint\u001b[0m\u001b[0;34m(\u001b[0m\u001b[0mset2\u001b[0m\u001b[0;34m)\u001b[0m\u001b[0;34m\u001b[0m\u001b[0;34m\u001b[0m\u001b[0m\n\u001b[1;32m      3\u001b[0m \u001b[0mprint\u001b[0m\u001b[0;34m(\u001b[0m\u001b[0mset3\u001b[0m\u001b[0;34m)\u001b[0m\u001b[0;34m\u001b[0m\u001b[0;34m\u001b[0m\u001b[0m\n",
            "\u001b[0;31mNameError\u001b[0m: name 'set1' is not defined"
          ]
        }
      ]
    },
    {
      "cell_type": "code",
      "source": [
        "set1 = {\"abc\", 34, True, 40, \"male\"}\n",
        "print(set1)"
      ],
      "metadata": {
        "colab": {
          "base_uri": "https://localhost:8080/"
        },
        "id": "SIXhiSgeIep0",
        "outputId": "f7729a5f-e400-4a4b-cbf6-ec5a980d0f09"
      },
      "execution_count": 7,
      "outputs": [
        {
          "output_type": "stream",
          "name": "stdout",
          "text": [
            "{'abc', True, 34, 'male', 40}\n"
          ]
        }
      ]
    },
    {
      "cell_type": "markdown",
      "source": [
        "**type()**\n",
        "\n",
        "From Python's perspective, sets are defined as objects with the data type 'set':\n",
        "\n",
        "*<class 'set'>*"
      ],
      "metadata": {
        "id": "lfbvutfdIoAM"
      }
    },
    {
      "cell_type": "code",
      "source": [
        "myset = {\"apple\", \"banana\", \"cherry\"}\n",
        "print(type(myset))"
      ],
      "metadata": {
        "colab": {
          "base_uri": "https://localhost:8080/"
        },
        "id": "1qu8RsC5IlDN",
        "outputId": "52ec4bdc-fde9-4ec4-9261-d83e1537ff8c"
      },
      "execution_count": 8,
      "outputs": [
        {
          "output_type": "stream",
          "name": "stdout",
          "text": [
            "<class 'set'>\n"
          ]
        }
      ]
    },
    {
      "cell_type": "markdown",
      "source": [
        "*The set() Constructor*\n",
        "It is also possible to use the *set()* constructor to make a set."
      ],
      "metadata": {
        "id": "p4YBGrMxI7G_"
      }
    },
    {
      "cell_type": "code",
      "source": [
        "thisset = set((\"apple\", \"banana\", \"cherry\")) # note the double round-brackets\n",
        "print(thisset)"
      ],
      "metadata": {
        "colab": {
          "base_uri": "https://localhost:8080/"
        },
        "id": "GPnyvh9AI4kD",
        "outputId": "6d30d291-a1d9-48be-a2b2-f2f2eec50cdc"
      },
      "execution_count": 9,
      "outputs": [
        {
          "output_type": "stream",
          "name": "stdout",
          "text": [
            "{'cherry', 'apple', 'banana'}\n"
          ]
        }
      ]
    },
    {
      "cell_type": "markdown",
      "source": [
        "*Access Items*"
      ],
      "metadata": {
        "id": "0qj7tpT3JO-r"
      }
    },
    {
      "cell_type": "code",
      "source": [
        "thisset = {\"apple\", \"banana\", \"cherry\"}\n",
        "\n",
        "for x in thisset:\n",
        "  print(x)"
      ],
      "metadata": {
        "colab": {
          "base_uri": "https://localhost:8080/"
        },
        "id": "TO0sHDUZI_0k",
        "outputId": "1975b827-2a61-40d4-cec3-46e8b1e016b6"
      },
      "execution_count": 10,
      "outputs": [
        {
          "output_type": "stream",
          "name": "stdout",
          "text": [
            "cherry\n",
            "apple\n",
            "banana\n"
          ]
        }
      ]
    },
    {
      "cell_type": "code",
      "source": [
        "thisset = {\"apple\", \"banana\", \"cherry\"}\n",
        "\n",
        "print(\"banana\" in thisset)"
      ],
      "metadata": {
        "colab": {
          "base_uri": "https://localhost:8080/"
        },
        "id": "c3z_-bI9JLC-",
        "outputId": "e3b78785-0835-40bd-ad78-030846346825"
      },
      "execution_count": 11,
      "outputs": [
        {
          "output_type": "stream",
          "name": "stdout",
          "text": [
            "True\n"
          ]
        }
      ]
    },
    {
      "cell_type": "code",
      "source": [
        "thisset = {\"apple\", \"banana\", \"cherry\"}\n",
        "\n",
        "print(\"banana\" not in thisset)"
      ],
      "metadata": {
        "colab": {
          "base_uri": "https://localhost:8080/"
        },
        "id": "0wqGx_UwJUdf",
        "outputId": "aa010219-edb8-4351-c4a3-b71fec6d52fa"
      },
      "execution_count": 12,
      "outputs": [
        {
          "output_type": "stream",
          "name": "stdout",
          "text": [
            "False\n"
          ]
        }
      ]
    },
    {
      "cell_type": "markdown",
      "source": [
        "Add Items"
      ],
      "metadata": {
        "id": "sA4x0LK4Jf6n"
      }
    },
    {
      "cell_type": "code",
      "source": [
        "thisset = {\"apple\", \"banana\", \"cherry\"}\n",
        "\n",
        "thisset.add(\"orange\")\n",
        "\n",
        "print(thisset)"
      ],
      "metadata": {
        "colab": {
          "base_uri": "https://localhost:8080/"
        },
        "id": "KhGKnuJ9JWa4",
        "outputId": "59dd786f-5a5f-48b2-be6f-a32cd5aad4e9"
      },
      "execution_count": 13,
      "outputs": [
        {
          "output_type": "stream",
          "name": "stdout",
          "text": [
            "{'orange', 'cherry', 'apple', 'banana'}\n"
          ]
        }
      ]
    },
    {
      "cell_type": "markdown",
      "source": [
        "Add Sets"
      ],
      "metadata": {
        "id": "MZWvOs_FJkZP"
      }
    },
    {
      "cell_type": "code",
      "source": [
        "thisset = {\"apple\", \"banana\", \"cherry\"}\n",
        "tropical = {\"pineapple\", \"mango\", \"papaya\"}\n",
        "\n",
        "thisset.update(tropical)\n",
        "\n",
        "print(thisset)"
      ],
      "metadata": {
        "colab": {
          "base_uri": "https://localhost:8080/"
        },
        "id": "MVNrCMqqJiHE",
        "outputId": "c0e97d95-4012-40dd-ff24-e9e948d6f03a"
      },
      "execution_count": 14,
      "outputs": [
        {
          "output_type": "stream",
          "name": "stdout",
          "text": [
            "{'apple', 'banana', 'papaya', 'pineapple', 'cherry', 'mango'}\n"
          ]
        }
      ]
    },
    {
      "cell_type": "markdown",
      "source": [
        "Add Any Iterable"
      ],
      "metadata": {
        "id": "qCokmIQpJqFu"
      }
    },
    {
      "cell_type": "code",
      "source": [
        "thisset = {\"apple\", \"banana\", \"cherry\"}\n",
        "mylist = [\"kiwi\", \"orange\"]\n",
        "\n",
        "thisset.update(mylist)\n",
        "\n",
        "print(thisset)"
      ],
      "metadata": {
        "colab": {
          "base_uri": "https://localhost:8080/"
        },
        "id": "SxEhD3x8JnJf",
        "outputId": "1ef658b2-7f17-49b7-c672-a14a19135a86"
      },
      "execution_count": 15,
      "outputs": [
        {
          "output_type": "stream",
          "name": "stdout",
          "text": [
            "{'banana', 'orange', 'cherry', 'apple', 'kiwi'}\n"
          ]
        }
      ]
    },
    {
      "cell_type": "markdown",
      "source": [
        "Remove Set Items"
      ],
      "metadata": {
        "id": "JkWmXil-Lnoq"
      }
    },
    {
      "cell_type": "code",
      "source": [
        "thisset = {\"apple\", \"banana\", \"cherry\"}\n",
        "\n",
        "thisset.remove(\"banana\")\n",
        "\n",
        "print(thisset)"
      ],
      "metadata": {
        "colab": {
          "base_uri": "https://localhost:8080/"
        },
        "id": "G8gziHfsJstf",
        "outputId": "8941fcb8-d59f-4457-89f8-743901a6855e"
      },
      "execution_count": 16,
      "outputs": [
        {
          "output_type": "stream",
          "name": "stdout",
          "text": [
            "{'cherry', 'apple'}\n"
          ]
        }
      ]
    },
    {
      "cell_type": "code",
      "source": [
        "thisset = {\"apple\", \"banana\", \"cherry\"}\n",
        "\n",
        "thisset.discard(\"banana\")\n",
        "\n",
        "print(thisset)"
      ],
      "metadata": {
        "colab": {
          "base_uri": "https://localhost:8080/"
        },
        "id": "CUj3a0B0LrV0",
        "outputId": "6799cd14-85e7-4578-d39d-02827e4928b9"
      },
      "execution_count": 17,
      "outputs": [
        {
          "output_type": "stream",
          "name": "stdout",
          "text": [
            "{'cherry', 'apple'}\n"
          ]
        }
      ]
    },
    {
      "cell_type": "markdown",
      "source": [
        "Remove a random item by using the *pop()* method"
      ],
      "metadata": {
        "id": "D4FqQvnLMNSR"
      }
    },
    {
      "cell_type": "code",
      "source": [
        "thisset = {\"apple\", \"banana\", \"cherry\"}\n",
        "\n",
        "x = thisset.pop()\n",
        "\n",
        "print(x)\n",
        "\n",
        "print(thisset)"
      ],
      "metadata": {
        "colab": {
          "base_uri": "https://localhost:8080/"
        },
        "id": "NstDW30sL4vC",
        "outputId": "3450c5e3-7fe7-45fd-b12b-0ed876007da2"
      },
      "execution_count": 18,
      "outputs": [
        {
          "output_type": "stream",
          "name": "stdout",
          "text": [
            "cherry\n",
            "{'apple', 'banana'}\n"
          ]
        }
      ]
    },
    {
      "cell_type": "code",
      "source": [
        "thisset = {\"apple\", \"banana\", \"cherry\"}\n",
        "\n",
        "thisset.clear()\n",
        "\n",
        "print(thisset)"
      ],
      "metadata": {
        "colab": {
          "base_uri": "https://localhost:8080/"
        },
        "id": "UG-ltIcyL_nS",
        "outputId": "717688c1-ca15-4815-bbe0-7088d6947214"
      },
      "execution_count": 19,
      "outputs": [
        {
          "output_type": "stream",
          "name": "stdout",
          "text": [
            "set()\n"
          ]
        }
      ]
    },
    {
      "cell_type": "code",
      "source": [
        "thisset = {\"apple\", \"banana\", \"cherry\"}\n",
        "\n",
        "del thisset\n",
        "\n",
        "print(thisset)"
      ],
      "metadata": {
        "colab": {
          "base_uri": "https://localhost:8080/",
          "height": 176
        },
        "id": "nrgeU6jcMSMh",
        "outputId": "e00b70ff-0974-4b50-aa5b-8c475b1bc66c"
      },
      "execution_count": 20,
      "outputs": [
        {
          "output_type": "error",
          "ename": "NameError",
          "evalue": "name 'thisset' is not defined",
          "traceback": [
            "\u001b[0;31m---------------------------------------------------------------------------\u001b[0m",
            "\u001b[0;31mNameError\u001b[0m                                 Traceback (most recent call last)",
            "\u001b[0;32m<ipython-input-20-b0ed94c1bb6f>\u001b[0m in \u001b[0;36m<cell line: 5>\u001b[0;34m()\u001b[0m\n\u001b[1;32m      3\u001b[0m \u001b[0;32mdel\u001b[0m \u001b[0mthisset\u001b[0m\u001b[0;34m\u001b[0m\u001b[0;34m\u001b[0m\u001b[0m\n\u001b[1;32m      4\u001b[0m \u001b[0;34m\u001b[0m\u001b[0m\n\u001b[0;32m----> 5\u001b[0;31m \u001b[0mprint\u001b[0m\u001b[0;34m(\u001b[0m\u001b[0mthisset\u001b[0m\u001b[0;34m)\u001b[0m\u001b[0;34m\u001b[0m\u001b[0;34m\u001b[0m\u001b[0m\n\u001b[0m",
            "\u001b[0;31mNameError\u001b[0m: name 'thisset' is not defined"
          ]
        }
      ]
    },
    {
      "cell_type": "markdown",
      "source": [
        "Loop Items"
      ],
      "metadata": {
        "id": "DVzAf8VVM8Hp"
      }
    },
    {
      "cell_type": "code",
      "source": [
        "thisset = {\"apple\", \"banana\", \"cherry\"}\n",
        "\n",
        "for x in thisset:\n",
        "  print(x)"
      ],
      "metadata": {
        "colab": {
          "base_uri": "https://localhost:8080/"
        },
        "id": "Q7di-86DMYmW",
        "outputId": "04d9589d-5d29-49ff-9204-e15af1529ff6"
      },
      "execution_count": 22,
      "outputs": [
        {
          "output_type": "stream",
          "name": "stdout",
          "text": [
            "cherry\n",
            "apple\n",
            "banana\n"
          ]
        }
      ]
    },
    {
      "cell_type": "markdown",
      "source": [
        "**Join Sets**\n",
        "\n",
        "There are several ways to join two or more sets in Python.\n",
        "\n",
        "The *union()* and *update()* methods joins all items from both sets.\n",
        "\n",
        "The *intersection()* method keeps ONLY the duplicates.\n",
        "\n",
        "The *difference()* method keeps the items from the first set that are not in the other set(s).\n",
        "\n",
        "The *symmetric_difference()* method keeps all items EXCEPT the duplicates.\n",
        "\n",
        "Union\n",
        "The *union()* method returns a new set with all items from both sets.\n",
        "\n"
      ],
      "metadata": {
        "id": "4VfrX1JgNLfD"
      }
    },
    {
      "cell_type": "code",
      "source": [
        "set1 = {\"a\", \"b\", \"c\"}\n",
        "set2 = {1, 2, 3}\n",
        "\n",
        "set3 = set1.union(set2)\n",
        "print(set3)"
      ],
      "metadata": {
        "colab": {
          "base_uri": "https://localhost:8080/"
        },
        "id": "5SB6oFHIM7f_",
        "outputId": "1c2519b9-f730-4d5f-ea0c-31bd730ae6d2"
      },
      "execution_count": 23,
      "outputs": [
        {
          "output_type": "stream",
          "name": "stdout",
          "text": [
            "{1, 2, 3, 'a', 'b', 'c'}\n"
          ]
        }
      ]
    },
    {
      "cell_type": "markdown",
      "source": [
        "You can use the | operator instead of the *union()* method, and you will get the same result."
      ],
      "metadata": {
        "id": "Yga_tIByNfoP"
      }
    },
    {
      "cell_type": "code",
      "source": [
        "set1 = {\"a\", \"b\", \"c\"}\n",
        "set2 = {1, 2, 3}\n",
        "\n",
        "set3 = set1 | set2\n",
        "print(set3)"
      ],
      "metadata": {
        "colab": {
          "base_uri": "https://localhost:8080/"
        },
        "id": "-1PC-BKiNb1q",
        "outputId": "9d8ae328-dbc6-41ea-8943-a65d96c70247"
      },
      "execution_count": 24,
      "outputs": [
        {
          "output_type": "stream",
          "name": "stdout",
          "text": [
            "{1, 2, 3, 'a', 'b', 'c'}\n"
          ]
        }
      ]
    },
    {
      "cell_type": "markdown",
      "source": [
        "Join Multiple Sets"
      ],
      "metadata": {
        "id": "LJ70hGHeNtC3"
      }
    },
    {
      "cell_type": "code",
      "source": [
        "set1 = {\"a\", \"b\", \"c\"}\n",
        "set2 = {1, 2, 3}\n",
        "set3 = {\"John\", \"Elena\"}\n",
        "set4 = {\"apple\", \"bananas\", \"cherry\"}\n",
        "\n",
        "myset = set1.union(set2, set3, set4)\n",
        "print(myset)"
      ],
      "metadata": {
        "colab": {
          "base_uri": "https://localhost:8080/"
        },
        "id": "cLFWpDU3NkSN",
        "outputId": "b3134384-5de4-472b-80ff-14656bfedbd4"
      },
      "execution_count": 25,
      "outputs": [
        {
          "output_type": "stream",
          "name": "stdout",
          "text": [
            "{'Elena', 1, 2, 3, 'a', 'bananas', 'b', 'cherry', 'apple', 'John', 'c'}\n"
          ]
        }
      ]
    },
    {
      "cell_type": "code",
      "source": [
        "set1 = {\"a\", \"b\", \"c\"}\n",
        "set2 = {1, 2, 3}\n",
        "set3 = {\"John\", \"Elena\"}\n",
        "set4 = {\"apple\", \"bananas\", \"cherry\"}\n",
        "\n",
        "myset = set1 | set2 | set3 |set4\n",
        "print(myset)"
      ],
      "metadata": {
        "colab": {
          "base_uri": "https://localhost:8080/"
        },
        "id": "-1egRSvRNvVv",
        "outputId": "9a70c172-f2ec-4ed9-a9cf-d6230604bf56"
      },
      "execution_count": 26,
      "outputs": [
        {
          "output_type": "stream",
          "name": "stdout",
          "text": [
            "{'Elena', 1, 2, 3, 'a', 'bananas', 'b', 'cherry', 'apple', 'John', 'c'}\n"
          ]
        }
      ]
    },
    {
      "cell_type": "markdown",
      "source": [
        "*Join a Set and a Tuple*\n",
        "\n",
        "The *union()* method allows you to join a set with other data types, like lists or tuples.\n",
        "\n",
        "The result will be a set."
      ],
      "metadata": {
        "id": "QbvBOYLFN1n4"
      }
    },
    {
      "cell_type": "code",
      "source": [
        "x = {\"a\", \"b\", \"c\"}\n",
        "y = (1, 2, 3)\n",
        "\n",
        "z = x.union(y)\n",
        "print(z)"
      ],
      "metadata": {
        "colab": {
          "base_uri": "https://localhost:8080/"
        },
        "id": "1UyrlJhINzdB",
        "outputId": "9c250047-caf3-483d-c92a-965146140032"
      },
      "execution_count": 27,
      "outputs": [
        {
          "output_type": "stream",
          "name": "stdout",
          "text": [
            "{1, 2, 3, 'a', 'b', 'c'}\n"
          ]
        }
      ]
    },
    {
      "cell_type": "markdown",
      "source": [
        "*Update*\n",
        "\n",
        "The *update()* method inserts all items from one set into another.\n",
        "\n",
        "The *update()* changes the original set, and does not return a new set."
      ],
      "metadata": {
        "id": "08jZfCTwN-Ac"
      }
    },
    {
      "cell_type": "code",
      "source": [
        "set1 = {\"a\", \"b\" , \"c\"}\n",
        "set2 = {1, 2, 3}\n",
        "\n",
        "set1.update(set2)\n",
        "print(set1)"
      ],
      "metadata": {
        "colab": {
          "base_uri": "https://localhost:8080/"
        },
        "id": "d_fLR3wEN62J",
        "outputId": "0e7ba416-28bc-4cc4-93e7-911eb81ec218"
      },
      "execution_count": 28,
      "outputs": [
        {
          "output_type": "stream",
          "name": "stdout",
          "text": [
            "{1, 2, 3, 'a', 'b', 'c'}\n"
          ]
        }
      ]
    },
    {
      "cell_type": "markdown",
      "source": [
        "Intersection\n",
        "Keep ONLY the duplicates\n",
        "\n",
        "The *intersection()* method will return a new set, that only contains the items that are present in both sets."
      ],
      "metadata": {
        "id": "nnEW5AbHOGfP"
      }
    },
    {
      "cell_type": "code",
      "source": [
        "set1 = {\"apple\", \"banana\", \"cherry\"}\n",
        "set2 = {\"google\", \"microsoft\", \"apple\"}\n",
        "\n",
        "set3 = set1.intersection(set2)\n",
        "print(set3)"
      ],
      "metadata": {
        "colab": {
          "base_uri": "https://localhost:8080/"
        },
        "id": "6N560bKUODe4",
        "outputId": "8a204b38-f820-4a15-a485-ffe8c194a3e3"
      },
      "execution_count": 29,
      "outputs": [
        {
          "output_type": "stream",
          "name": "stdout",
          "text": [
            "{'apple'}\n"
          ]
        }
      ]
    },
    {
      "cell_type": "code",
      "source": [
        "set1 = {\"apple\", \"banana\", \"cherry\"}\n",
        "set2 = {\"google\", \"microsoft\", \"apple\"}\n",
        "\n",
        "set3 = set1 & set2\n",
        "print(set3)"
      ],
      "metadata": {
        "colab": {
          "base_uri": "https://localhost:8080/"
        },
        "id": "ljm1-Kk1OKdU",
        "outputId": "48316673-5460-4311-ad43-eed915f2523f"
      },
      "execution_count": 30,
      "outputs": [
        {
          "output_type": "stream",
          "name": "stdout",
          "text": [
            "{'apple'}\n"
          ]
        }
      ]
    },
    {
      "cell_type": "code",
      "source": [
        "set1 = {\"apple\", \"banana\", \"cherry\"}\n",
        "set2 = {\"google\", \"microsoft\", \"apple\"}\n",
        "\n",
        "set1.intersection_update(set2)\n",
        "\n",
        "print(set1)"
      ],
      "metadata": {
        "colab": {
          "base_uri": "https://localhost:8080/"
        },
        "id": "dMRujDXVOPZj",
        "outputId": "ef2ffd38-9eb1-476c-88f3-cb41b3c8a134"
      },
      "execution_count": 31,
      "outputs": [
        {
          "output_type": "stream",
          "name": "stdout",
          "text": [
            "{'apple'}\n"
          ]
        }
      ]
    },
    {
      "cell_type": "code",
      "source": [
        "set1 = {\"apple\", 1,  \"banana\", 0, \"cherry\"}\n",
        "set2 = {False, \"google\", 1, \"apple\", 2, True}\n",
        "\n",
        "set3 = set1.intersection(set2)\n",
        "\n",
        "print(set3)"
      ],
      "metadata": {
        "colab": {
          "base_uri": "https://localhost:8080/"
        },
        "id": "wTuBeRsUOV1d",
        "outputId": "7d00b8cf-fa41-430e-87db-2b21bf936fd0"
      },
      "execution_count": 32,
      "outputs": [
        {
          "output_type": "stream",
          "name": "stdout",
          "text": [
            "{False, 1, 'apple'}\n"
          ]
        }
      ]
    },
    {
      "cell_type": "markdown",
      "source": [
        "*Difference*\n",
        "The *difference()* method will return a new set that will contain only the items from the first set that are not present in the other set."
      ],
      "metadata": {
        "id": "KSyTdB1QOjgE"
      }
    },
    {
      "cell_type": "code",
      "source": [
        "set1 = {\"apple\", \"banana\", \"cherry\"}\n",
        "set2 = {\"google\", \"microsoft\", \"apple\"}\n",
        "\n",
        "set3 = set1.difference(set2)\n",
        "\n",
        "print(set3)"
      ],
      "metadata": {
        "colab": {
          "base_uri": "https://localhost:8080/"
        },
        "id": "NdIWsVAZOhfb",
        "outputId": "f877540a-1c91-430e-c71f-41422148b5a4"
      },
      "execution_count": 33,
      "outputs": [
        {
          "output_type": "stream",
          "name": "stdout",
          "text": [
            "{'cherry', 'banana'}\n"
          ]
        }
      ]
    },
    {
      "cell_type": "markdown",
      "source": [
        "You can use the - operator instead of the *difference()* method, and you will get the same result."
      ],
      "metadata": {
        "id": "irAPAi77OvF_"
      }
    },
    {
      "cell_type": "code",
      "source": [
        "set1 = {\"apple\", \"banana\", \"cherry\"}\n",
        "set2 = {\"google\", \"microsoft\", \"apple\"}\n",
        "\n",
        "set3 = set1 - set2\n",
        "print(set3)"
      ],
      "metadata": {
        "colab": {
          "base_uri": "https://localhost:8080/"
        },
        "id": "dpK4CkRUOnek",
        "outputId": "d3a91bad-2648-414e-922d-157f901298ad"
      },
      "execution_count": 34,
      "outputs": [
        {
          "output_type": "stream",
          "name": "stdout",
          "text": [
            "{'cherry', 'banana'}\n"
          ]
        }
      ]
    },
    {
      "cell_type": "markdown",
      "source": [
        "The *difference_update()* method will also keep the items from the first set that are not in the other set, but it will change the original set instead of returning a new set."
      ],
      "metadata": {
        "id": "L0KACcO-O427"
      }
    },
    {
      "cell_type": "code",
      "source": [
        "set1 = {\"apple\", \"banana\", \"cherry\"}\n",
        "set2 = {\"google\", \"microsoft\", \"apple\"}\n",
        "\n",
        "set1.difference_update(set2)\n",
        "\n",
        "print(set1)"
      ],
      "metadata": {
        "colab": {
          "base_uri": "https://localhost:8080/"
        },
        "id": "kzNisTW-OyCt",
        "outputId": "9fb91d98-2886-4437-d847-7ddd579c04ba"
      },
      "execution_count": 35,
      "outputs": [
        {
          "output_type": "stream",
          "name": "stdout",
          "text": [
            "{'cherry', 'banana'}\n"
          ]
        }
      ]
    },
    {
      "cell_type": "markdown",
      "source": [
        "Symmetric Differences\n",
        "The **symmetric_difference()** method will keep only the elements that are NOT present in both sets."
      ],
      "metadata": {
        "id": "nHc5QPxbPB1I"
      }
    },
    {
      "cell_type": "code",
      "source": [
        "set1 = {\"apple\", \"banana\", \"cherry\"}\n",
        "set2 = {\"google\", \"microsoft\", \"apple\"}\n",
        "\n",
        "set3 = set1.symmetric_difference(set2)\n",
        "\n",
        "print(set3)"
      ],
      "metadata": {
        "colab": {
          "base_uri": "https://localhost:8080/"
        },
        "id": "wG7wsLK1O8HC",
        "outputId": "13692ba7-9b3e-4b6c-edf1-aa6cf72d1b57"
      },
      "execution_count": 36,
      "outputs": [
        {
          "output_type": "stream",
          "name": "stdout",
          "text": [
            "{'banana', 'cherry', 'microsoft', 'google'}\n"
          ]
        }
      ]
    },
    {
      "cell_type": "markdown",
      "source": [
        "You can use the **^** operator instead of the **symmetric_difference()** method, and you will get the same result."
      ],
      "metadata": {
        "id": "DDEfDOfXPHbN"
      }
    },
    {
      "cell_type": "code",
      "source": [
        "set1 = {\"apple\", \"banana\", \"cherry\"}\n",
        "set2 = {\"google\", \"microsoft\", \"apple\"}\n",
        "\n",
        "set3 = set1 ^ set2\n",
        "print(set3)"
      ],
      "metadata": {
        "colab": {
          "base_uri": "https://localhost:8080/"
        },
        "id": "4JBvaX_KPFDO",
        "outputId": "7b93e52d-b49a-4c83-d6f4-d34041da355e"
      },
      "execution_count": 37,
      "outputs": [
        {
          "output_type": "stream",
          "name": "stdout",
          "text": [
            "{'banana', 'cherry', 'microsoft', 'google'}\n"
          ]
        }
      ]
    },
    {
      "cell_type": "markdown",
      "source": [
        "The *symmetric_difference_update()* method will also keep all but the duplicates, but it will change the original set instead of returning a new set."
      ],
      "metadata": {
        "id": "l6m-Bg7aPUK7"
      }
    },
    {
      "cell_type": "code",
      "source": [
        "set1 = {\"apple\", \"banana\", \"cherry\"}\n",
        "set2 = {\"google\", \"microsoft\", \"apple\"}\n",
        "\n",
        "set1.symmetric_difference_update(set2)\n",
        "\n",
        "print(set1)"
      ],
      "metadata": {
        "colab": {
          "base_uri": "https://localhost:8080/"
        },
        "id": "f7pnLzsMPMKl",
        "outputId": "35e975ad-fc3c-4b88-d602-0cfe756524cf"
      },
      "execution_count": 38,
      "outputs": [
        {
          "output_type": "stream",
          "name": "stdout",
          "text": [
            "{'banana', 'microsoft', 'cherry', 'google'}\n"
          ]
        }
      ]
    },
    {
      "cell_type": "markdown",
      "source": [
        "***Set Methods***"
      ],
      "metadata": {
        "id": "njkIWLuCPpFL"
      }
    },
    {
      "cell_type": "markdown",
      "source": [
        "*add()*\t \tAdds an element to the set"
      ],
      "metadata": {
        "id": "gT4hz7o6PtCC"
      }
    },
    {
      "cell_type": "code",
      "source": [
        "fruits = {\"apple\", \"banana\", \"cherry\"}\n",
        "\n",
        "fruits.add(\"orange\")\n",
        "\n",
        "print(fruits)"
      ],
      "metadata": {
        "colab": {
          "base_uri": "https://localhost:8080/"
        },
        "id": "qBfYxTXiPQQZ",
        "outputId": "91de6b10-17cf-4e87-e15b-f0fefdc4183b"
      },
      "execution_count": 39,
      "outputs": [
        {
          "output_type": "stream",
          "name": "stdout",
          "text": [
            "{'orange', 'cherry', 'apple', 'banana'}\n"
          ]
        }
      ]
    },
    {
      "cell_type": "markdown",
      "source": [
        "Definition and Usage\n",
        "The *add()* method adds an element to the set.\n",
        "\n",
        "If the element already exists, the *add()* method does not add the element.\n",
        "\n",
        "Syntax\n",
        "set.add(elmnt)\n",
        "Parameter Values\n",
        "Parameter\tDescription\n",
        "elmnt\tRequired. The element to add to the set"
      ],
      "metadata": {
        "id": "3yclO-tVP0Z3"
      }
    },
    {
      "cell_type": "code",
      "source": [
        "fruits = {\"apple\", \"banana\", \"cherry\"}\n",
        "\n",
        "fruits.add(\"apple\")\n",
        "\n",
        "print(fruits)"
      ],
      "metadata": {
        "colab": {
          "base_uri": "https://localhost:8080/"
        },
        "id": "H3_UkrN_PxE6",
        "outputId": "1c6ac41e-1e88-4a4f-dcde-551cae677238"
      },
      "execution_count": 40,
      "outputs": [
        {
          "output_type": "stream",
          "name": "stdout",
          "text": [
            "{'cherry', 'apple', 'banana'}\n"
          ]
        }
      ]
    },
    {
      "cell_type": "markdown",
      "source": [
        "*clear()* \tRemoves all the elements from the set"
      ],
      "metadata": {
        "id": "laxTn_0cP-6p"
      }
    },
    {
      "cell_type": "markdown",
      "source": [
        "Definition and Usage\n",
        "The *clear()* method removes all elements in a set.\n",
        "\n",
        "Syntax\n",
        "*set.clear()*\n",
        "Parameter Values\n",
        "No parameters"
      ],
      "metadata": {
        "id": "nK40B5eRQGPX"
      }
    },
    {
      "cell_type": "code",
      "source": [
        "fruits = {\"apple\", \"banana\", \"cherry\"}\n",
        "\n",
        "fruits.clear()\n",
        "\n",
        "print(fruits)"
      ],
      "metadata": {
        "colab": {
          "base_uri": "https://localhost:8080/"
        },
        "id": "Z1wjHf74P6vz",
        "outputId": "41f47096-753a-4a65-a5c7-70928ff8633c"
      },
      "execution_count": 41,
      "outputs": [
        {
          "output_type": "stream",
          "name": "stdout",
          "text": [
            "set()\n"
          ]
        }
      ]
    },
    {
      "cell_type": "markdown",
      "source": [
        "*copy()*\t \tReturns a copy of the set"
      ],
      "metadata": {
        "id": "GAvhY22YQMrL"
      }
    },
    {
      "cell_type": "markdown",
      "source": [
        "Definition and Usage\n",
        "The *copy()* method copies the set.\n",
        "\n",
        "Syntax\n",
        "*set.copy()*\n",
        "Parameter Values\n",
        "No parameters"
      ],
      "metadata": {
        "id": "ZAphE5YAQT2o"
      }
    },
    {
      "cell_type": "code",
      "source": [
        "fruits = {\"apple\", \"banana\", \"cherry\"}\n",
        "\n",
        "x = fruits.copy()\n",
        "\n",
        "print(x)"
      ],
      "metadata": {
        "colab": {
          "base_uri": "https://localhost:8080/"
        },
        "id": "CAD9FyXnQDxn",
        "outputId": "97372a38-07e6-45dd-a75f-2b4f30265adc"
      },
      "execution_count": 42,
      "outputs": [
        {
          "output_type": "stream",
          "name": "stdout",
          "text": [
            "{'cherry', 'apple', 'banana'}\n"
          ]
        }
      ]
    },
    {
      "cell_type": "markdown",
      "source": [
        "*difference()*\t-\tReturns a set containing the difference between two or more sets"
      ],
      "metadata": {
        "id": "36GYp7DEQafI"
      }
    },
    {
      "cell_type": "code",
      "source": [
        "x = {\"apple\", \"banana\", \"cherry\"}\n",
        "y = {\"google\", \"microsoft\", \"apple\"}\n",
        "\n",
        "z = x.difference(y)\n",
        "\n",
        "print(z)"
      ],
      "metadata": {
        "colab": {
          "base_uri": "https://localhost:8080/"
        },
        "id": "VBelYgexQRJx",
        "outputId": "beeb63e3-b922-4f0e-9cbe-2b4f3a6321af"
      },
      "execution_count": 43,
      "outputs": [
        {
          "output_type": "stream",
          "name": "stdout",
          "text": [
            "{'cherry', 'banana'}\n"
          ]
        }
      ]
    },
    {
      "cell_type": "markdown",
      "source": [
        "Definition and Usage\n",
        "The *difference()* method returns a set that contains the difference between two sets.\n",
        "\n",
        "Meaning: The returned set contains items that exist only in the first set, and not in both sets.\n",
        "\n",
        "As a shortcut, you can use the - operator instead, see example below.\n",
        "\n",
        "Syntax\n",
        "*set.difference(set1, set2 ... etc.)*\n",
        "Parameter Values\n",
        "Parameter\tDescription\n",
        "set1\tRequired. The set(s) to check for differences in.\n",
        "set2\tOptional. The other set to search for equal items in.\n",
        "You can compare as many sets you like.\n",
        "Separate the sets with a comma.\n",
        "See examples below.\n",
        "Shorter Syntax\n",
        "set - set1 - set2 .... etc.\n",
        "Parameter Values\n",
        "Parameter\tDescription\n",
        "set1\tRequired. The set(s) to check for differences in.\n",
        "set2\tOptional. The other set to search for equal items in.\n",
        "You can compare as many sets you like.\n",
        "Separate the sets with - (a minus operator).\n",
        "See examples below."
      ],
      "metadata": {
        "id": "pBHb_3wBQjhZ"
      }
    },
    {
      "cell_type": "code",
      "source": [
        "a = {\"apple\", \"banana\", \"cherry\"}\n",
        "b = {\"google\", \"microsoft\", \"apple\"}\n",
        "\n",
        "myset = a - b\n",
        "\n",
        "print(myset)"
      ],
      "metadata": {
        "colab": {
          "base_uri": "https://localhost:8080/"
        },
        "id": "A349y6trQfdh",
        "outputId": "fe4ff4cc-24a1-4d3c-8aeb-280356bbe416"
      },
      "execution_count": 44,
      "outputs": [
        {
          "output_type": "stream",
          "name": "stdout",
          "text": [
            "{'cherry', 'banana'}\n"
          ]
        }
      ]
    },
    {
      "cell_type": "code",
      "source": [
        "a = {\"apple\", \"banana\", \"cherry\"}\n",
        "b = {\"google\", \"microsoft\", \"apple\"}\n",
        "c = {\"cherry\", \"micra\", \"bluebird\"}\n",
        "\n",
        "myset = a.difference(b, c)\n",
        "\n",
        "print(myset)"
      ],
      "metadata": {
        "colab": {
          "base_uri": "https://localhost:8080/"
        },
        "id": "nFkoWnDjQpdc",
        "outputId": "7eca391b-fd7f-499c-8234-a8b31483fdc9"
      },
      "execution_count": 45,
      "outputs": [
        {
          "output_type": "stream",
          "name": "stdout",
          "text": [
            "{'banana'}\n"
          ]
        }
      ]
    },
    {
      "cell_type": "code",
      "source": [
        "a = {\"apple\", \"banana\", \"cherry\"}\n",
        "b = {\"google\", \"microsoft\", \"apple\"}\n",
        "c = {\"cherry\", \"micra\", \"bluebird\"}\n",
        "\n",
        "myset = a - b - c\n",
        "\n",
        "print(myset)"
      ],
      "metadata": {
        "colab": {
          "base_uri": "https://localhost:8080/"
        },
        "id": "OJOQp6tOQsN-",
        "outputId": "e91805f0-fcf7-499d-c420-24cdd93b5055"
      },
      "execution_count": 46,
      "outputs": [
        {
          "output_type": "stream",
          "name": "stdout",
          "text": [
            "{'banana'}\n"
          ]
        }
      ]
    },
    {
      "cell_type": "code",
      "source": [
        "x = {\"apple\", \"banana\", \"cherry\"}\n",
        "y = {\"google\", \"microsoft\", \"apple\"}\n",
        "\n",
        "z = y.difference(x)\n",
        "\n",
        "print(z)"
      ],
      "metadata": {
        "colab": {
          "base_uri": "https://localhost:8080/"
        },
        "id": "YOn1b1w4Qumt",
        "outputId": "c32bcf14-3372-4009-e307-cc31df20cab9"
      },
      "execution_count": 47,
      "outputs": [
        {
          "output_type": "stream",
          "name": "stdout",
          "text": [
            "{'microsoft', 'google'}\n"
          ]
        }
      ]
    },
    {
      "cell_type": "markdown",
      "source": [
        "*difference_update()*\t-=\tRemoves the items in this set that are also included in another, specified set"
      ],
      "metadata": {
        "id": "0yVB3-54Q4ow"
      }
    },
    {
      "cell_type": "code",
      "source": [
        "x = {\"apple\", \"banana\", \"cherry\"}\n",
        "y = {\"google\", \"microsoft\", \"apple\"}\n",
        "\n",
        "x.difference_update(y)\n",
        "\n",
        "print(x)"
      ],
      "metadata": {
        "colab": {
          "base_uri": "https://localhost:8080/"
        },
        "id": "qXH1Ga8IQydh",
        "outputId": "a762dd41-7a22-4e79-c3a1-50c6ee4afbc1"
      },
      "execution_count": 48,
      "outputs": [
        {
          "output_type": "stream",
          "name": "stdout",
          "text": [
            "{'cherry', 'banana'}\n"
          ]
        }
      ]
    },
    {
      "cell_type": "markdown",
      "source": [
        "Definition and Usage\n",
        "The *difference_update()* method removes the items that exist in both sets.\n",
        "\n",
        "The *difference_update()* method is different from the difference() method, because the difference() method returns a new set, without the unwanted items, and the *difference_update()* method removes the unwanted items from the original set.\n",
        "\n",
        "As a shortcut, you can use the -= operator instead, see example below.\n",
        "\n",
        "Syntax\n",
        "*set.difference_update(set1, set2 ... etc.)*\n",
        "Parameter Values\n",
        "Parameter\tDescription\n",
        "set1\tRequired. The set(s) to check for differences in.\n",
        "set2\tOptional. The other set to search for equal items in.\n",
        "You can compare as many sets you like.\n",
        "Separate the sets with a comma.\n",
        "See examples below.\n",
        "Shorter Syntax\n",
        "*set -= set1 | set2 ... etc.*\n",
        "Parameter Values\n",
        "Parameter\tDescription\n",
        "set1\tRequired. The set(s) to check for differences in.\n",
        "set2\tOptional. The other set to search for equal items in.\n",
        "You can compare as many sets you like.\n",
        "Separate the sets with | (a pipe operator).\n",
        "See examples below."
      ],
      "metadata": {
        "id": "_LNEfI40RApS"
      }
    },
    {
      "cell_type": "code",
      "source": [
        "a = {\"apple\", \"banana\", \"cherry\"}\n",
        "b = {\"google\", \"microsoft\", \"apple\"}\n",
        "\n",
        "a -= b\n",
        "\n",
        "print(a)"
      ],
      "metadata": {
        "colab": {
          "base_uri": "https://localhost:8080/"
        },
        "id": "mJ0SRd5qQ8kA",
        "outputId": "bd49e5e6-389e-4d36-98a6-896e3dc54a3f"
      },
      "execution_count": 49,
      "outputs": [
        {
          "output_type": "stream",
          "name": "stdout",
          "text": [
            "{'cherry', 'banana'}\n"
          ]
        }
      ]
    },
    {
      "cell_type": "code",
      "source": [
        "a = {\"apple\", \"banana\", \"cherry\"}\n",
        "b = {\"google\", \"microsoft\", \"apple\"}\n",
        "c = {\"cherry\", \"micra\", \"bluebird\"}\n",
        "\n",
        "a.difference_update(b, c)\n",
        "\n",
        "print(a)"
      ],
      "metadata": {
        "colab": {
          "base_uri": "https://localhost:8080/"
        },
        "id": "QbqEr3ZIRK-2",
        "outputId": "63d114b5-a4de-40b1-e7c3-c5a5f9645279"
      },
      "execution_count": 50,
      "outputs": [
        {
          "output_type": "stream",
          "name": "stdout",
          "text": [
            "{'banana'}\n"
          ]
        }
      ]
    },
    {
      "cell_type": "code",
      "source": [
        "a = {\"apple\", \"banana\", \"cherry\"}\n",
        "b = {\"google\", \"microsoft\", \"apple\"}\n",
        "c = {\"cherry\", \"micra\", \"bluebird\"}\n",
        "\n",
        "a -= b | c\n",
        "\n",
        "print(myset)"
      ],
      "metadata": {
        "colab": {
          "base_uri": "https://localhost:8080/"
        },
        "id": "Aabzhp56RM7L",
        "outputId": "f6dd3bc6-393a-459b-9ed8-3144b1cfd9a0"
      },
      "execution_count": 51,
      "outputs": [
        {
          "output_type": "stream",
          "name": "stdout",
          "text": [
            "{'banana'}\n"
          ]
        }
      ]
    },
    {
      "cell_type": "markdown",
      "source": [
        "*discard()*\t \tRemove the specified item"
      ],
      "metadata": {
        "id": "TdXwAbYTRV40"
      }
    },
    {
      "cell_type": "markdown",
      "source": [
        "Definition and Usage\n",
        "The *discard()* method removes the specified item from the set.\n",
        "\n",
        "This method is different from the *remove()* method, because the *remove()* method will raise an error if the specified item does not exist, and the *discard()* method will not.\n",
        "\n",
        "Syntax\n",
        "*set.discard(value)*\n",
        "Parameter Values\n",
        "Parameter\tDescription\n",
        "value\tRequired. The item to search for, and remove\n"
      ],
      "metadata": {
        "id": "NV84-2_uRd5A"
      }
    },
    {
      "cell_type": "code",
      "source": [
        "fruits = {\"apple\", \"banana\", \"cherry\"}\n",
        "\n",
        "fruits.discard(\"banana\")\n",
        "\n",
        "print(fruits)"
      ],
      "metadata": {
        "colab": {
          "base_uri": "https://localhost:8080/"
        },
        "id": "3v_If3PlRPWn",
        "outputId": "8f524833-7d8c-451c-c20a-e2b48aaa7b2a"
      },
      "execution_count": 52,
      "outputs": [
        {
          "output_type": "stream",
          "name": "stdout",
          "text": [
            "{'cherry', 'apple'}\n"
          ]
        }
      ]
    },
    {
      "cell_type": "markdown",
      "source": [
        "*intersection()*\t&\tReturns a set, that is the intersection of two other sets"
      ],
      "metadata": {
        "id": "xIwyGqPdRnTP"
      }
    },
    {
      "cell_type": "code",
      "source": [
        "x = {\"apple\", \"banana\", \"cherry\"}\n",
        "y = {\"google\", \"microsoft\", \"apple\"}\n",
        "\n",
        "z = x.intersection(y)\n",
        "\n",
        "print(z)"
      ],
      "metadata": {
        "colab": {
          "base_uri": "https://localhost:8080/"
        },
        "id": "zr2a0wE_Raxf",
        "outputId": "efdb512e-6581-4cfe-f2f1-42056331be94"
      },
      "execution_count": 53,
      "outputs": [
        {
          "output_type": "stream",
          "name": "stdout",
          "text": [
            "{'apple'}\n"
          ]
        }
      ]
    },
    {
      "cell_type": "markdown",
      "source": [
        "Definition and Usage\n",
        "The *intersection()* method returns a set that contains the similarity between two or more sets.\n",
        "\n",
        "Meaning: The returned set contains only items that exist in both sets, or in all sets if the comparison is done with more than two sets.\n",
        "\n",
        "As a shortcut, you can use the & operator instead, see example below.\n",
        "\n",
        "Syntax\n",
        "*set.intersection(set1, set2 ... etc.)*\n",
        "Parameter Values\n",
        "Parameter\tDescription\n",
        "set1\tRequired. The set to search for equal items in\n",
        "set2\tOptional. The other set to search for equal items in.\n",
        "You can compare as many sets you like.\n",
        "Separate the sets with a comma\n",
        "Shorter Syntax\n",
        "set & set1 & set2 ... etc.\n",
        "Parameter Values\n",
        "Parameter\tDescription\n",
        "set1\tRequired. The set to search for equal items in\n",
        "set2\tOptional. The other set to search for equal items in.\n",
        "You can compare as many sets you like.\n",
        "Separate the sets with & (a and operator).\n",
        "See examples below."
      ],
      "metadata": {
        "id": "s1ZgPBgBRvCK"
      }
    },
    {
      "cell_type": "code",
      "source": [
        "x = {\"apple\", \"banana\", \"cherry\"}\n",
        "y = {\"google\", \"microsoft\", \"apple\"}\n",
        "\n",
        "z = x & y\n",
        "\n",
        "print(z)"
      ],
      "metadata": {
        "colab": {
          "base_uri": "https://localhost:8080/"
        },
        "id": "5Fwfy4QJRrow",
        "outputId": "fe6fdc55-8cb0-41cd-9fdd-5cc251ddc734"
      },
      "execution_count": 54,
      "outputs": [
        {
          "output_type": "stream",
          "name": "stdout",
          "text": [
            "{'apple'}\n"
          ]
        }
      ]
    },
    {
      "cell_type": "code",
      "source": [
        "x = {\"a\", \"b\", \"c\"}\n",
        "y = {\"c\", \"d\", \"e\"}\n",
        "z = {\"f\", \"g\", \"c\"}\n",
        "\n",
        "result = x.intersection(y, z)\n",
        "\n",
        "print(result)"
      ],
      "metadata": {
        "colab": {
          "base_uri": "https://localhost:8080/"
        },
        "id": "ZcLVfDcVR06t",
        "outputId": "57cd62d6-cea3-41bd-d188-367583a71cd7"
      },
      "execution_count": 55,
      "outputs": [
        {
          "output_type": "stream",
          "name": "stdout",
          "text": [
            "{'c'}\n"
          ]
        }
      ]
    },
    {
      "cell_type": "code",
      "source": [
        "x = {\"a\", \"b\", \"c\"}\n",
        "y = {\"c\", \"d\", \"e\"}\n",
        "z = {\"f\", \"g\", \"c\"}\n",
        "\n",
        "result = x & y & z\n",
        "\n",
        "print(result)"
      ],
      "metadata": {
        "colab": {
          "base_uri": "https://localhost:8080/"
        },
        "id": "3FunN2XJR3oZ",
        "outputId": "bb63f351-5c30-48c8-84f2-7a499005222e"
      },
      "execution_count": 56,
      "outputs": [
        {
          "output_type": "stream",
          "name": "stdout",
          "text": [
            "{'c'}\n"
          ]
        }
      ]
    },
    {
      "cell_type": "markdown",
      "source": [
        "*intersection_update()\t&=*\tRemoves the items in this set that are not present in other, specified set(s)"
      ],
      "metadata": {
        "id": "IpbYQCefR9Pj"
      }
    },
    {
      "cell_type": "markdown",
      "source": [
        "Definition and Usage\n",
        "The *intersection_update()* method removes the items that is not present in both sets (or in all sets if the comparison is done between more than two sets).\n",
        "\n",
        "The *intersection_update()* method is different from the intersection() method, because the intersection() method returns a new set, without the unwanted items, and the *intersection_update()* method removes the unwanted items from the original set.\n",
        "\n",
        "As a shortcut, you can use the &= operator instead, see example below.\n",
        "\n",
        "Syntax\n",
        "*set.intersection_update(set1, set2 ... etc)*\n",
        "Parameter Values\n",
        "Parameter\tDescription\n",
        "set1\tRequired. The set to search for equal items in\n",
        "set2\tOptional. The other set to search for equal items in.\n",
        "You can compare as many sets you like.\n",
        "Separate the sets with a comma\n",
        "Shorter Syntax\n",
        "set &= set1 & set2 ... etc.\n",
        "Parameter Values\n",
        "Parameter\tDescription\n",
        "set1\tRequired. The set to search for equal items in\n",
        "set2\tOptional. The other set to search for equal items in.\n",
        "You can compare as many sets you like.\n",
        "Separate the sets with & (a and operator).\n",
        "See examples below."
      ],
      "metadata": {
        "id": "mwXxJfsMSGWD"
      }
    },
    {
      "cell_type": "code",
      "source": [
        "x = {\"apple\", \"banana\", \"cherry\"}\n",
        "y = {\"google\", \"microsoft\", \"apple\"}\n",
        "\n",
        "x.intersection_update(y)\n",
        "\n",
        "print(x)"
      ],
      "metadata": {
        "colab": {
          "base_uri": "https://localhost:8080/"
        },
        "id": "WXsBXy-YR55J",
        "outputId": "07496df1-0121-4fce-de4d-d9a0976b17bd"
      },
      "execution_count": 57,
      "outputs": [
        {
          "output_type": "stream",
          "name": "stdout",
          "text": [
            "{'apple'}\n"
          ]
        }
      ]
    },
    {
      "cell_type": "code",
      "source": [
        "x = {\"apple\", \"banana\", \"cherry\"}\n",
        "y = {\"google\", \"microsoft\", \"apple\"}\n",
        "\n",
        "x &= y\n",
        "\n",
        "print(x)"
      ],
      "metadata": {
        "colab": {
          "base_uri": "https://localhost:8080/"
        },
        "id": "pK0LyQFzSDEF",
        "outputId": "88549ba8-0fa3-4b11-c490-57a0d41f0588"
      },
      "execution_count": 58,
      "outputs": [
        {
          "output_type": "stream",
          "name": "stdout",
          "text": [
            "{'apple'}\n"
          ]
        }
      ]
    },
    {
      "cell_type": "code",
      "source": [
        "x = {\"a\", \"b\", \"c\"}\n",
        "y = {\"c\", \"d\", \"e\"}\n",
        "z = {\"f\", \"g\", \"c\"}\n",
        "\n",
        "x.intersection_update(y, z)\n",
        "\n",
        "print(x)"
      ],
      "metadata": {
        "colab": {
          "base_uri": "https://localhost:8080/"
        },
        "id": "JhB0wG2sSROE",
        "outputId": "9c87d05b-0e67-4cfc-d0dc-f48638b085dd"
      },
      "execution_count": 59,
      "outputs": [
        {
          "output_type": "stream",
          "name": "stdout",
          "text": [
            "{'c'}\n"
          ]
        }
      ]
    },
    {
      "cell_type": "code",
      "source": [
        "x = {\"a\", \"b\", \"c\"}\n",
        "y = {\"c\", \"d\", \"e\"}\n",
        "z = {\"f\", \"g\", \"c\"}\n",
        "\n",
        "x &= y & z\n",
        "\n",
        "print(result)"
      ],
      "metadata": {
        "colab": {
          "base_uri": "https://localhost:8080/"
        },
        "id": "o3fuJ3fESVhP",
        "outputId": "261fdeaa-ce70-4ae0-a9ff-f73e48976fe2"
      },
      "execution_count": 60,
      "outputs": [
        {
          "output_type": "stream",
          "name": "stdout",
          "text": [
            "{'c'}\n"
          ]
        }
      ]
    },
    {
      "cell_type": "markdown",
      "source": [
        "*isdisjoint()*\t \tReturns whether two sets have a intersection or not"
      ],
      "metadata": {
        "id": "LJB-aoIUSfEU"
      }
    },
    {
      "cell_type": "code",
      "source": [
        "x = {\"apple\", \"banana\", \"cherry\"}\n",
        "y = {\"google\", \"microsoft\", \"facebook\"}\n",
        "\n",
        "z = x.isdisjoint(y)\n",
        "\n",
        "print(z)"
      ],
      "metadata": {
        "colab": {
          "base_uri": "https://localhost:8080/"
        },
        "id": "QzRU3rRvSZDh",
        "outputId": "ddb3d93b-74cf-4346-eee3-0af5ea5a11e2"
      },
      "execution_count": 61,
      "outputs": [
        {
          "output_type": "stream",
          "name": "stdout",
          "text": [
            "True\n"
          ]
        }
      ]
    },
    {
      "cell_type": "markdown",
      "source": [
        "Definition and Usage\n",
        "The *isdisjoint()* method returns True if none of the items are present in both sets, otherwise it returns False.\n",
        "\n",
        "Syntax\n",
        "*set.isdisjoint(set)*\n",
        "Parameter Values\n",
        "Parameter\tDescription\n",
        "set\tRequired. The set to search for equal items in\n"
      ],
      "metadata": {
        "id": "CfBtDkYISnzJ"
      }
    },
    {
      "cell_type": "code",
      "source": [
        "x = {\"apple\", \"banana\", \"cherry\"}\n",
        "y = {\"google\", \"microsoft\", \"apple\"}\n",
        "\n",
        "z = x.isdisjoint(y)\n",
        "\n",
        "print(z)"
      ],
      "metadata": {
        "colab": {
          "base_uri": "https://localhost:8080/"
        },
        "id": "2c7gva1NSj1x",
        "outputId": "db2e591b-6f8e-40e9-e27e-3cddcaafd292"
      },
      "execution_count": 62,
      "outputs": [
        {
          "output_type": "stream",
          "name": "stdout",
          "text": [
            "False\n"
          ]
        }
      ]
    },
    {
      "cell_type": "markdown",
      "source": [
        "*issubset()*\t<=\tReturns whether another set contains this set or not"
      ],
      "metadata": {
        "id": "YVcAOlECS3LE"
      }
    },
    {
      "cell_type": "code",
      "source": [
        "x = {\"a\", \"b\", \"c\"}\n",
        "y = {\"f\", \"e\", \"d\", \"c\", \"b\", \"a\"}\n",
        "\n",
        "z = x.issubset(y)\n",
        "\n",
        "print(z)"
      ],
      "metadata": {
        "colab": {
          "base_uri": "https://localhost:8080/"
        },
        "id": "95EpFq5MSr9L",
        "outputId": "0c7250f7-7946-4aae-ee2b-e788170803e7"
      },
      "execution_count": 66,
      "outputs": [
        {
          "output_type": "stream",
          "name": "stdout",
          "text": [
            "False\n"
          ]
        }
      ]
    },
    {
      "cell_type": "markdown",
      "source": [
        "Definition and Usage\n",
        "The *issubset()* method returns True if all items in the set exists in the specified set, otherwise it returns False.\n",
        "\n",
        "As a shortcut, you can use the <= operator instead, see example below.\n",
        "\n",
        "Syntax\n",
        "*set.issubset(set1)*\n",
        "Shorter Syntax\n",
        "set <= set1\n",
        "Parameter Values\n",
        "Parameter\tDescription\n",
        "set1\tRequired. The set to search for equal items in\n"
      ],
      "metadata": {
        "id": "54J4dTHuS-LQ"
      }
    },
    {
      "cell_type": "code",
      "source": [
        "x = {\"a\", \"b\", \"c\"}\n",
        "y = {\"f\", \"e\", \"d\", \"c\", \"b\", \"a\"}\n",
        "\n",
        "z = x <= y\n",
        "\n",
        "print(z)"
      ],
      "metadata": {
        "colab": {
          "base_uri": "https://localhost:8080/"
        },
        "id": "Hf1LOqZOTDB-",
        "outputId": "a46f96f3-c438-4342-d496-d4276dea27ec"
      },
      "execution_count": 64,
      "outputs": [
        {
          "output_type": "stream",
          "name": "stdout",
          "text": [
            "True\n"
          ]
        }
      ]
    },
    {
      "cell_type": "code",
      "source": [
        "x = {\"a\", \"b\", \"c\"}\n",
        "y = {\"f\", \"e\", \"d\", \"c\", \"b\"}\n",
        "\n",
        "z = x.issubset(y)\n",
        "\n",
        "print(z)"
      ],
      "metadata": {
        "colab": {
          "base_uri": "https://localhost:8080/"
        },
        "id": "LsBva382TD-h",
        "outputId": "124fd54d-ce40-4094-c2eb-3167c9055c5f"
      },
      "execution_count": 65,
      "outputs": [
        {
          "output_type": "stream",
          "name": "stdout",
          "text": [
            "False\n"
          ]
        }
      ]
    },
    {
      "cell_type": "markdown",
      "source": [
        "*issuperset()*\t>=\tReturns whether this set contains another set or not"
      ],
      "metadata": {
        "id": "XmoJO4JYTcFY"
      }
    },
    {
      "cell_type": "code",
      "source": [
        "x = {\"f\", \"e\", \"d\", \"c\", \"b\", \"a\"}\n",
        "y = {\"a\", \"b\", \"c\"}\n",
        "\n",
        "z = x.issuperset(y)\n",
        "\n",
        "print(z)"
      ],
      "metadata": {
        "colab": {
          "base_uri": "https://localhost:8080/"
        },
        "id": "nmsGGny_TGYL",
        "outputId": "9c78e672-131f-43e1-a49f-847fe1eed3bf"
      },
      "execution_count": 67,
      "outputs": [
        {
          "output_type": "stream",
          "name": "stdout",
          "text": [
            "True\n"
          ]
        }
      ]
    },
    {
      "cell_type": "markdown",
      "source": [
        "Definition and Usage\n",
        "The *issuperset()* method returns True if all items in the specified set exists in the original set, otherwise it returns False.\n",
        "\n",
        "As a shortcut, you can use the >= operator instead, see example below.\n",
        "\n",
        "Syntax\n",
        "*set.issuperset(set)*\n",
        "Shorter Syntax\n",
        "set >= set1\n",
        "Parameter Values\n",
        "Parameter\tDescription\n",
        "set\tRequired. The set to search for equal items in\n"
      ],
      "metadata": {
        "id": "j4pmlL8OTj2h"
      }
    },
    {
      "cell_type": "code",
      "source": [
        "x = {\"f\", \"e\", \"d\", \"c\", \"b\", \"a\"}\n",
        "y = {\"a\", \"b\", \"c\"}\n",
        "\n",
        "z = x >= y\n",
        "\n",
        "print(z)"
      ],
      "metadata": {
        "colab": {
          "base_uri": "https://localhost:8080/"
        },
        "id": "35iGdHAETgJT",
        "outputId": "8a20e721-eaa9-47c7-acdc-3bfed8856dcb"
      },
      "execution_count": 68,
      "outputs": [
        {
          "output_type": "stream",
          "name": "stdout",
          "text": [
            "True\n"
          ]
        }
      ]
    },
    {
      "cell_type": "code",
      "source": [
        "x = {\"f\", \"e\", \"d\", \"c\", \"b\"}\n",
        "y = {\"a\", \"b\", \"c\"}\n",
        "\n",
        "z = x.issuperset(y)\n",
        "\n",
        "print(z)"
      ],
      "metadata": {
        "colab": {
          "base_uri": "https://localhost:8080/"
        },
        "id": "6JFqsDkeTpCy",
        "outputId": "b979e8b5-e4e2-46ea-dc55-f8d67548dff3"
      },
      "execution_count": 69,
      "outputs": [
        {
          "output_type": "stream",
          "name": "stdout",
          "text": [
            "False\n"
          ]
        }
      ]
    },
    {
      "cell_type": "markdown",
      "source": [
        "*pop()*\t \tRemoves an element from the set"
      ],
      "metadata": {
        "id": "uxZIFAnKTvLC"
      }
    },
    {
      "cell_type": "code",
      "source": [
        "fruits = {\"apple\", \"banana\", \"cherry\"}\n",
        "\n",
        "fruits.pop()\n",
        "\n",
        "print(fruits)"
      ],
      "metadata": {
        "colab": {
          "base_uri": "https://localhost:8080/"
        },
        "id": "MhpGPWIXTrFV",
        "outputId": "5e462ec1-85d3-4bbb-aa1e-ed2a11d6637c"
      },
      "execution_count": 78,
      "outputs": [
        {
          "output_type": "stream",
          "name": "stdout",
          "text": [
            "{'apple', 'banana'}\n"
          ]
        }
      ]
    },
    {
      "cell_type": "markdown",
      "source": [
        "Definition and Usage\n",
        "The *pop()* method removes a random item from the set.\n",
        "\n",
        "This method returns the removed item.\n",
        "\n",
        "Syntax\n",
        "*set.pop()*\n",
        "Parameter Values\n",
        "No parameter values."
      ],
      "metadata": {
        "id": "_NS__uxMT32T"
      }
    },
    {
      "cell_type": "code",
      "source": [
        "fruits = {\"apple\", \"banana\", \"cherry\"}\n",
        "\n",
        "x = fruits.pop()\n",
        "\n",
        "print(x)"
      ],
      "metadata": {
        "colab": {
          "base_uri": "https://localhost:8080/"
        },
        "id": "8q5iUrFUT0Cr",
        "outputId": "6b567133-1ebd-4d27-d291-1cc03ee02ae7"
      },
      "execution_count": 76,
      "outputs": [
        {
          "output_type": "stream",
          "name": "stdout",
          "text": [
            "cherry\n"
          ]
        }
      ]
    },
    {
      "cell_type": "markdown",
      "source": [
        "*remove()*\t \tRemoves the specified element"
      ],
      "metadata": {
        "id": "qefH9BxxUKUF"
      }
    },
    {
      "cell_type": "markdown",
      "source": [
        "Definition and Usage\n",
        "The *remove()* method removes the specified element from the set.\n",
        "\n",
        "This method is different from the *discard()* method, because the *remove()* method will raise an error if the specified item does not exist, and the *discard()* method will not.\n",
        "\n",
        "Syntax\n",
        "*set.remove(item)*\n",
        "Parameter Values\n",
        "Parameter\tDescription\n",
        "item\tRequired. The item to search for, and remove"
      ],
      "metadata": {
        "id": "2Os7bA2DUQ2q"
      }
    },
    {
      "cell_type": "code",
      "source": [
        "fruits = {\"apple\", \"banana\", \"cherry\"}\n",
        "\n",
        "fruits.remove(\"banana\")\n",
        "\n",
        "print(fruits)"
      ],
      "metadata": {
        "colab": {
          "base_uri": "https://localhost:8080/"
        },
        "id": "FFqsal6hT8BD",
        "outputId": "71db10ad-331b-4d87-9945-9ad781a9abed"
      },
      "execution_count": 79,
      "outputs": [
        {
          "output_type": "stream",
          "name": "stdout",
          "text": [
            "{'cherry', 'apple'}\n"
          ]
        }
      ]
    },
    {
      "cell_type": "markdown",
      "source": [
        "*symmetric_difference()*\t^\tReturns a set with the symmetric differences of two sets"
      ],
      "metadata": {
        "id": "nhEtwpfJUZ7j"
      }
    },
    {
      "cell_type": "code",
      "source": [
        "x = {\"apple\", \"banana\", \"cherry\"}\n",
        "y = {\"google\", \"microsoft\", \"apple\"}\n",
        "\n",
        "z = x.symmetric_difference(y)\n",
        "\n",
        "print(z)"
      ],
      "metadata": {
        "colab": {
          "base_uri": "https://localhost:8080/"
        },
        "id": "Ci_DVFmtUN-N",
        "outputId": "b0146ce1-c423-4eba-a8f2-c8fe18329533"
      },
      "execution_count": 80,
      "outputs": [
        {
          "output_type": "stream",
          "name": "stdout",
          "text": [
            "{'banana', 'cherry', 'microsoft', 'google'}\n"
          ]
        }
      ]
    },
    {
      "cell_type": "markdown",
      "source": [
        "Definition and Usage\n",
        "The *symmetric_difference()* method returns a set that contains all items from both set, but not the items that are present in both sets.\n",
        "\n",
        "Meaning: The returned set contains a mix of items that are not present in both sets.\n",
        "\n",
        "As a shortcut, you can use the ^ operator instead, see example below.\n",
        "\n",
        "Syntax\n",
        "*set.symmetric_difference(set1)*\n",
        "Shorter Syntax\n",
        "set ^ set1\n",
        "Parameter Values\n",
        "Parameter\tDescription\n",
        "set1\tRequired. The set to check for matches in"
      ],
      "metadata": {
        "id": "pTtmoCobUkiF"
      }
    },
    {
      "cell_type": "code",
      "source": [
        "x = {\"apple\", \"banana\", \"cherry\"}\n",
        "y = {\"google\", \"microsoft\", \"apple\"}\n",
        "\n",
        "z = x ^ y\n",
        "\n",
        "print(z)"
      ],
      "metadata": {
        "colab": {
          "base_uri": "https://localhost:8080/"
        },
        "id": "Ed7mNgElUeeZ",
        "outputId": "8d173be2-45c1-4847-b35c-172919fc884e"
      },
      "execution_count": 81,
      "outputs": [
        {
          "output_type": "stream",
          "name": "stdout",
          "text": [
            "{'banana', 'cherry', 'microsoft', 'google'}\n"
          ]
        }
      ]
    },
    {
      "cell_type": "markdown",
      "source": [
        "**symmetric_difference_update()**\t^=\tInserts the symmetric differences from this set and another"
      ],
      "metadata": {
        "id": "bjQiiE4GU53g"
      }
    },
    {
      "cell_type": "code",
      "source": [
        "x = {\"apple\", \"banana\", \"cherry\"}\n",
        "y = {\"google\", \"microsoft\", \"apple\"}\n",
        "\n",
        "x.symmetric_difference_update(y)\n",
        "\n",
        "print(x)"
      ],
      "metadata": {
        "colab": {
          "base_uri": "https://localhost:8080/"
        },
        "id": "mxO0PSQrUyxC",
        "outputId": "8f425431-282c-453d-9d95-976189770644"
      },
      "execution_count": 82,
      "outputs": [
        {
          "output_type": "stream",
          "name": "stdout",
          "text": [
            "{'banana', 'microsoft', 'cherry', 'google'}\n"
          ]
        }
      ]
    },
    {
      "cell_type": "markdown",
      "source": [
        "Definition and Usage\n",
        "The **symmetric_difference_update()** method updates the original set by removing items that are present in both sets, and inserting the other items.\n",
        "\n",
        "As a shortcut, you can use the ^= operator instead, see example below.\n",
        "\n",
        "Syntax\n",
        "*set.symmetric_difference_update(set1)*\n",
        "Shorter Syntax\n",
        "set ^= set1\n",
        "Parameter Values\n",
        "Parameter\tDescription\n",
        "set1\tRequired. The set to check for matches in"
      ],
      "metadata": {
        "id": "2GBWJRAGVClt"
      }
    },
    {
      "cell_type": "code",
      "source": [
        "x = {\"apple\", \"banana\", \"cherry\"}\n",
        "y = {\"google\", \"microsoft\", \"apple\"}\n",
        "\n",
        "x ^= y\n",
        "\n",
        "print(x)"
      ],
      "metadata": {
        "colab": {
          "base_uri": "https://localhost:8080/"
        },
        "id": "LAqUZpo7U-_f",
        "outputId": "a64a56f0-eadc-4c63-d300-363902fe9c37"
      },
      "execution_count": 83,
      "outputs": [
        {
          "output_type": "stream",
          "name": "stdout",
          "text": [
            "{'banana', 'microsoft', 'cherry', 'google'}\n"
          ]
        }
      ]
    },
    {
      "cell_type": "markdown",
      "source": [
        "*union()*\t|\tReturn a set containing the union of sets"
      ],
      "metadata": {
        "id": "1h089YsdVPjs"
      }
    },
    {
      "cell_type": "code",
      "source": [
        "x = {\"apple\", \"banana\", \"cherry\"}\n",
        "y = {\"google\", \"microsoft\", \"apple\"}\n",
        "\n",
        "z = x.union(y)\n",
        "\n",
        "print(z)"
      ],
      "metadata": {
        "colab": {
          "base_uri": "https://localhost:8080/"
        },
        "id": "N1z7XZYVVIqI",
        "outputId": "abe9e24b-3edc-4060-b667-069ef0a956fe"
      },
      "execution_count": 84,
      "outputs": [
        {
          "output_type": "stream",
          "name": "stdout",
          "text": [
            "{'microsoft', 'apple', 'banana', 'cherry', 'google'}\n"
          ]
        }
      ]
    },
    {
      "cell_type": "markdown",
      "source": [
        "Definition and Usage\n",
        "The *union()* method returns a set that contains all items from the original set, and all items from the specified set(s).\n",
        "\n",
        "You can specify as many sets you want, separated by commas.\n",
        "\n",
        "It does not have to be a set, it can be any iterable object.\n",
        "\n",
        "If an item is present in more than one set, the result will contain only one appearance of this item.\n",
        "\n",
        "As a shortcut, you can use the | operator instead, see example below.\n",
        "\n",
        "Syntax\n",
        "*set.union(set1, set2...)*\n",
        "Parameter Values\n",
        "Parameter\tDescription\n",
        "set1\tRequired. The iterable to unify with\n",
        "set2\tOptional. The other iterable to unify with.\n",
        "You can compare as many iterables as you like.\n",
        "Separate each iterable with a comma\n",
        "Shorter Syntax\n",
        "set | set1 | set2 ...\n",
        "Parameter Values\n",
        "Parameter\tDescription\n",
        "set1\tRequired. The iterable to unify with\n",
        "set2\tOptional. The other iterable to unify with.\n",
        "You can compare as many iterables as you like.\n",
        "*Separate each iterable with | (a pipe operator).*\n",
        "See examples below.\n"
      ],
      "metadata": {
        "id": "QDuLXloBVYnu"
      }
    },
    {
      "cell_type": "code",
      "source": [
        "x = {\"apple\", \"banana\", \"cherry\"}\n",
        "y = {\"google\", \"microsoft\", \"apple\"}\n",
        "\n",
        "z = x | y\n",
        "\n",
        "print(z)"
      ],
      "metadata": {
        "colab": {
          "base_uri": "https://localhost:8080/"
        },
        "id": "WDLAmxIfVVO0",
        "outputId": "59198227-a4cf-4fbd-f9a4-5b9017b69aa1"
      },
      "execution_count": 85,
      "outputs": [
        {
          "output_type": "stream",
          "name": "stdout",
          "text": [
            "{'microsoft', 'apple', 'banana', 'cherry', 'google'}\n"
          ]
        }
      ]
    },
    {
      "cell_type": "code",
      "source": [
        "x = {\"a\", \"b\", \"c\"}\n",
        "y = {\"f\", \"d\", \"a\"}\n",
        "z = {\"c\", \"d\", \"e\"}\n",
        "\n",
        "result = x.union(y, z)\n",
        "\n",
        "print(result)"
      ],
      "metadata": {
        "colab": {
          "base_uri": "https://localhost:8080/"
        },
        "id": "_0H2C2y2Vig0",
        "outputId": "77782f8d-bc97-4147-89da-b7ba1ba1002a"
      },
      "execution_count": 86,
      "outputs": [
        {
          "output_type": "stream",
          "name": "stdout",
          "text": [
            "{'e', 'a', 'b', 'f', 'd', 'c'}\n"
          ]
        }
      ]
    },
    {
      "cell_type": "code",
      "source": [
        "x = {\"a\", \"b\", \"c\"}\n",
        "y = {\"c\", \"d\", \"e\"}\n",
        "z = {\"f\", \"g\", \"c\"}\n",
        "\n",
        "result = x | y | z\n",
        "\n",
        "print(result)"
      ],
      "metadata": {
        "colab": {
          "base_uri": "https://localhost:8080/"
        },
        "id": "8_ajBR-AVnBk",
        "outputId": "405984f6-13ab-446d-de36-fff41ad6fcc9"
      },
      "execution_count": 87,
      "outputs": [
        {
          "output_type": "stream",
          "name": "stdout",
          "text": [
            "{'a', 'd', 'g', 'b', 'f', 'e', 'c'}\n"
          ]
        }
      ]
    },
    {
      "cell_type": "markdown",
      "source": [
        "*update()*\t|=\tUpdate the set with the union of this set and others"
      ],
      "metadata": {
        "id": "NIplGIIlVumC"
      }
    },
    {
      "cell_type": "code",
      "source": [
        "x = {\"apple\", \"banana\", \"cherry\"}\n",
        "y = {\"google\", \"microsoft\", \"apple\"}\n",
        "\n",
        "x.update(y)\n",
        "\n",
        "print(x)"
      ],
      "metadata": {
        "colab": {
          "base_uri": "https://localhost:8080/"
        },
        "id": "LraVkxlRVpSM",
        "outputId": "68a5164c-071f-4e4d-cc04-7d601464a8b0"
      },
      "execution_count": 88,
      "outputs": [
        {
          "output_type": "stream",
          "name": "stdout",
          "text": [
            "{'microsoft', 'apple', 'banana', 'cherry', 'google'}\n"
          ]
        }
      ]
    },
    {
      "cell_type": "markdown",
      "source": [
        "Definition and Usage\n",
        "The *update()* method updates the current set, by adding items from another set (or any other iterable).\n",
        "\n",
        "If an item is present in both sets, only one appearance of this item will be present in the updated set.\n",
        "\n",
        "As a shortcut, you can use the |= operator instead, see example below.\n",
        "\n",
        "Syntax\n",
        "*set.update(set1, set2 ...)*\n",
        "Parameter Values\n",
        "Parameter\tDescription\n",
        "set1\tRequired. The iterable insert into the current set\n",
        "set2\tOptional. More iterables to insert into the current set.\n",
        "You can insert as many iterables as you like.\n",
        "Separate each iterable with a comma.\n",
        "Shorter Syntax\n",
        "set |= set1 | set2 ...\n",
        "Parameter Values\n",
        "Parameter\tDescription\n",
        "set1\tRequired. The set to insert into the current set.\n",
        "set2\tOptional. More sets to insert into the current set.\n",
        "You can insert as many sets you like.\n",
        "Separate the sets with | (pipe operator).\n",
        "See examples below.\n"
      ],
      "metadata": {
        "id": "xG2k7VSMV45j"
      }
    },
    {
      "cell_type": "code",
      "source": [
        "x = {\"apple\", \"banana\", \"cherry\"}\n",
        "y = {\"google\", \"microsoft\", \"apple\"}\n",
        "\n",
        "x |= y\n",
        "\n",
        "print(x)"
      ],
      "metadata": {
        "colab": {
          "base_uri": "https://localhost:8080/"
        },
        "id": "bZG7-YfYVyIv",
        "outputId": "4faa135e-fd79-43fc-d071-df1b4daff778"
      },
      "execution_count": 89,
      "outputs": [
        {
          "output_type": "stream",
          "name": "stdout",
          "text": [
            "{'microsoft', 'apple', 'banana', 'cherry', 'google'}\n"
          ]
        }
      ]
    },
    {
      "cell_type": "code",
      "source": [
        "x = {\"apple\", \"banana\", \"cherry\"}\n",
        "y = {\"google\", \"microsoft\", \"apple\"}\n",
        "z = {\"cherry\", \"micra\", \"bluebird\"}\n",
        "\n",
        "x.update(y, z)\n",
        "\n",
        "print(x)"
      ],
      "metadata": {
        "colab": {
          "base_uri": "https://localhost:8080/"
        },
        "id": "NmaSMLndV-hH",
        "outputId": "e1caae05-c00e-46f7-8fcb-7fef3d40af1c"
      },
      "execution_count": 90,
      "outputs": [
        {
          "output_type": "stream",
          "name": "stdout",
          "text": [
            "{'microsoft', 'apple', 'banana', 'micra', 'cherry', 'bluebird', 'google'}\n"
          ]
        }
      ]
    },
    {
      "cell_type": "code",
      "source": [
        "x = {\"apple\", \"banana\", \"cherry\"}\n",
        "y = {\"google\", \"microsoft\", \"apple\"}\n",
        "z = {\"cherry\", \"micra\", \"bluebird\"}\n",
        "\n",
        "x |= y | z\n",
        "\n",
        "print(x)"
      ],
      "metadata": {
        "colab": {
          "base_uri": "https://localhost:8080/"
        },
        "id": "NfS-DF46WBLO",
        "outputId": "b9f590eb-6804-4eee-99f9-b4c9e952c1c3"
      },
      "execution_count": 91,
      "outputs": [
        {
          "output_type": "stream",
          "name": "stdout",
          "text": [
            "{'banana', 'micra', 'cherry', 'microsoft', 'google', 'apple', 'bluebird'}\n"
          ]
        }
      ]
    }
  ]
}