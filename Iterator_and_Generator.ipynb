{
  "nbformat": 4,
  "nbformat_minor": 0,
  "metadata": {
    "colab": {
      "provenance": [],
      "authorship_tag": "ABX9TyOtCqiisQKS9S3x8w1cUl3F",
      "include_colab_link": true
    },
    "kernelspec": {
      "name": "python3",
      "display_name": "Python 3"
    },
    "language_info": {
      "name": "python"
    }
  },
  "cells": [
    {
      "cell_type": "markdown",
      "metadata": {
        "id": "view-in-github",
        "colab_type": "text"
      },
      "source": [
        "<a href=\"https://colab.research.google.com/github/Davron030901/Daily_python/blob/main/Iterator_and_Generator.ipynb\" target=\"_parent\"><img src=\"https://colab.research.google.com/assets/colab-badge.svg\" alt=\"Open In Colab\"/></a>"
      ]
    },
    {
      "cell_type": "code",
      "source": [
        "class MyGenerator:\n",
        "  def __init__(self,son):\n",
        "    self.n = 0\n",
        "    self.son=son\n",
        "  def __iter__(self):\n",
        "    return self\n",
        "\n",
        "  def __next__(self):\n",
        "    if self.n <= self.son:\n",
        "      value = self.n\n",
        "      self.n += 1\n",
        "      return value\n",
        "    else:\n",
        "      raise StopIteration\n",
        "\n",
        "\n",
        "my_generator = MyGenerator(10)\n",
        "\n",
        "for value in my_generator:\n",
        "  print(value)"
      ],
      "metadata": {
        "colab": {
          "base_uri": "https://localhost:8080/"
        },
        "id": "8G8rAc6vUsW5",
        "outputId": "c02d8eb3-cdb1-45a8-be62-93cb7f162fc5"
      },
      "execution_count": 6,
      "outputs": [
        {
          "output_type": "stream",
          "name": "stdout",
          "text": [
            "0\n",
            "1\n",
            "2\n",
            "3\n",
            "4\n",
            "5\n",
            "6\n",
            "7\n",
            "8\n",
            "9\n",
            "10\n"
          ]
        }
      ]
    },
    {
      "cell_type": "code",
      "source": [
        "def my_generator(son):\n",
        "  n = 0\n",
        "  while n <= son:\n",
        "    yield n\n",
        "    n += 1\n",
        "\n",
        "for value in my_generator(10):\n",
        "  print(value)"
      ],
      "metadata": {
        "colab": {
          "base_uri": "https://localhost:8080/"
        },
        "id": "GDDrZ5pFVMGy",
        "outputId": "5ad3189d-f8e2-45b9-f2b9-db23af9d71fa"
      },
      "execution_count": 7,
      "outputs": [
        {
          "output_type": "stream",
          "name": "stdout",
          "text": [
            "0\n",
            "1\n",
            "2\n",
            "3\n",
            "4\n",
            "5\n",
            "6\n",
            "7\n",
            "8\n",
            "9\n",
            "10\n"
          ]
        }
      ]
    },
    {
      "cell_type": "code",
      "source": [],
      "metadata": {
        "id": "UB4mDLeOV0z8"
      },
      "execution_count": null,
      "outputs": []
    }
  ]
}